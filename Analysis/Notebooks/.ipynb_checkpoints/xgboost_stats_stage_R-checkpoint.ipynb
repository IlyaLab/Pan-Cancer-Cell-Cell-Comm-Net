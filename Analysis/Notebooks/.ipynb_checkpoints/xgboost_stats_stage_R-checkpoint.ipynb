{
 "cells": [
  {
   "cell_type": "code",
   "execution_count": 1,
   "metadata": {
    "scrolled": true
   },
   "outputs": [
    {
     "name": "stderr",
     "output_type": "stream",
     "text": [
      "\n",
      "Attaching package: ‘dplyr’\n",
      "\n",
      "\n",
      "The following objects are masked from ‘package:stats’:\n",
      "\n",
      "    filter, lag\n",
      "\n",
      "\n",
      "The following objects are masked from ‘package:base’:\n",
      "\n",
      "    intersect, setdiff, setequal, union\n",
      "\n",
      "\n",
      "Loading required package: lattice\n",
      "\n",
      "Loading required package: ggplot2\n",
      "\n",
      "\n",
      "Attaching package: ‘igraph’\n",
      "\n",
      "\n",
      "The following object is masked from ‘package:tidyr’:\n",
      "\n",
      "    crossing\n",
      "\n",
      "\n",
      "The following objects are masked from ‘package:dplyr’:\n",
      "\n",
      "    as_data_frame, groups, union\n",
      "\n",
      "\n",
      "The following objects are masked from ‘package:stats’:\n",
      "\n",
      "    decompose, spectrum\n",
      "\n",
      "\n",
      "The following object is masked from ‘package:base’:\n",
      "\n",
      "    union\n",
      "\n",
      "\n"
     ]
    }
   ],
   "source": [
    "library(dplyr)\n",
    "library(stringr)\n",
    "library(readr)\n",
    "library(tidyr)\n",
    "library(caret)\n",
    "library(ggplot2)\n",
    "library(igraph)\n",
    "library(ggraph)"
   ]
  },
  {
   "cell_type": "code",
   "execution_count": 2,
   "metadata": {},
   "outputs": [
    {
     "name": "stderr",
     "output_type": "stream",
     "text": [
      "Parsed with column specification:\n",
      "cols(\n",
      "  Study = \u001b[31mcol_character()\u001b[39m,\n",
      "  EdgeID = \u001b[32mcol_double()\u001b[39m,\n",
      "  LCell = \u001b[31mcol_character()\u001b[39m,\n",
      "  Ligand = \u001b[31mcol_character()\u001b[39m,\n",
      "  Receptor = \u001b[31mcol_character()\u001b[39m,\n",
      "  RCell = \u001b[31mcol_character()\u001b[39m,\n",
      "  S1 = \u001b[32mcol_double()\u001b[39m,\n",
      "  med_diff = \u001b[32mcol_double()\u001b[39m,\n",
      "  AliquotBarcode = \u001b[31mcol_character()\u001b[39m,\n",
      "  PatientBarcode = \u001b[31mcol_character()\u001b[39m,\n",
      "  EdgeWt = \u001b[32mcol_double()\u001b[39m,\n",
      "  Stage = \u001b[32mcol_double()\u001b[39m\n",
      ")\n",
      "\n"
     ]
    }
   ],
   "source": [
    "# this is pulled from the BigQuery weights table\n",
    "pfidat <- read_csv('../Data/manuscript-studies-stage-test-DWE-weights.csv.gz')"
   ]
  },
  {
   "cell_type": "code",
   "execution_count": 3,
   "metadata": {},
   "outputs": [
    {
     "data": {
      "text/html": [
       "<table>\n",
       "<caption>A grouped_df: 4 × 2</caption>\n",
       "<thead>\n",
       "\t<tr><th scope=col>Study</th><th scope=col>n</th></tr>\n",
       "\t<tr><th scope=col>&lt;chr&gt;</th><th scope=col>&lt;int&gt;</th></tr>\n",
       "</thead>\n",
       "<tbody>\n",
       "\t<tr><td>COAD</td><td>281</td></tr>\n",
       "\t<tr><td>READ</td><td> 88</td></tr>\n",
       "\t<tr><td>SKCM</td><td>102</td></tr>\n",
       "\t<tr><td>STAD</td><td>389</td></tr>\n",
       "</tbody>\n",
       "</table>\n"
      ],
      "text/latex": [
       "A grouped\\_df: 4 × 2\n",
       "\\begin{tabular}{ll}\n",
       " Study & n\\\\\n",
       " <chr> & <int>\\\\\n",
       "\\hline\n",
       "\t COAD & 281\\\\\n",
       "\t READ &  88\\\\\n",
       "\t SKCM & 102\\\\\n",
       "\t STAD & 389\\\\\n",
       "\\end{tabular}\n"
      ],
      "text/markdown": [
       "\n",
       "A grouped_df: 4 × 2\n",
       "\n",
       "| Study &lt;chr&gt; | n &lt;int&gt; |\n",
       "|---|---|\n",
       "| COAD | 281 |\n",
       "| READ |  88 |\n",
       "| SKCM | 102 |\n",
       "| STAD | 389 |\n",
       "\n"
      ],
      "text/plain": [
       "  Study n  \n",
       "1 COAD  281\n",
       "2 READ   88\n",
       "3 SKCM  102\n",
       "4 STAD  389"
      ]
     },
     "metadata": {},
     "output_type": "display_data"
    }
   ],
   "source": [
    "\n",
    "studies <- pfidat %>% dplyr::select(PatientBarcode, Study) %>% unique() %>% group_by(Study) %>% count()        # now required with changes to dplyr::count()\n",
    "\n",
    "studies  # coad, read, skcm, stad\n",
    "         # 1     2     3     4   \n"
   ]
  },
  {
   "cell_type": "code",
   "execution_count": 4,
   "metadata": {},
   "outputs": [
    {
     "data": {
      "text/html": [
       "<table>\n",
       "<caption>A tibble: 6 × 12</caption>\n",
       "<thead>\n",
       "\t<tr><th scope=col>Study</th><th scope=col>EdgeID</th><th scope=col>LCell</th><th scope=col>Ligand</th><th scope=col>Receptor</th><th scope=col>RCell</th><th scope=col>S1</th><th scope=col>med_diff</th><th scope=col>AliquotBarcode</th><th scope=col>PatientBarcode</th><th scope=col>EdgeWt</th><th scope=col>Stage</th></tr>\n",
       "\t<tr><th scope=col>&lt;chr&gt;</th><th scope=col>&lt;dbl&gt;</th><th scope=col>&lt;chr&gt;</th><th scope=col>&lt;chr&gt;</th><th scope=col>&lt;chr&gt;</th><th scope=col>&lt;chr&gt;</th><th scope=col>&lt;dbl&gt;</th><th scope=col>&lt;dbl&gt;</th><th scope=col>&lt;chr&gt;</th><th scope=col>&lt;chr&gt;</th><th scope=col>&lt;dbl&gt;</th><th scope=col>&lt;dbl&gt;</th></tr>\n",
       "</thead>\n",
       "<tbody>\n",
       "\t<tr><td>SKCM</td><td>530780</td><td>Macrophages M1</td><td>CLEC11A</td><td>KIT   </td><td>GMP        </td><td>-0.3103393</td><td>-0.1803803</td><td>TCGA-EB-A4OZ-01A-12R-A266-07</td><td>TCGA-EB-A4OZ</td><td>0.348374206</td><td>2</td></tr>\n",
       "\t<tr><td>SKCM</td><td>682374</td><td>MSC           </td><td>APOE   </td><td>LRP8  </td><td>GMP        </td><td>-0.3505004</td><td>-0.2201989</td><td>TCGA-EB-A57M-01A-51R-A311-07</td><td>TCGA-EB-A57M</td><td>0.183865670</td><td>2</td></tr>\n",
       "\t<tr><td>SKCM</td><td>530933</td><td>Macrophages M1</td><td>SEMA7A </td><td>PLXNC1</td><td>GMP        </td><td>-0.3065283</td><td>-0.1882361</td><td>TCGA-BF-A5ES-01A-11R-A27Q-07</td><td>TCGA-BF-A5ES</td><td>0.392274059</td><td>1</td></tr>\n",
       "\t<tr><td>SKCM</td><td>400213</td><td>GMP           </td><td>PTDSS1 </td><td>JMJD6 </td><td>Th1 cells  </td><td>-0.2829959</td><td>-0.1129384</td><td>TCGA-EB-A3XF-01A-31R-A239-07</td><td>TCGA-EB-A3XF</td><td>0.001055984</td><td>1</td></tr>\n",
       "\t<tr><td>SKCM</td><td>682399</td><td>MSC           </td><td>CLEC11A</td><td>KIT   </td><td>GMP        </td><td>-0.3250709</td><td>-0.2068404</td><td>TCGA-EB-A6QZ-01A-12R-A32P-07</td><td>TCGA-EB-A6QZ</td><td>0.031373844</td><td>1</td></tr>\n",
       "\t<tr><td>SKCM</td><td>396990</td><td>GMP           </td><td>CLEC11A</td><td>KIT   </td><td>Melanocytes</td><td>-0.3285728</td><td>-0.2302917</td><td>TCGA-FW-A5DX-01A-11R-A27Q-07</td><td>TCGA-FW-A5DX</td><td>0.013626498</td><td>2</td></tr>\n",
       "</tbody>\n",
       "</table>\n"
      ],
      "text/latex": [
       "A tibble: 6 × 12\n",
       "\\begin{tabular}{llllllllllll}\n",
       " Study & EdgeID & LCell & Ligand & Receptor & RCell & S1 & med\\_diff & AliquotBarcode & PatientBarcode & EdgeWt & Stage\\\\\n",
       " <chr> & <dbl> & <chr> & <chr> & <chr> & <chr> & <dbl> & <dbl> & <chr> & <chr> & <dbl> & <dbl>\\\\\n",
       "\\hline\n",
       "\t SKCM & 530780 & Macrophages M1 & CLEC11A & KIT    & GMP         & -0.3103393 & -0.1803803 & TCGA-EB-A4OZ-01A-12R-A266-07 & TCGA-EB-A4OZ & 0.348374206 & 2\\\\\n",
       "\t SKCM & 682374 & MSC            & APOE    & LRP8   & GMP         & -0.3505004 & -0.2201989 & TCGA-EB-A57M-01A-51R-A311-07 & TCGA-EB-A57M & 0.183865670 & 2\\\\\n",
       "\t SKCM & 530933 & Macrophages M1 & SEMA7A  & PLXNC1 & GMP         & -0.3065283 & -0.1882361 & TCGA-BF-A5ES-01A-11R-A27Q-07 & TCGA-BF-A5ES & 0.392274059 & 1\\\\\n",
       "\t SKCM & 400213 & GMP            & PTDSS1  & JMJD6  & Th1 cells   & -0.2829959 & -0.1129384 & TCGA-EB-A3XF-01A-31R-A239-07 & TCGA-EB-A3XF & 0.001055984 & 1\\\\\n",
       "\t SKCM & 682399 & MSC            & CLEC11A & KIT    & GMP         & -0.3250709 & -0.2068404 & TCGA-EB-A6QZ-01A-12R-A32P-07 & TCGA-EB-A6QZ & 0.031373844 & 1\\\\\n",
       "\t SKCM & 396990 & GMP            & CLEC11A & KIT    & Melanocytes & -0.3285728 & -0.2302917 & TCGA-FW-A5DX-01A-11R-A27Q-07 & TCGA-FW-A5DX & 0.013626498 & 2\\\\\n",
       "\\end{tabular}\n"
      ],
      "text/markdown": [
       "\n",
       "A tibble: 6 × 12\n",
       "\n",
       "| Study &lt;chr&gt; | EdgeID &lt;dbl&gt; | LCell &lt;chr&gt; | Ligand &lt;chr&gt; | Receptor &lt;chr&gt; | RCell &lt;chr&gt; | S1 &lt;dbl&gt; | med_diff &lt;dbl&gt; | AliquotBarcode &lt;chr&gt; | PatientBarcode &lt;chr&gt; | EdgeWt &lt;dbl&gt; | Stage &lt;dbl&gt; |\n",
       "|---|---|---|---|---|---|---|---|---|---|---|---|\n",
       "| SKCM | 530780 | Macrophages M1 | CLEC11A | KIT    | GMP         | -0.3103393 | -0.1803803 | TCGA-EB-A4OZ-01A-12R-A266-07 | TCGA-EB-A4OZ | 0.348374206 | 2 |\n",
       "| SKCM | 682374 | MSC            | APOE    | LRP8   | GMP         | -0.3505004 | -0.2201989 | TCGA-EB-A57M-01A-51R-A311-07 | TCGA-EB-A57M | 0.183865670 | 2 |\n",
       "| SKCM | 530933 | Macrophages M1 | SEMA7A  | PLXNC1 | GMP         | -0.3065283 | -0.1882361 | TCGA-BF-A5ES-01A-11R-A27Q-07 | TCGA-BF-A5ES | 0.392274059 | 1 |\n",
       "| SKCM | 400213 | GMP            | PTDSS1  | JMJD6  | Th1 cells   | -0.2829959 | -0.1129384 | TCGA-EB-A3XF-01A-31R-A239-07 | TCGA-EB-A3XF | 0.001055984 | 1 |\n",
       "| SKCM | 682399 | MSC            | CLEC11A | KIT    | GMP         | -0.3250709 | -0.2068404 | TCGA-EB-A6QZ-01A-12R-A32P-07 | TCGA-EB-A6QZ | 0.031373844 | 1 |\n",
       "| SKCM | 396990 | GMP            | CLEC11A | KIT    | Melanocytes | -0.3285728 | -0.2302917 | TCGA-FW-A5DX-01A-11R-A27Q-07 | TCGA-FW-A5DX | 0.013626498 | 2 |\n",
       "\n"
      ],
      "text/plain": [
       "  Study EdgeID LCell          Ligand  Receptor RCell       S1        \n",
       "1 SKCM  530780 Macrophages M1 CLEC11A KIT      GMP         -0.3103393\n",
       "2 SKCM  682374 MSC            APOE    LRP8     GMP         -0.3505004\n",
       "3 SKCM  530933 Macrophages M1 SEMA7A  PLXNC1   GMP         -0.3065283\n",
       "4 SKCM  400213 GMP            PTDSS1  JMJD6    Th1 cells   -0.2829959\n",
       "5 SKCM  682399 MSC            CLEC11A KIT      GMP         -0.3250709\n",
       "6 SKCM  396990 GMP            CLEC11A KIT      Melanocytes -0.3285728\n",
       "  med_diff   AliquotBarcode               PatientBarcode EdgeWt      Stage\n",
       "1 -0.1803803 TCGA-EB-A4OZ-01A-12R-A266-07 TCGA-EB-A4OZ   0.348374206 2    \n",
       "2 -0.2201989 TCGA-EB-A57M-01A-51R-A311-07 TCGA-EB-A57M   0.183865670 2    \n",
       "3 -0.1882361 TCGA-BF-A5ES-01A-11R-A27Q-07 TCGA-BF-A5ES   0.392274059 1    \n",
       "4 -0.1129384 TCGA-EB-A3XF-01A-31R-A239-07 TCGA-EB-A3XF   0.001055984 1    \n",
       "5 -0.2068404 TCGA-EB-A6QZ-01A-12R-A32P-07 TCGA-EB-A6QZ   0.031373844 1    \n",
       "6 -0.2302917 TCGA-FW-A5DX-01A-11R-A27Q-07 TCGA-FW-A5DX   0.013626498 2    "
      ]
     },
     "metadata": {},
     "output_type": "display_data"
    }
   ],
   "source": [
    "\n",
    "# selecting one tissue type\n",
    "selectedStudy <- studies$Study[3]\n",
    "#\n",
    "dat <- pfidat %>% dplyr::filter(Study == selectedStudy)\n",
    "head(dat)\n"
   ]
  },
  {
   "cell_type": "code",
   "execution_count": 5,
   "metadata": {},
   "outputs": [
    {
     "data": {
      "text/html": [
       "<table>\n",
       "<caption>A grouped_df: 3 × 2</caption>\n",
       "<thead>\n",
       "\t<tr><th scope=col>Stage</th><th scope=col>n</th></tr>\n",
       "\t<tr><th scope=col>&lt;dbl&gt;</th><th scope=col>&lt;int&gt;</th></tr>\n",
       "</thead>\n",
       "<tbody>\n",
       "\t<tr><td> 1</td><td>68</td></tr>\n",
       "\t<tr><td> 2</td><td>29</td></tr>\n",
       "\t<tr><td>NA</td><td> 5</td></tr>\n",
       "</tbody>\n",
       "</table>\n"
      ],
      "text/latex": [
       "A grouped\\_df: 3 × 2\n",
       "\\begin{tabular}{ll}\n",
       " Stage & n\\\\\n",
       " <dbl> & <int>\\\\\n",
       "\\hline\n",
       "\t  1 & 68\\\\\n",
       "\t  2 & 29\\\\\n",
       "\t NA &  5\\\\\n",
       "\\end{tabular}\n"
      ],
      "text/markdown": [
       "\n",
       "A grouped_df: 3 × 2\n",
       "\n",
       "| Stage &lt;dbl&gt; | n &lt;int&gt; |\n",
       "|---|---|\n",
       "|  1 | 68 |\n",
       "|  2 | 29 |\n",
       "| NA |  5 |\n",
       "\n"
      ],
      "text/plain": [
       "  Stage n \n",
       "1  1    68\n",
       "2  2    29\n",
       "3 NA     5"
      ]
     },
     "metadata": {},
     "output_type": "display_data"
    }
   ],
   "source": [
    "\n",
    "# counting samples\n",
    "\n",
    "dat %>% dplyr::select(PatientBarcode, Stage) %>% unique() %>% group_by(Stage) %>% count()        # now required with changes to dplyr::count()\n"
   ]
  },
  {
   "cell_type": "code",
   "execution_count": 6,
   "metadata": {},
   "outputs": [
    {
     "data": {
      "text/html": [
       "221"
      ],
      "text/latex": [
       "221"
      ],
      "text/markdown": [
       "221"
      ],
      "text/plain": [
       "[1] 221"
      ]
     },
     "metadata": {},
     "output_type": "display_data"
    }
   ],
   "source": [
    "length(unique(dat$EdgeID))"
   ]
  },
  {
   "cell_type": "code",
   "execution_count": 7,
   "metadata": {},
   "outputs": [
    {
     "data": {
      "text/html": [
       "<style>\n",
       ".list-inline {list-style: none; margin:0; padding: 0}\n",
       ".list-inline>li {display: inline-block}\n",
       ".list-inline>li:not(:last-child)::after {content: \"\\00b7\"; padding: 0 .5ex}\n",
       "</style>\n",
       "<ol class=list-inline><li>102</li><li>222</li></ol>\n"
      ],
      "text/latex": [
       "\\begin{enumerate*}\n",
       "\\item 102\n",
       "\\item 222\n",
       "\\end{enumerate*}\n"
      ],
      "text/markdown": [
       "1. 102\n",
       "2. 222\n",
       "\n",
       "\n"
      ],
      "text/plain": [
       "[1] 102 222"
      ]
     },
     "metadata": {},
     "output_type": "display_data"
    },
    {
     "data": {
      "text/html": [
       "<table>\n",
       "<caption>A grouped_df: 5 × 5</caption>\n",
       "<thead>\n",
       "\t<tr><th scope=col>PatientBarcode</th><th scope=col>44772</th><th scope=col>44814</th><th scope=col>44841</th><th scope=col>44866</th></tr>\n",
       "\t<tr><th scope=col>&lt;chr&gt;</th><th scope=col>&lt;dbl&gt;</th><th scope=col>&lt;dbl&gt;</th><th scope=col>&lt;dbl&gt;</th><th scope=col>&lt;dbl&gt;</th></tr>\n",
       "</thead>\n",
       "<tbody>\n",
       "\t<tr><td>TCGA-BF-A1PU</td><td>0.225775832</td><td>0.046761798</td><td>0.234352103</td><td>0.196900003</td></tr>\n",
       "\t<tr><td>TCGA-BF-A1PV</td><td>0.013255188</td><td>0.005799408</td><td>0.012924950</td><td>0.004700531</td></tr>\n",
       "\t<tr><td>TCGA-BF-A1PX</td><td>0.175325705</td><td>0.220636530</td><td>0.236373613</td><td>0.239589994</td></tr>\n",
       "\t<tr><td>TCGA-BF-A1PZ</td><td>0.003905655</td><td>0.003714597</td><td>0.005417905</td><td>0.004814435</td></tr>\n",
       "\t<tr><td>TCGA-BF-A1Q0</td><td>0.002696061</td><td>0.003220587</td><td>0.002658979</td><td>0.003807141</td></tr>\n",
       "</tbody>\n",
       "</table>\n"
      ],
      "text/latex": [
       "A grouped\\_df: 5 × 5\n",
       "\\begin{tabular}{lllll}\n",
       " PatientBarcode & 44772 & 44814 & 44841 & 44866\\\\\n",
       " <chr> & <dbl> & <dbl> & <dbl> & <dbl>\\\\\n",
       "\\hline\n",
       "\t TCGA-BF-A1PU & 0.225775832 & 0.046761798 & 0.234352103 & 0.196900003\\\\\n",
       "\t TCGA-BF-A1PV & 0.013255188 & 0.005799408 & 0.012924950 & 0.004700531\\\\\n",
       "\t TCGA-BF-A1PX & 0.175325705 & 0.220636530 & 0.236373613 & 0.239589994\\\\\n",
       "\t TCGA-BF-A1PZ & 0.003905655 & 0.003714597 & 0.005417905 & 0.004814435\\\\\n",
       "\t TCGA-BF-A1Q0 & 0.002696061 & 0.003220587 & 0.002658979 & 0.003807141\\\\\n",
       "\\end{tabular}\n"
      ],
      "text/markdown": [
       "\n",
       "A grouped_df: 5 × 5\n",
       "\n",
       "| PatientBarcode &lt;chr&gt; | 44772 &lt;dbl&gt; | 44814 &lt;dbl&gt; | 44841 &lt;dbl&gt; | 44866 &lt;dbl&gt; |\n",
       "|---|---|---|---|---|\n",
       "| TCGA-BF-A1PU | 0.225775832 | 0.046761798 | 0.234352103 | 0.196900003 |\n",
       "| TCGA-BF-A1PV | 0.013255188 | 0.005799408 | 0.012924950 | 0.004700531 |\n",
       "| TCGA-BF-A1PX | 0.175325705 | 0.220636530 | 0.236373613 | 0.239589994 |\n",
       "| TCGA-BF-A1PZ | 0.003905655 | 0.003714597 | 0.005417905 | 0.004814435 |\n",
       "| TCGA-BF-A1Q0 | 0.002696061 | 0.003220587 | 0.002658979 | 0.003807141 |\n",
       "\n"
      ],
      "text/plain": [
       "  PatientBarcode 44772       44814       44841       44866      \n",
       "1 TCGA-BF-A1PU   0.225775832 0.046761798 0.234352103 0.196900003\n",
       "2 TCGA-BF-A1PV   0.013255188 0.005799408 0.012924950 0.004700531\n",
       "3 TCGA-BF-A1PX   0.175325705 0.220636530 0.236373613 0.239589994\n",
       "4 TCGA-BF-A1PZ   0.003905655 0.003714597 0.005417905 0.004814435\n",
       "5 TCGA-BF-A1Q0   0.002696061 0.003220587 0.002658979 0.003807141"
      ]
     },
     "metadata": {},
     "output_type": "display_data"
    }
   ],
   "source": [
    "# making a matrix\n",
    "dat2 <- dat %>% dplyr::select(PatientBarcode, EdgeID, EdgeWt) %>% group_by(PatientBarcode, EdgeID) %>% summarise(EdgeWt = mean(EdgeWt))\n",
    "datmat <- pivot_wider(data = dat2, names_from = EdgeID, values_from = EdgeWt)\n",
    "dim(datmat)\n",
    "datmat[1:5,1:5]"
   ]
  },
  {
   "cell_type": "code",
   "execution_count": 8,
   "metadata": {},
   "outputs": [],
   "source": [
    "\n",
    "# to pull out the phenotype\n",
    "labels <- sapply(datmat$PatientBarcode, function(a) (dat %>% dplyr::filter(PatientBarcode == a) %>% dplyr::select(Stage) %>% pull())[1])\n",
    "# and match the datmat partient barcode order\n",
    "labels <- labels[datmat$PatientBarcode]\n",
    "labels <- sapply(labels, function(a) paste0('stage_',a))\n",
    "                 "
   ]
  },
  {
   "cell_type": "code",
   "execution_count": null,
   "metadata": {},
   "outputs": [],
   "source": []
  },
  {
   "cell_type": "code",
   "execution_count": 9,
   "metadata": {},
   "outputs": [
    {
     "data": {
      "text/html": [
       "<table>\n",
       "<caption>A data.frame: 6 × 2</caption>\n",
       "<thead>\n",
       "\t<tr><th></th><th scope=col>Pheno</th><th scope=col>Edge1</th></tr>\n",
       "\t<tr><th></th><th scope=col>&lt;fct&gt;</th><th scope=col>&lt;dbl&gt;</th></tr>\n",
       "</thead>\n",
       "<tbody>\n",
       "\t<tr><th scope=row>TCGA-BF-A1PU</th><td>stage_1</td><td>0.196900003</td></tr>\n",
       "\t<tr><th scope=row>TCGA-BF-A1PV</th><td>stage_1</td><td>0.004700531</td></tr>\n",
       "\t<tr><th scope=row>TCGA-BF-A1PX</th><td>stage_2</td><td>0.239589994</td></tr>\n",
       "\t<tr><th scope=row>TCGA-BF-A1PZ</th><td>stage_1</td><td>0.004814435</td></tr>\n",
       "\t<tr><th scope=row>TCGA-BF-A1Q0</th><td>stage_1</td><td>0.003807141</td></tr>\n",
       "\t<tr><th scope=row>TCGA-BF-A3DJ</th><td>stage_2</td><td>0.124827809</td></tr>\n",
       "</tbody>\n",
       "</table>\n"
      ],
      "text/latex": [
       "A data.frame: 6 × 2\n",
       "\\begin{tabular}{r|ll}\n",
       "  & Pheno & Edge1\\\\\n",
       "  & <fct> & <dbl>\\\\\n",
       "\\hline\n",
       "\tTCGA-BF-A1PU & stage\\_1 & 0.196900003\\\\\n",
       "\tTCGA-BF-A1PV & stage\\_1 & 0.004700531\\\\\n",
       "\tTCGA-BF-A1PX & stage\\_2 & 0.239589994\\\\\n",
       "\tTCGA-BF-A1PZ & stage\\_1 & 0.004814435\\\\\n",
       "\tTCGA-BF-A1Q0 & stage\\_1 & 0.003807141\\\\\n",
       "\tTCGA-BF-A3DJ & stage\\_2 & 0.124827809\\\\\n",
       "\\end{tabular}\n"
      ],
      "text/markdown": [
       "\n",
       "A data.frame: 6 × 2\n",
       "\n",
       "| <!--/--> | Pheno &lt;fct&gt; | Edge1 &lt;dbl&gt; |\n",
       "|---|---|---|\n",
       "| TCGA-BF-A1PU | stage_1 | 0.196900003 |\n",
       "| TCGA-BF-A1PV | stage_1 | 0.004700531 |\n",
       "| TCGA-BF-A1PX | stage_2 | 0.239589994 |\n",
       "| TCGA-BF-A1PZ | stage_1 | 0.004814435 |\n",
       "| TCGA-BF-A1Q0 | stage_1 | 0.003807141 |\n",
       "| TCGA-BF-A3DJ | stage_2 | 0.124827809 |\n",
       "\n"
      ],
      "text/plain": [
       "             Pheno   Edge1      \n",
       "TCGA-BF-A1PU stage_1 0.196900003\n",
       "TCGA-BF-A1PV stage_1 0.004700531\n",
       "TCGA-BF-A1PX stage_2 0.239589994\n",
       "TCGA-BF-A1PZ stage_1 0.004814435\n",
       "TCGA-BF-A1Q0 stage_1 0.003807141\n",
       "TCGA-BF-A3DJ stage_2 0.124827809"
      ]
     },
     "metadata": {},
     "output_type": "display_data"
    },
    {
     "data": {
      "text/html": [
       "&lt;NA&gt;"
      ],
      "text/latex": [
       "<NA>"
      ],
      "text/markdown": [
       "&lt;NA&gt;"
      ],
      "text/plain": [
       "[1] NA"
      ]
     },
     "metadata": {},
     "output_type": "display_data"
    },
    {
     "data": {
      "image/png": "[encoded data removed]",
      "text/plain": [
       "plot without title"
      ]
     },
     "metadata": {
      "image/png": {
       "height": 420,
       "width": 420
      },
      "text/plain": {
       "height": 420,
       "width": 420
      }
     },
     "output_type": "display_data"
    }
   ],
   "source": [
    "\n",
    "plotdat <- data.frame(Pheno=labels, Edge1=as.numeric(datmat[,5] %>% pull()))\n",
    "head(plotdat)\n",
    "qplot(data=plotdat, x=Pheno, y=Edge1, geom='boxplot', fill=as.factor(Pheno))\n",
    "median(as.numeric(plotdat$Edge1[plotdat$Pheno == 1]), na.rm = T)  - median(as.numeric(plotdat$Edge1[plotdat$Pheno == 2]), na.rm = T)\n"
   ]
  },
  {
   "cell_type": "code",
   "execution_count": 10,
   "metadata": {},
   "outputs": [],
   "source": [
    "\n",
    "# data prep #\n",
    "x <- as.data.frame(datmat[,-1])     # \n",
    "x$Phenotype <- labels             # probably don't need this since it goes to factor\n",
    "x <- x[x$Phenotype != 'stage_NA', ] # remove NAs\n",
    "colnames(x) <- c(sapply(colnames(x)[1:(ncol(x)-1)], function(a) paste0('edge_',a)), 'Phenotype')\n",
    "x$Phenotype <- as.factor(x$Phenotype)\n",
    "x[is.na(x)] <- 0\n",
    "                        "
   ]
  },
  {
   "cell_type": "code",
   "execution_count": 11,
   "metadata": {},
   "outputs": [
    {
     "data": {
      "text/html": [
       "<table>\n",
       "<caption>A data.frame: 5 × 5</caption>\n",
       "<thead>\n",
       "\t<tr><th></th><th scope=col>edge_44772</th><th scope=col>edge_44814</th><th scope=col>edge_44841</th><th scope=col>edge_44866</th><th scope=col>edge_72586</th></tr>\n",
       "\t<tr><th></th><th scope=col>&lt;dbl&gt;</th><th scope=col>&lt;dbl&gt;</th><th scope=col>&lt;dbl&gt;</th><th scope=col>&lt;dbl&gt;</th><th scope=col>&lt;dbl&gt;</th></tr>\n",
       "</thead>\n",
       "<tbody>\n",
       "\t<tr><th scope=row>1</th><td>0.225775832</td><td>0.046761798</td><td>0.234352103</td><td>0.196900003</td><td>0.69450867</td></tr>\n",
       "\t<tr><th scope=row>2</th><td>0.013255188</td><td>0.005799408</td><td>0.012924950</td><td>0.004700531</td><td>0.06448890</td></tr>\n",
       "\t<tr><th scope=row>3</th><td>0.175325705</td><td>0.220636530</td><td>0.236373613</td><td>0.239589994</td><td>0.17633999</td></tr>\n",
       "\t<tr><th scope=row>4</th><td>0.003905655</td><td>0.003714597</td><td>0.005417905</td><td>0.004814435</td><td>0.02296707</td></tr>\n",
       "\t<tr><th scope=row>5</th><td>0.002696061</td><td>0.003220587</td><td>0.002658979</td><td>0.003807141</td><td>0.03090852</td></tr>\n",
       "</tbody>\n",
       "</table>\n"
      ],
      "text/latex": [
       "A data.frame: 5 × 5\n",
       "\\begin{tabular}{r|lllll}\n",
       "  & edge\\_44772 & edge\\_44814 & edge\\_44841 & edge\\_44866 & edge\\_72586\\\\\n",
       "  & <dbl> & <dbl> & <dbl> & <dbl> & <dbl>\\\\\n",
       "\\hline\n",
       "\t1 & 0.225775832 & 0.046761798 & 0.234352103 & 0.196900003 & 0.69450867\\\\\n",
       "\t2 & 0.013255188 & 0.005799408 & 0.012924950 & 0.004700531 & 0.06448890\\\\\n",
       "\t3 & 0.175325705 & 0.220636530 & 0.236373613 & 0.239589994 & 0.17633999\\\\\n",
       "\t4 & 0.003905655 & 0.003714597 & 0.005417905 & 0.004814435 & 0.02296707\\\\\n",
       "\t5 & 0.002696061 & 0.003220587 & 0.002658979 & 0.003807141 & 0.03090852\\\\\n",
       "\\end{tabular}\n"
      ],
      "text/markdown": [
       "\n",
       "A data.frame: 5 × 5\n",
       "\n",
       "| <!--/--> | edge_44772 &lt;dbl&gt; | edge_44814 &lt;dbl&gt; | edge_44841 &lt;dbl&gt; | edge_44866 &lt;dbl&gt; | edge_72586 &lt;dbl&gt; |\n",
       "|---|---|---|---|---|---|\n",
       "| 1 | 0.225775832 | 0.046761798 | 0.234352103 | 0.196900003 | 0.69450867 |\n",
       "| 2 | 0.013255188 | 0.005799408 | 0.012924950 | 0.004700531 | 0.06448890 |\n",
       "| 3 | 0.175325705 | 0.220636530 | 0.236373613 | 0.239589994 | 0.17633999 |\n",
       "| 4 | 0.003905655 | 0.003714597 | 0.005417905 | 0.004814435 | 0.02296707 |\n",
       "| 5 | 0.002696061 | 0.003220587 | 0.002658979 | 0.003807141 | 0.03090852 |\n",
       "\n"
      ],
      "text/plain": [
       "  edge_44772  edge_44814  edge_44841  edge_44866  edge_72586\n",
       "1 0.225775832 0.046761798 0.234352103 0.196900003 0.69450867\n",
       "2 0.013255188 0.005799408 0.012924950 0.004700531 0.06448890\n",
       "3 0.175325705 0.220636530 0.236373613 0.239589994 0.17633999\n",
       "4 0.003905655 0.003714597 0.005417905 0.004814435 0.02296707\n",
       "5 0.002696061 0.003220587 0.002658979 0.003807141 0.03090852"
      ]
     },
     "metadata": {},
     "output_type": "display_data"
    },
    {
     "data": {
      "text/html": [
       "<style>\n",
       ".list-inline {list-style: none; margin:0; padding: 0}\n",
       ".list-inline>li {display: inline-block}\n",
       ".list-inline>li:not(:last-child)::after {content: \"\\00b7\"; padding: 0 .5ex}\n",
       "</style>\n",
       "<ol class=list-inline><li>97</li><li>222</li></ol>\n"
      ],
      "text/latex": [
       "\\begin{enumerate*}\n",
       "\\item 97\n",
       "\\item 222\n",
       "\\end{enumerate*}\n"
      ],
      "text/markdown": [
       "1. 97\n",
       "2. 222\n",
       "\n",
       "\n"
      ],
      "text/plain": [
       "[1]  97 222"
      ]
     },
     "metadata": {},
     "output_type": "display_data"
    },
    {
     "data": {
      "text/html": [
       "<style>\n",
       ".dl-inline {width: auto; margin:0; padding: 0}\n",
       ".dl-inline>dt, .dl-inline>dd {float: none; width: auto; display: inline-block}\n",
       ".dl-inline>dt::after {content: \":\\0020\"; padding-right: .5ex}\n",
       ".dl-inline>dt:not(:first-of-type) {padding-left: .5ex}\n",
       "</style><dl class=dl-inline><dt>TCGA-BF-A1PU</dt><dd>'stage_1'</dd><dt>TCGA-BF-A1PV</dt><dd>'stage_1'</dd><dt>TCGA-BF-A1PX</dt><dd>'stage_2'</dd><dt>TCGA-BF-A1PZ</dt><dd>'stage_1'</dd><dt>TCGA-BF-A1Q0</dt><dd>'stage_1'</dd><dt>TCGA-BF-A3DJ</dt><dd>'stage_2'</dd></dl>\n"
      ],
      "text/latex": [
       "\\begin{description*}\n",
       "\\item[TCGA-BF-A1PU] 'stage\\_1'\n",
       "\\item[TCGA-BF-A1PV] 'stage\\_1'\n",
       "\\item[TCGA-BF-A1PX] 'stage\\_2'\n",
       "\\item[TCGA-BF-A1PZ] 'stage\\_1'\n",
       "\\item[TCGA-BF-A1Q0] 'stage\\_1'\n",
       "\\item[TCGA-BF-A3DJ] 'stage\\_2'\n",
       "\\end{description*}\n"
      ],
      "text/markdown": [
       "TCGA-BF-A1PU\n",
       ":   'stage_1'TCGA-BF-A1PV\n",
       ":   'stage_1'TCGA-BF-A1PX\n",
       ":   'stage_2'TCGA-BF-A1PZ\n",
       ":   'stage_1'TCGA-BF-A1Q0\n",
       ":   'stage_1'TCGA-BF-A3DJ\n",
       ":   'stage_2'\n",
       "\n"
      ],
      "text/plain": [
       "TCGA-BF-A1PU TCGA-BF-A1PV TCGA-BF-A1PX TCGA-BF-A1PZ TCGA-BF-A1Q0 TCGA-BF-A3DJ \n",
       "   \"stage_1\"    \"stage_1\"    \"stage_2\"    \"stage_1\"    \"stage_1\"    \"stage_2\" "
      ]
     },
     "metadata": {},
     "output_type": "display_data"
    },
    {
     "data": {
      "text/html": [
       "<style>\n",
       ".list-inline {list-style: none; margin:0; padding: 0}\n",
       ".list-inline>li {display: inline-block}\n",
       ".list-inline>li:not(:last-child)::after {content: \"\\00b7\"; padding: 0 .5ex}\n",
       "</style>\n",
       "<ol class=list-inline><li>stage_1</li><li>stage_1</li><li>stage_2</li><li>stage_1</li><li>stage_1</li><li>stage_2</li></ol>\n",
       "\n",
       "<details>\n",
       "\t<summary style=display:list-item;cursor:pointer>\n",
       "\t\t<strong>Levels</strong>:\n",
       "\t</summary>\n",
       "\t<style>\n",
       "\t.list-inline {list-style: none; margin:0; padding: 0}\n",
       "\t.list-inline>li {display: inline-block}\n",
       "\t.list-inline>li:not(:last-child)::after {content: \"\\00b7\"; padding: 0 .5ex}\n",
       "\t</style>\n",
       "\t<ol class=list-inline><li>'stage_1'</li><li>'stage_2'</li></ol>\n",
       "</details>"
      ],
      "text/latex": [
       "\\begin{enumerate*}\n",
       "\\item stage\\_1\n",
       "\\item stage\\_1\n",
       "\\item stage\\_2\n",
       "\\item stage\\_1\n",
       "\\item stage\\_1\n",
       "\\item stage\\_2\n",
       "\\end{enumerate*}\n",
       "\n",
       "\\emph{Levels}: \\begin{enumerate*}\n",
       "\\item 'stage\\_1'\n",
       "\\item 'stage\\_2'\n",
       "\\end{enumerate*}\n"
      ],
      "text/markdown": [
       "1. stage_1\n",
       "2. stage_1\n",
       "3. stage_2\n",
       "4. stage_1\n",
       "5. stage_1\n",
       "6. stage_2\n",
       "\n",
       "\n",
       "\n",
       "**Levels**: 1. 'stage_1'\n",
       "2. 'stage_2'\n",
       "\n",
       "\n"
      ],
      "text/plain": [
       "[1] stage_1 stage_1 stage_2 stage_1 stage_1 stage_2\n",
       "Levels: stage_1 stage_2"
      ]
     },
     "metadata": {},
     "output_type": "display_data"
    }
   ],
   "source": [
    "x[1:5,1:5]\n",
    "dim(x)\n",
    "head(labels)\n",
    "head(x$Phenotype)"
   ]
  },
  {
   "cell_type": "code",
   "execution_count": null,
   "metadata": {},
   "outputs": [],
   "source": []
  },
  {
   "cell_type": "code",
   "execution_count": null,
   "metadata": {},
   "outputs": [],
   "source": []
  },
  {
   "cell_type": "code",
   "execution_count": 12,
   "metadata": {},
   "outputs": [
    {
     "name": "stderr",
     "output_type": "stream",
     "text": [
      "\n",
      "Attaching package: ‘xgboost’\n",
      "\n",
      "\n",
      "The following object is masked from ‘package:dplyr’:\n",
      "\n",
      "    slice\n",
      "\n",
      "\n"
     ]
    },
    {
     "data": {
      "text/html": [
       "<style>\n",
       ".list-inline {list-style: none; margin:0; padding: 0}\n",
       ".list-inline>li {display: inline-block}\n",
       ".list-inline>li:not(:last-child)::after {content: \"\\00b7\"; padding: 0 .5ex}\n",
       "</style>\n",
       "<ol class=list-inline><li>0</li><li>0</li><li>1</li><li>0</li><li>0</li><li>1</li></ol>\n"
      ],
      "text/latex": [
       "\\begin{enumerate*}\n",
       "\\item 0\n",
       "\\item 0\n",
       "\\item 1\n",
       "\\item 0\n",
       "\\item 0\n",
       "\\item 1\n",
       "\\end{enumerate*}\n"
      ],
      "text/markdown": [
       "1. 0\n",
       "2. 0\n",
       "3. 1\n",
       "4. 0\n",
       "5. 0\n",
       "6. 1\n",
       "\n",
       "\n"
      ],
      "text/plain": [
       "[1] 0 0 1 0 0 1"
      ]
     },
     "metadata": {},
     "output_type": "display_data"
    },
    {
     "name": "stdout",
     "output_type": "stream",
     "text": [
      "[1]\ttrain-auc:0.923935 \n",
      "Will train until train_auc hasn't improved in 2 rounds.\n",
      "\n",
      "[2]\ttrain-auc:0.986055 \n",
      "[3]\ttrain-auc:0.995690 \n",
      "[4]\ttrain-auc:0.995183 \n",
      "[5]\ttrain-auc:0.992647 \n",
      "Stopping. Best iteration:\n",
      "[3]\ttrain-auc:0.995690\n",
      "\n"
     ]
    },
    {
     "data": {
      "text/html": [
       "<table>\n",
       "<caption>A data.table: 8 × 4</caption>\n",
       "<thead>\n",
       "\t<tr><th scope=col>Feature</th><th scope=col>Gain</th><th scope=col>Cover</th><th scope=col>Frequency</th></tr>\n",
       "\t<tr><th scope=col>&lt;chr&gt;</th><th scope=col>&lt;dbl&gt;</th><th scope=col>&lt;dbl&gt;</th><th scope=col>&lt;dbl&gt;</th></tr>\n",
       "</thead>\n",
       "<tbody>\n",
       "\t<tr><td>edge_275306</td><td>0.20675341</td><td>0.23276954</td><td>0.20000000</td></tr>\n",
       "\t<tr><td>edge_399084</td><td>0.20643332</td><td>0.19790074</td><td>0.13333333</td></tr>\n",
       "\t<tr><td>edge_273727</td><td>0.18244301</td><td>0.20112673</td><td>0.13333333</td></tr>\n",
       "\t<tr><td>edge_182981</td><td>0.12268831</td><td>0.12406222</td><td>0.13333333</td></tr>\n",
       "\t<tr><td>edge_397545</td><td>0.10915259</td><td>0.06610373</td><td>0.13333333</td></tr>\n",
       "\t<tr><td>edge_511194</td><td>0.07942727</td><td>0.10136203</td><td>0.13333333</td></tr>\n",
       "\t<tr><td>edge_579001</td><td>0.05166727</td><td>0.04874002</td><td>0.06666667</td></tr>\n",
       "\t<tr><td>edge_173619</td><td>0.04143483</td><td>0.02793499</td><td>0.06666667</td></tr>\n",
       "</tbody>\n",
       "</table>\n"
      ],
      "text/latex": [
       "A data.table: 8 × 4\n",
       "\\begin{tabular}{llll}\n",
       " Feature & Gain & Cover & Frequency\\\\\n",
       " <chr> & <dbl> & <dbl> & <dbl>\\\\\n",
       "\\hline\n",
       "\t edge\\_275306 & 0.20675341 & 0.23276954 & 0.20000000\\\\\n",
       "\t edge\\_399084 & 0.20643332 & 0.19790074 & 0.13333333\\\\\n",
       "\t edge\\_273727 & 0.18244301 & 0.20112673 & 0.13333333\\\\\n",
       "\t edge\\_182981 & 0.12268831 & 0.12406222 & 0.13333333\\\\\n",
       "\t edge\\_397545 & 0.10915259 & 0.06610373 & 0.13333333\\\\\n",
       "\t edge\\_511194 & 0.07942727 & 0.10136203 & 0.13333333\\\\\n",
       "\t edge\\_579001 & 0.05166727 & 0.04874002 & 0.06666667\\\\\n",
       "\t edge\\_173619 & 0.04143483 & 0.02793499 & 0.06666667\\\\\n",
       "\\end{tabular}\n"
      ],
      "text/markdown": [
       "\n",
       "A data.table: 8 × 4\n",
       "\n",
       "| Feature &lt;chr&gt; | Gain &lt;dbl&gt; | Cover &lt;dbl&gt; | Frequency &lt;dbl&gt; |\n",
       "|---|---|---|---|\n",
       "| edge_275306 | 0.20675341 | 0.23276954 | 0.20000000 |\n",
       "| edge_399084 | 0.20643332 | 0.19790074 | 0.13333333 |\n",
       "| edge_273727 | 0.18244301 | 0.20112673 | 0.13333333 |\n",
       "| edge_182981 | 0.12268831 | 0.12406222 | 0.13333333 |\n",
       "| edge_397545 | 0.10915259 | 0.06610373 | 0.13333333 |\n",
       "| edge_511194 | 0.07942727 | 0.10136203 | 0.13333333 |\n",
       "| edge_579001 | 0.05166727 | 0.04874002 | 0.06666667 |\n",
       "| edge_173619 | 0.04143483 | 0.02793499 | 0.06666667 |\n",
       "\n"
      ],
      "text/plain": [
       "  Feature     Gain       Cover      Frequency \n",
       "1 edge_275306 0.20675341 0.23276954 0.20000000\n",
       "2 edge_399084 0.20643332 0.19790074 0.13333333\n",
       "3 edge_273727 0.18244301 0.20112673 0.13333333\n",
       "4 edge_182981 0.12268831 0.12406222 0.13333333\n",
       "5 edge_397545 0.10915259 0.06610373 0.13333333\n",
       "6 edge_511194 0.07942727 0.10136203 0.13333333\n",
       "7 edge_579001 0.05166727 0.04874002 0.06666667\n",
       "8 edge_173619 0.04143483 0.02793499 0.06666667"
      ]
     },
     "metadata": {},
     "output_type": "display_data"
    },
    {
     "data": {
      "text/plain": [
       "       ylab\n",
       "         0  1\n",
       "  FALSE 68  1\n",
       "  TRUE   0 28"
      ]
     },
     "metadata": {},
     "output_type": "display_data"
    },
    {
     "data": {
      "text/html": [
       "0.989690721649485"
      ],
      "text/latex": [
       "0.989690721649485"
      ],
      "text/markdown": [
       "0.989690721649485"
      ],
      "text/plain": [
       "[1] 0.9896907"
      ]
     },
     "metadata": {},
     "output_type": "display_data"
    }
   ],
   "source": [
    "# modeling the within data assocations\n",
    "\n",
    "library(xgboost)\n",
    "\n",
    "xmat <- as.matrix(x[,-ncol(x)])\n",
    "ylab <- as.numeric(x$Phenotype)-1\n",
    "\n",
    "head(ylab)\n",
    "\n",
    "dtrain <- xgboost::xgb.DMatrix(xmat, label=ylab)\n",
    "\n",
    "param <- list(max_depth = 2, eta = 0.2, nthread = 2,\n",
    "                objective = \"binary:logistic\", eval_metric = \"auc\")\n",
    "\n",
    "mod <- xgboost::xgboost(data=dtrain, params = param, nrounds=100, early_stopping_rounds = 2)\n",
    "\n",
    "pred <- predict(mod, xmat)\n",
    "\n",
    "restab <- table(pred > 0.5, ylab)\n",
    "\n",
    "head(xgboost::xgb.importance(model = mod), n=10)\n",
    "\n",
    "restab\n",
    "acc <- (restab[1,1]+restab[2,2]) / sum(restab)\n",
    "acc\n"
   ]
  },
  {
   "cell_type": "code",
   "execution_count": null,
   "metadata": {},
   "outputs": [],
   "source": []
  },
  {
   "cell_type": "code",
   "execution_count": null,
   "metadata": {},
   "outputs": [],
   "source": []
  },
  {
   "cell_type": "code",
   "execution_count": 13,
   "metadata": {},
   "outputs": [
    {
     "name": "stderr",
     "output_type": "stream",
     "text": [
      "Joining, by = \"EdgeID\"\n",
      "\n"
     ]
    },
    {
     "data": {
      "text/html": [
       "<table>\n",
       "<caption>A grouped_df: 8 × 11</caption>\n",
       "<thead>\n",
       "\t<tr><th scope=col>Study</th><th scope=col>EdgeID</th><th scope=col>LCell</th><th scope=col>Ligand</th><th scope=col>Receptor</th><th scope=col>RCell</th><th scope=col>S1avg</th><th scope=col>med_diff_avg</th><th scope=col>Gain</th><th scope=col>Cover</th><th scope=col>Frequency</th></tr>\n",
       "\t<tr><th scope=col>&lt;chr&gt;</th><th scope=col>&lt;dbl&gt;</th><th scope=col>&lt;chr&gt;</th><th scope=col>&lt;chr&gt;</th><th scope=col>&lt;chr&gt;</th><th scope=col>&lt;chr&gt;</th><th scope=col>&lt;dbl&gt;</th><th scope=col>&lt;dbl&gt;</th><th scope=col>&lt;dbl&gt;</th><th scope=col>&lt;dbl&gt;</th><th scope=col>&lt;dbl&gt;</th></tr>\n",
       "</thead>\n",
       "<tbody>\n",
       "\t<tr><td>SKCM</td><td>275306</td><td>CLP        </td><td>GI2   </td><td>CXCR1 </td><td>Osteoblast  </td><td> 0.3531576</td><td> 0.17595071</td><td>0.20675341</td><td>0.23276954</td><td>0.20000000</td></tr>\n",
       "\t<tr><td>SKCM</td><td>399084</td><td>GMP        </td><td>TIMP1 </td><td>CD63  </td><td>Plasma cells</td><td>-0.3021609</td><td>-0.14688556</td><td>0.20643332</td><td>0.19790074</td><td>0.13333333</td></tr>\n",
       "\t<tr><td>SKCM</td><td>273727</td><td>CLP        </td><td>GI2   </td><td>F2R   </td><td>MEP         </td><td> 0.2896896</td><td> 0.12283444</td><td>0.18244301</td><td>0.20112673</td><td>0.13333333</td></tr>\n",
       "\t<tr><td>SKCM</td><td>182981</td><td>CD8+ Tcm   </td><td>GI2   </td><td>TBXA2R</td><td>Plasma cells</td><td>-0.2834372</td><td>-0.09537911</td><td>0.12268831</td><td>0.12406222</td><td>0.13333333</td></tr>\n",
       "\t<tr><td>SKCM</td><td>397545</td><td>GMP        </td><td>BST1  </td><td>CAV1  </td><td>MSC         </td><td>-0.3373260</td><td>-0.19378087</td><td>0.10915259</td><td>0.06610373</td><td>0.13333333</td></tr>\n",
       "\t<tr><td>SKCM</td><td>511194</td><td>Macrophages</td><td>SEMA7A</td><td>PLXNC1</td><td>GMP         </td><td>-0.3164984</td><td>-0.19377112</td><td>0.07942727</td><td>0.10136203</td><td>0.13333333</td></tr>\n",
       "\t<tr><td>SKCM</td><td>579001</td><td>Mast cells </td><td>GI2   </td><td>CXCR1 </td><td>Osteoblast  </td><td> 0.2816627</td><td> 0.14963487</td><td>0.05166727</td><td>0.04874002</td><td>0.06666667</td></tr>\n",
       "\t<tr><td>SKCM</td><td>173619</td><td>CD8+ Tcm   </td><td>SEMA7A</td><td>PLXNC1</td><td>GMP         </td><td>-0.3031933</td><td>-0.14105250</td><td>0.04143483</td><td>0.02793499</td><td>0.06666667</td></tr>\n",
       "</tbody>\n",
       "</table>\n"
      ],
      "text/latex": [
       "A grouped\\_df: 8 × 11\n",
       "\\begin{tabular}{lllllllllll}\n",
       " Study & EdgeID & LCell & Ligand & Receptor & RCell & S1avg & med\\_diff\\_avg & Gain & Cover & Frequency\\\\\n",
       " <chr> & <dbl> & <chr> & <chr> & <chr> & <chr> & <dbl> & <dbl> & <dbl> & <dbl> & <dbl>\\\\\n",
       "\\hline\n",
       "\t SKCM & 275306 & CLP         & GI2    & CXCR1  & Osteoblast   &  0.3531576 &  0.17595071 & 0.20675341 & 0.23276954 & 0.20000000\\\\\n",
       "\t SKCM & 399084 & GMP         & TIMP1  & CD63   & Plasma cells & -0.3021609 & -0.14688556 & 0.20643332 & 0.19790074 & 0.13333333\\\\\n",
       "\t SKCM & 273727 & CLP         & GI2    & F2R    & MEP          &  0.2896896 &  0.12283444 & 0.18244301 & 0.20112673 & 0.13333333\\\\\n",
       "\t SKCM & 182981 & CD8+ Tcm    & GI2    & TBXA2R & Plasma cells & -0.2834372 & -0.09537911 & 0.12268831 & 0.12406222 & 0.13333333\\\\\n",
       "\t SKCM & 397545 & GMP         & BST1   & CAV1   & MSC          & -0.3373260 & -0.19378087 & 0.10915259 & 0.06610373 & 0.13333333\\\\\n",
       "\t SKCM & 511194 & Macrophages & SEMA7A & PLXNC1 & GMP          & -0.3164984 & -0.19377112 & 0.07942727 & 0.10136203 & 0.13333333\\\\\n",
       "\t SKCM & 579001 & Mast cells  & GI2    & CXCR1  & Osteoblast   &  0.2816627 &  0.14963487 & 0.05166727 & 0.04874002 & 0.06666667\\\\\n",
       "\t SKCM & 173619 & CD8+ Tcm    & SEMA7A & PLXNC1 & GMP          & -0.3031933 & -0.14105250 & 0.04143483 & 0.02793499 & 0.06666667\\\\\n",
       "\\end{tabular}\n"
      ],
      "text/markdown": [
       "\n",
       "A grouped_df: 8 × 11\n",
       "\n",
       "| Study &lt;chr&gt; | EdgeID &lt;dbl&gt; | LCell &lt;chr&gt; | Ligand &lt;chr&gt; | Receptor &lt;chr&gt; | RCell &lt;chr&gt; | S1avg &lt;dbl&gt; | med_diff_avg &lt;dbl&gt; | Gain &lt;dbl&gt; | Cover &lt;dbl&gt; | Frequency &lt;dbl&gt; |\n",
       "|---|---|---|---|---|---|---|---|---|---|---|\n",
       "| SKCM | 275306 | CLP         | GI2    | CXCR1  | Osteoblast   |  0.3531576 |  0.17595071 | 0.20675341 | 0.23276954 | 0.20000000 |\n",
       "| SKCM | 399084 | GMP         | TIMP1  | CD63   | Plasma cells | -0.3021609 | -0.14688556 | 0.20643332 | 0.19790074 | 0.13333333 |\n",
       "| SKCM | 273727 | CLP         | GI2    | F2R    | MEP          |  0.2896896 |  0.12283444 | 0.18244301 | 0.20112673 | 0.13333333 |\n",
       "| SKCM | 182981 | CD8+ Tcm    | GI2    | TBXA2R | Plasma cells | -0.2834372 | -0.09537911 | 0.12268831 | 0.12406222 | 0.13333333 |\n",
       "| SKCM | 397545 | GMP         | BST1   | CAV1   | MSC          | -0.3373260 | -0.19378087 | 0.10915259 | 0.06610373 | 0.13333333 |\n",
       "| SKCM | 511194 | Macrophages | SEMA7A | PLXNC1 | GMP          | -0.3164984 | -0.19377112 | 0.07942727 | 0.10136203 | 0.13333333 |\n",
       "| SKCM | 579001 | Mast cells  | GI2    | CXCR1  | Osteoblast   |  0.2816627 |  0.14963487 | 0.05166727 | 0.04874002 | 0.06666667 |\n",
       "| SKCM | 173619 | CD8+ Tcm    | SEMA7A | PLXNC1 | GMP          | -0.3031933 | -0.14105250 | 0.04143483 | 0.02793499 | 0.06666667 |\n",
       "\n"
      ],
      "text/plain": [
       "  Study EdgeID LCell       Ligand Receptor RCell        S1avg      med_diff_avg\n",
       "1 SKCM  275306 CLP         GI2    CXCR1    Osteoblast    0.3531576  0.17595071 \n",
       "2 SKCM  399084 GMP         TIMP1  CD63     Plasma cells -0.3021609 -0.14688556 \n",
       "3 SKCM  273727 CLP         GI2    F2R      MEP           0.2896896  0.12283444 \n",
       "4 SKCM  182981 CD8+ Tcm    GI2    TBXA2R   Plasma cells -0.2834372 -0.09537911 \n",
       "5 SKCM  397545 GMP         BST1   CAV1     MSC          -0.3373260 -0.19378087 \n",
       "6 SKCM  511194 Macrophages SEMA7A PLXNC1   GMP          -0.3164984 -0.19377112 \n",
       "7 SKCM  579001 Mast cells  GI2    CXCR1    Osteoblast    0.2816627  0.14963487 \n",
       "8 SKCM  173619 CD8+ Tcm    SEMA7A PLXNC1   GMP          -0.3031933 -0.14105250 \n",
       "  Gain       Cover      Frequency \n",
       "1 0.20675341 0.23276954 0.20000000\n",
       "2 0.20643332 0.19790074 0.13333333\n",
       "3 0.18244301 0.20112673 0.13333333\n",
       "4 0.12268831 0.12406222 0.13333333\n",
       "5 0.10915259 0.06610373 0.13333333\n",
       "6 0.07942727 0.10136203 0.13333333\n",
       "7 0.05166727 0.04874002 0.06666667\n",
       "8 0.04143483 0.02793499 0.06666667"
      ]
     },
     "metadata": {},
     "output_type": "display_data"
    }
   ],
   "source": [
    "imptab <- xgboost::xgb.importance(model = mod)\n",
    "colnames(imptab)[1] <- 'EdgeID'\n",
    "\n",
    "edges <- as.numeric( str_replace_all(imptab$EdgeID, 'edge_', '') )\n",
    "imptab$EdgeID <- edges\n",
    "\n",
    "top_edges <- dat %>% dplyr::filter(EdgeID %in% edges) %>% \n",
    "  dplyr::select(Study, EdgeID, LCell, Ligand, Receptor, RCell, S1, med_diff) %>% \n",
    "  dplyr::group_by(Study, EdgeID, LCell, Ligand, Receptor, RCell) %>% \n",
    "  dplyr::summarize(S1avg = mean(S1), med_diff_avg=mean(med_diff)) \n",
    "\n",
    "\n",
    "top_edges <- dplyr::inner_join(top_edges, imptab) \n",
    "top_edges <- top_edges %>% arrange(desc(Gain))\n",
    "top_edges\n",
    "\n",
    "#colnames(top_edges)[9] <- 'imp'\n",
    "#top_edges %>% dplyr::arrange(desc(imp))"
   ]
  },
  {
   "cell_type": "code",
   "execution_count": 14,
   "metadata": {},
   "outputs": [
    {
     "data": {
      "text/html": [
       "<style>\n",
       ".list-inline {list-style: none; margin:0; padding: 0}\n",
       ".list-inline>li {display: inline-block}\n",
       ".list-inline>li:not(:last-child)::after {content: \"\\00b7\"; padding: 0 .5ex}\n",
       "</style>\n",
       "<ol class=list-inline><li>97</li><li>222</li></ol>\n"
      ],
      "text/latex": [
       "\\begin{enumerate*}\n",
       "\\item 97\n",
       "\\item 222\n",
       "\\end{enumerate*}\n"
      ],
      "text/markdown": [
       "1. 97\n",
       "2. 222\n",
       "\n",
       "\n"
      ],
      "text/plain": [
       "[1]  97 222"
      ]
     },
     "metadata": {},
     "output_type": "display_data"
    },
    {
     "data": {
      "text/html": [
       "<style>\n",
       ".list-inline {list-style: none; margin:0; padding: 0}\n",
       ".list-inline>li {display: inline-block}\n",
       ".list-inline>li:not(:last-child)::after {content: \"\\00b7\"; padding: 0 .5ex}\n",
       "</style>\n",
       "<ol class=list-inline><li>8</li><li>11</li></ol>\n"
      ],
      "text/latex": [
       "\\begin{enumerate*}\n",
       "\\item 8\n",
       "\\item 11\n",
       "\\end{enumerate*}\n"
      ],
      "text/markdown": [
       "1. 8\n",
       "2. 11\n",
       "\n",
       "\n"
      ],
      "text/plain": [
       "[1]  8 11"
      ]
     },
     "metadata": {},
     "output_type": "display_data"
    }
   ],
   "source": [
    "dim(x)\n",
    "dim(top_edges)"
   ]
  },
  {
   "cell_type": "code",
   "execution_count": 15,
   "metadata": {},
   "outputs": [
    {
     "data": {
      "image/png": "[encoded data removed]",
      "text/plain": [
       "plot without title"
      ]
     },
     "metadata": {
      "image/png": {
       "height": 480,
       "width": 480
      },
      "text/plain": {
       "height": 480,
       "width": 480
      }
     },
     "output_type": "display_data"
    },
    {
     "data": {
      "image/png": "[encoded data removed]",
      "text/plain": [
       "plot without title"
      ]
     },
     "metadata": {
      "image/png": {
       "height": 480,
       "width": 480
      },
      "text/plain": {
       "height": 480,
       "width": 480
      }
     },
     "output_type": "display_data"
    },
    {
     "data": {
      "image/png": "[encoded data removed]",
      "text/plain": [
       "plot without title"
      ]
     },
     "metadata": {
      "image/png": {
       "height": 480,
       "width": 480
      },
      "text/plain": {
       "height": 480,
       "width": 480
      }
     },
     "output_type": "display_data"
    }
   ],
   "source": [
    "options(repr.plot.width=8, repr.plot.height=8)\n",
    "\n",
    "qplot(x=med_diff_avg, y=S1avg, data=top_edges)\n",
    "qplot(x=med_diff_avg, y=Gain, data=top_edges)\n",
    "qplot(x=1:nrow(top_edges), y=Gain, data=top_edges, geom=c('point', 'line'))"
   ]
  },
  {
   "cell_type": "code",
   "execution_count": 16,
   "metadata": {},
   "outputs": [],
   "source": [
    "res0 <- unique(top_edges[,c('LCell','RCell','Gain')])\n",
    "res0 <- res0 %>% group_by(LCell, RCell) %>% mutate(Gain=sum(Gain))\n",
    "res1 <- matrix(data=as.matrix(res0[,c(1,2)]), ncol = 2, byrow = F)\n",
    "g <- graph_from_data_frame(res1, directed = T)\n",
    "g <- set_edge_attr(g, \"weight\", value = res0$Gain) "
   ]
  },
  {
   "cell_type": "code",
   "execution_count": null,
   "metadata": {},
   "outputs": [],
   "source": []
  },
  {
   "cell_type": "code",
   "execution_count": 22,
   "metadata": {},
   "outputs": [
    {
     "data": {
      "image/png": "[encoded data removed]",
      "text/plain": [
       "plot without title"
      ]
     },
     "metadata": {
      "image/png": {
       "height": 480,
       "width": 900
      },
      "text/plain": {
       "height": 480,
       "width": 900
      }
     },
     "output_type": "display_data"
    }
   ],
   "source": [
    "\n",
    "options(repr.plot.width=15, repr.plot.height=8)\n",
    "\n",
    "ggraph(g, layout='fabric', sort.by = node_rank_fabric()) +\n",
    "  geom_node_range(colour = 'grey') +\n",
    "  geom_edge_span(end_shape = 'square', edge_width=1.5, mapping = aes(colour=weight),  arrow = arrow(), end_cap = circle(0.1, 'cm')) + #end_cap = circle(1.0, 'cm'),\n",
    "  scale_edge_colour_viridis() +\n",
    "  theme_graph() +\n",
    "  geom_node_label(aes(label = name), hjust = 0, nudge_x = -0)"
   ]
  },
  {
   "cell_type": "code",
   "execution_count": 18,
   "metadata": {},
   "outputs": [
    {
     "data": {
      "image/png": "[encoded data removed]",
      "text/plain": [
       "plot without title"
      ]
     },
     "metadata": {
      "image/png": {
       "height": 480,
       "width": 900
      },
      "text/plain": {
       "height": 480,
       "width": 900
      }
     },
     "output_type": "display_data"
    }
   ],
   "source": [
    "options(repr.plot.width=15, repr.plot.height=8)\n",
    "\n",
    "ggraph(g, layout='fabric', sort.by = node_rank_fabric()) +\n",
    "  geom_node_range(colour = 'grey') +\n",
    "  geom_edge_span(end_shape = 'square', edge_width=1.5, mapping = aes(colour=weight), arrow = arrow()) + #end_cap = circle(1.0, 'cm'), \n",
    "  scale_edge_colour_viridis() +\n",
    "  theme_graph() "
   ]
  }
 ],
 "metadata": {
  "kernelspec": {
   "display_name": "R",
   "language": "R",
   "name": "ir"
  },
  "language_info": {
   "codemirror_mode": "r",
   "file_extension": ".r",
   "mimetype": "text/x-r-source",
   "name": "R",
   "pygments_lexer": "r",
   "version": "3.6.3"
  }
 },
 "nbformat": 4,
 "nbformat_minor": 4
}
