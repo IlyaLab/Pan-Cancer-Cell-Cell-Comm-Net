{
 "cells": [
  {
   "cell_type": "code",
   "execution_count": 2,
   "metadata": {},
   "outputs": [
    {
     "name": "stderr",
     "output_type": "stream",
     "text": [
      "\n",
      "Attaching package: ‘dplyr’\n",
      "\n",
      "\n",
      "The following objects are masked from ‘package:stats’:\n",
      "\n",
      "    filter, lag\n",
      "\n",
      "\n",
      "The following objects are masked from ‘package:base’:\n",
      "\n",
      "    intersect, setdiff, setequal, union\n",
      "\n",
      "\n"
     ]
    }
   ],
   "source": [
    "library(readr)\n",
    "library(dplyr)"
   ]
  },
  {
   "cell_type": "code",
   "execution_count": null,
   "metadata": {},
   "outputs": [],
   "source": []
  },
  {
   "cell_type": "markdown",
   "metadata": {},
   "source": [
    "## PFI test"
   ]
  },
  {
   "cell_type": "code",
   "execution_count": 3,
   "metadata": {},
   "outputs": [
    {
     "name": "stderr",
     "output_type": "stream",
     "text": [
      "Parsed with column specification:\n",
      "cols(\n",
      "  Study = \u001b[31mcol_character()\u001b[39m,\n",
      "  EdgeID = \u001b[32mcol_double()\u001b[39m,\n",
      "  LCell = \u001b[31mcol_character()\u001b[39m,\n",
      "  Ligand = \u001b[31mcol_character()\u001b[39m,\n",
      "  Receptor = \u001b[31mcol_character()\u001b[39m,\n",
      "  RCell = \u001b[31mcol_character()\u001b[39m,\n",
      "  S1 = \u001b[32mcol_double()\u001b[39m,\n",
      "  med_diff = \u001b[32mcol_double()\u001b[39m,\n",
      "  AliquotBarcode = \u001b[31mcol_character()\u001b[39m,\n",
      "  PatientBarcode = \u001b[31mcol_character()\u001b[39m,\n",
      "  EdgeWt = \u001b[32mcol_double()\u001b[39m,\n",
      "  Stage = \u001b[32mcol_double()\u001b[39m,\n",
      "  PFI = \u001b[32mcol_double()\u001b[39m\n",
      ")\n",
      "\n"
     ]
    }
   ],
   "source": [
    "pfidat <- read_csv('../Data/manuscript-studies-pfi-test-DWE-weights.csv.gz')"
   ]
  },
  {
   "cell_type": "code",
   "execution_count": 27,
   "metadata": {},
   "outputs": [
    {
     "data": {
      "text/plain": [
       "\n",
       "  COAD   ESCA   LUSC   PAAD   READ   SKCM   STAD \n",
       " 17703  23290 147136   1208    352  25398  55238 "
      ]
     },
     "metadata": {},
     "output_type": "display_data"
    }
   ],
   "source": [
    "table(pfidat$Study)"
   ]
  },
  {
   "cell_type": "code",
   "execution_count": 28,
   "metadata": {},
   "outputs": [
    {
     "data": {
      "text/plain": [
       ".\n",
       "COAD ESCA LUSC PAAD READ SKCM STAD \n",
       "  63  137  304    8    4  249  142 "
      ]
     },
     "metadata": {},
     "output_type": "display_data"
    }
   ],
   "source": [
    "\n",
    "# count unique edges in each study\n",
    "pfidat %>% select(Study, EdgeID) %>% unique() %>%  select(Study) %>% table()"
   ]
  },
  {
   "cell_type": "code",
   "execution_count": 29,
   "metadata": {},
   "outputs": [
    {
     "data": {
      "text/plain": [
       "      PFI\n",
       "Study    1   2\n",
       "  COAD  96 183\n",
       "  ESCA  73  97\n",
       "  LUSC 193 285\n",
       "  PAAD  68  83\n",
       "  READ  16  71\n",
       "  SKCM  27  75\n",
       "  STAD 155 231"
      ]
     },
     "metadata": {},
     "output_type": "display_data"
    }
   ],
   "source": [
    "# count unique edges in each study\n",
    "pfidat %>% select(Study, PatientBarcode, PFI) %>% unique() %>%  select(Study, PFI) %>% table()"
   ]
  },
  {
   "cell_type": "code",
   "execution_count": null,
   "metadata": {},
   "outputs": [],
   "source": []
  },
  {
   "cell_type": "markdown",
   "metadata": {},
   "source": [
    "----"
   ]
  },
  {
   "cell_type": "markdown",
   "metadata": {},
   "source": [
    "## Stage Test"
   ]
  },
  {
   "cell_type": "code",
   "execution_count": 4,
   "metadata": {},
   "outputs": [
    {
     "name": "stderr",
     "output_type": "stream",
     "text": [
      "Parsed with column specification:\n",
      "cols(\n",
      "  Study = \u001b[31mcol_character()\u001b[39m,\n",
      "  EdgeID = \u001b[32mcol_double()\u001b[39m,\n",
      "  LCell = \u001b[31mcol_character()\u001b[39m,\n",
      "  Ligand = \u001b[31mcol_character()\u001b[39m,\n",
      "  Receptor = \u001b[31mcol_character()\u001b[39m,\n",
      "  RCell = \u001b[31mcol_character()\u001b[39m,\n",
      "  S1 = \u001b[32mcol_double()\u001b[39m,\n",
      "  med_diff = \u001b[32mcol_double()\u001b[39m,\n",
      "  AliquotBarcode = \u001b[31mcol_character()\u001b[39m,\n",
      "  PatientBarcode = \u001b[31mcol_character()\u001b[39m,\n",
      "  EdgeWt = \u001b[32mcol_double()\u001b[39m,\n",
      "  Stage = \u001b[32mcol_double()\u001b[39m\n",
      ")\n",
      "\n"
     ]
    }
   ],
   "source": [
    "stagedat <- read_csv('../Data/manuscript-studies-stage-test-DWE-weights.csv.gz')"
   ]
  },
  {
   "cell_type": "code",
   "execution_count": 18,
   "metadata": {},
   "outputs": [
    {
     "data": {
      "text/plain": [
       "\n",
       "  COAD   READ   SKCM   STAD \n",
       "520131   2992  22542  93749 "
      ]
     },
     "metadata": {},
     "output_type": "display_data"
    }
   ],
   "source": [
    "table(stagedat$Study)"
   ]
  },
  {
   "cell_type": "code",
   "execution_count": 19,
   "metadata": {},
   "outputs": [
    {
     "data": {
      "text/plain": [
       ".\n",
       "COAD READ SKCM STAD \n",
       "1851   34  221  241 "
      ]
     },
     "metadata": {},
     "output_type": "display_data"
    }
   ],
   "source": [
    "\n",
    "# count unique edges in each study\n",
    "stagedat %>% select(Study, EdgeID) %>% unique() %>%  select(Study) %>% table()"
   ]
  },
  {
   "cell_type": "code",
   "execution_count": 30,
   "metadata": {},
   "outputs": [
    {
     "data": {
      "text/plain": [
       "      Stage\n",
       "Study    1   2\n",
       "  COAD 151 118\n",
       "  ESCA  86  63\n",
       "  LUSC 390  89\n",
       "  PAAD 142   7\n",
       "  READ  36  44\n",
       "  SKCM  68  29\n",
       "  STAD 167 198"
      ]
     },
     "metadata": {},
     "output_type": "display_data"
    }
   ],
   "source": [
    "# count unique edges in each study\n",
    "pfidat %>% select(Study, PatientBarcode, Stage) %>% unique() %>%  select(Study, Stage) %>% table()"
   ]
  }
 ],
 "metadata": {
  "kernelspec": {
   "display_name": "R",
   "language": "R",
   "name": "ir"
  },
  "language_info": {
   "codemirror_mode": "r",
   "file_extension": ".r",
   "mimetype": "text/x-r-source",
   "name": "R",
   "pygments_lexer": "r",
   "version": "4.0.2"
  }
 },
 "nbformat": 4,
 "nbformat_minor": 4
}
