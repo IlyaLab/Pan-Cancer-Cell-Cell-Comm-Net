{
 "cells": [
  {
   "cell_type": "code",
   "execution_count": 46,
   "metadata": {
    "scrolled": true
   },
   "outputs": [],
   "source": [
    "library(dplyr)\n",
    "library(stringr)\n",
    "library(readr)\n",
    "library(tidyr)\n",
    "library(caret)\n",
    "library(ggplot2)\n",
    "library(igraph)\n",
    "library(ggraph)"
   ]
  },
  {
   "cell_type": "code",
   "execution_count": 2,
   "metadata": {},
   "outputs": [
    {
     "name": "stderr",
     "output_type": "stream",
     "text": [
      "Parsed with column specification:\n",
      "cols(\n",
      "  Study = \u001b[31mcol_character()\u001b[39m,\n",
      "  EdgeID = \u001b[32mcol_double()\u001b[39m,\n",
      "  LCell = \u001b[31mcol_character()\u001b[39m,\n",
      "  Ligand = \u001b[31mcol_character()\u001b[39m,\n",
      "  Receptor = \u001b[31mcol_character()\u001b[39m,\n",
      "  RCell = \u001b[31mcol_character()\u001b[39m,\n",
      "  S1 = \u001b[32mcol_double()\u001b[39m,\n",
      "  med_diff = \u001b[32mcol_double()\u001b[39m,\n",
      "  AliquotBarcode = \u001b[31mcol_character()\u001b[39m,\n",
      "  PatientBarcode = \u001b[31mcol_character()\u001b[39m,\n",
      "  EdgeWt = \u001b[32mcol_double()\u001b[39m,\n",
      "  Stage = \u001b[32mcol_double()\u001b[39m,\n",
      "  PFI = \u001b[32mcol_double()\u001b[39m\n",
      ")\n",
      "\n"
     ]
    }
   ],
   "source": [
    "# this is pulled from the BigQuery weights table\n",
    "pfidat <- read_csv('../Data/manuscript-studies-pfi-test-DWE-weights.csv.gz')"
   ]
  },
  {
   "cell_type": "code",
   "execution_count": 3,
   "metadata": {},
   "outputs": [
    {
     "data": {
      "text/html": [
       "<table>\n",
       "<caption>A grouped_df: 7 × 2</caption>\n",
       "<thead>\n",
       "\t<tr><th scope=col>Study</th><th scope=col>n</th></tr>\n",
       "\t<tr><th scope=col>&lt;chr&gt;</th><th scope=col>&lt;int&gt;</th></tr>\n",
       "</thead>\n",
       "<tbody>\n",
       "\t<tr><td>COAD</td><td>281</td></tr>\n",
       "\t<tr><td>ESCA</td><td>170</td></tr>\n",
       "\t<tr><td>LUSC</td><td>483</td></tr>\n",
       "\t<tr><td>PAAD</td><td>151</td></tr>\n",
       "\t<tr><td>READ</td><td> 88</td></tr>\n",
       "\t<tr><td>SKCM</td><td>102</td></tr>\n",
       "\t<tr><td>STAD</td><td>389</td></tr>\n",
       "</tbody>\n",
       "</table>\n"
      ],
      "text/latex": [
       "A grouped\\_df: 7 × 2\n",
       "\\begin{tabular}{ll}\n",
       " Study & n\\\\\n",
       " <chr> & <int>\\\\\n",
       "\\hline\n",
       "\t COAD & 281\\\\\n",
       "\t ESCA & 170\\\\\n",
       "\t LUSC & 483\\\\\n",
       "\t PAAD & 151\\\\\n",
       "\t READ &  88\\\\\n",
       "\t SKCM & 102\\\\\n",
       "\t STAD & 389\\\\\n",
       "\\end{tabular}\n"
      ],
      "text/markdown": [
       "\n",
       "A grouped_df: 7 × 2\n",
       "\n",
       "| Study &lt;chr&gt; | n &lt;int&gt; |\n",
       "|---|---|\n",
       "| COAD | 281 |\n",
       "| ESCA | 170 |\n",
       "| LUSC | 483 |\n",
       "| PAAD | 151 |\n",
       "| READ |  88 |\n",
       "| SKCM | 102 |\n",
       "| STAD | 389 |\n",
       "\n"
      ],
      "text/plain": [
       "  Study n  \n",
       "1 COAD  281\n",
       "2 ESCA  170\n",
       "3 LUSC  483\n",
       "4 PAAD  151\n",
       "5 READ   88\n",
       "6 SKCM  102\n",
       "7 STAD  389"
      ]
     },
     "metadata": {},
     "output_type": "display_data"
    }
   ],
   "source": [
    "\n",
    "studies <- pfidat %>% dplyr::select(PatientBarcode, Study) %>% unique() %>% group_by(Study) %>% count()        # now required with changes to dplyr::count()\n",
    "\n",
    "studies  # coad, esca, lusc, paad, read, skcm, stad\n",
    "         # 1     2     3     4     5     6     7\n"
   ]
  },
  {
   "cell_type": "code",
   "execution_count": 4,
   "metadata": {},
   "outputs": [
    {
     "data": {
      "text/html": [
       "<table>\n",
       "<caption>A tibble: 6 × 13</caption>\n",
       "<thead>\n",
       "\t<tr><th scope=col>Study</th><th scope=col>EdgeID</th><th scope=col>LCell</th><th scope=col>Ligand</th><th scope=col>Receptor</th><th scope=col>RCell</th><th scope=col>S1</th><th scope=col>med_diff</th><th scope=col>AliquotBarcode</th><th scope=col>PatientBarcode</th><th scope=col>EdgeWt</th><th scope=col>Stage</th><th scope=col>PFI</th></tr>\n",
       "\t<tr><th scope=col>&lt;chr&gt;</th><th scope=col>&lt;dbl&gt;</th><th scope=col>&lt;chr&gt;</th><th scope=col>&lt;chr&gt;</th><th scope=col>&lt;chr&gt;</th><th scope=col>&lt;chr&gt;</th><th scope=col>&lt;dbl&gt;</th><th scope=col>&lt;dbl&gt;</th><th scope=col>&lt;chr&gt;</th><th scope=col>&lt;chr&gt;</th><th scope=col>&lt;dbl&gt;</th><th scope=col>&lt;dbl&gt;</th><th scope=col>&lt;dbl&gt;</th></tr>\n",
       "</thead>\n",
       "<tbody>\n",
       "\t<tr><td>SKCM</td><td>930270</td><td>Preadipocytes</td><td>SFRP1 </td><td>FZD6  </td><td>Osteoblast </td><td> 0.2743006</td><td> 0.1540085</td><td>TCGA-DA-A960-01A-11R-A37K-07</td><td>TCGA-DA-A960</td><td>0.008969967</td><td>1</td><td>2</td></tr>\n",
       "\t<tr><td>SKCM</td><td>925750</td><td>Preadipocytes</td><td>COL5A3</td><td>SDC3  </td><td>Mast cells </td><td> 0.2949511</td><td> 0.1781628</td><td>TCGA-EB-A4OZ-01A-12R-A266-07</td><td>TCGA-EB-A4OZ</td><td>0.038965212</td><td>2</td><td>2</td></tr>\n",
       "\t<tr><td>SKCM</td><td>925806</td><td>Preadipocytes</td><td>LRPAP1</td><td>SORT1 </td><td>Mast cells </td><td> 0.2733259</td><td> 0.2018222</td><td>TCGA-FR-A3R1-01A-11R-A239-07</td><td>TCGA-FR-A3R1</td><td>0.280340579</td><td>1</td><td>2</td></tr>\n",
       "\t<tr><td>SKCM</td><td>926381</td><td>Preadipocytes</td><td>SEMA5A</td><td>PLXNB3</td><td>Melanocytes</td><td> 0.3791195</td><td> 0.2544220</td><td>TCGA-XV-AAZY-01A-12R-A40A-07</td><td>TCGA-XV-AAZY</td><td>0.632340717</td><td>2</td><td>2</td></tr>\n",
       "\t<tr><td>SKCM</td><td>517677</td><td>Macrophages  </td><td>UBA52 </td><td>NOTCH1</td><td>Osteoblast </td><td>-0.2836101</td><td>-0.1454840</td><td>TCGA-EB-A6R0-01A-12R-A32P-07</td><td>TCGA-EB-A6R0</td><td>0.209877156</td><td>1</td><td>2</td></tr>\n",
       "\t<tr><td>SKCM</td><td>608593</td><td>Melanocytes  </td><td>UBA52 </td><td>NOTCH1</td><td>Osteoblast </td><td>-0.2754347</td><td>-0.2005447</td><td>TCGA-EB-A3XC-01A-11R-A239-07</td><td>TCGA-EB-A3XC</td><td>0.285947478</td><td>1</td><td>1</td></tr>\n",
       "</tbody>\n",
       "</table>\n"
      ],
      "text/latex": [
       "A tibble: 6 × 13\n",
       "\\begin{tabular}{lllllllllllll}\n",
       " Study & EdgeID & LCell & Ligand & Receptor & RCell & S1 & med\\_diff & AliquotBarcode & PatientBarcode & EdgeWt & Stage & PFI\\\\\n",
       " <chr> & <dbl> & <chr> & <chr> & <chr> & <chr> & <dbl> & <dbl> & <chr> & <chr> & <dbl> & <dbl> & <dbl>\\\\\n",
       "\\hline\n",
       "\t SKCM & 930270 & Preadipocytes & SFRP1  & FZD6   & Osteoblast  &  0.2743006 &  0.1540085 & TCGA-DA-A960-01A-11R-A37K-07 & TCGA-DA-A960 & 0.008969967 & 1 & 2\\\\\n",
       "\t SKCM & 925750 & Preadipocytes & COL5A3 & SDC3   & Mast cells  &  0.2949511 &  0.1781628 & TCGA-EB-A4OZ-01A-12R-A266-07 & TCGA-EB-A4OZ & 0.038965212 & 2 & 2\\\\\n",
       "\t SKCM & 925806 & Preadipocytes & LRPAP1 & SORT1  & Mast cells  &  0.2733259 &  0.2018222 & TCGA-FR-A3R1-01A-11R-A239-07 & TCGA-FR-A3R1 & 0.280340579 & 1 & 2\\\\\n",
       "\t SKCM & 926381 & Preadipocytes & SEMA5A & PLXNB3 & Melanocytes &  0.3791195 &  0.2544220 & TCGA-XV-AAZY-01A-12R-A40A-07 & TCGA-XV-AAZY & 0.632340717 & 2 & 2\\\\\n",
       "\t SKCM & 517677 & Macrophages   & UBA52  & NOTCH1 & Osteoblast  & -0.2836101 & -0.1454840 & TCGA-EB-A6R0-01A-12R-A32P-07 & TCGA-EB-A6R0 & 0.209877156 & 1 & 2\\\\\n",
       "\t SKCM & 608593 & Melanocytes   & UBA52  & NOTCH1 & Osteoblast  & -0.2754347 & -0.2005447 & TCGA-EB-A3XC-01A-11R-A239-07 & TCGA-EB-A3XC & 0.285947478 & 1 & 1\\\\\n",
       "\\end{tabular}\n"
      ],
      "text/markdown": [
       "\n",
       "A tibble: 6 × 13\n",
       "\n",
       "| Study &lt;chr&gt; | EdgeID &lt;dbl&gt; | LCell &lt;chr&gt; | Ligand &lt;chr&gt; | Receptor &lt;chr&gt; | RCell &lt;chr&gt; | S1 &lt;dbl&gt; | med_diff &lt;dbl&gt; | AliquotBarcode &lt;chr&gt; | PatientBarcode &lt;chr&gt; | EdgeWt &lt;dbl&gt; | Stage &lt;dbl&gt; | PFI &lt;dbl&gt; |\n",
       "|---|---|---|---|---|---|---|---|---|---|---|---|---|\n",
       "| SKCM | 930270 | Preadipocytes | SFRP1  | FZD6   | Osteoblast  |  0.2743006 |  0.1540085 | TCGA-DA-A960-01A-11R-A37K-07 | TCGA-DA-A960 | 0.008969967 | 1 | 2 |\n",
       "| SKCM | 925750 | Preadipocytes | COL5A3 | SDC3   | Mast cells  |  0.2949511 |  0.1781628 | TCGA-EB-A4OZ-01A-12R-A266-07 | TCGA-EB-A4OZ | 0.038965212 | 2 | 2 |\n",
       "| SKCM | 925806 | Preadipocytes | LRPAP1 | SORT1  | Mast cells  |  0.2733259 |  0.2018222 | TCGA-FR-A3R1-01A-11R-A239-07 | TCGA-FR-A3R1 | 0.280340579 | 1 | 2 |\n",
       "| SKCM | 926381 | Preadipocytes | SEMA5A | PLXNB3 | Melanocytes |  0.3791195 |  0.2544220 | TCGA-XV-AAZY-01A-12R-A40A-07 | TCGA-XV-AAZY | 0.632340717 | 2 | 2 |\n",
       "| SKCM | 517677 | Macrophages   | UBA52  | NOTCH1 | Osteoblast  | -0.2836101 | -0.1454840 | TCGA-EB-A6R0-01A-12R-A32P-07 | TCGA-EB-A6R0 | 0.209877156 | 1 | 2 |\n",
       "| SKCM | 608593 | Melanocytes   | UBA52  | NOTCH1 | Osteoblast  | -0.2754347 | -0.2005447 | TCGA-EB-A3XC-01A-11R-A239-07 | TCGA-EB-A3XC | 0.285947478 | 1 | 1 |\n",
       "\n"
      ],
      "text/plain": [
       "  Study EdgeID LCell         Ligand Receptor RCell       S1         med_diff  \n",
       "1 SKCM  930270 Preadipocytes SFRP1  FZD6     Osteoblast   0.2743006  0.1540085\n",
       "2 SKCM  925750 Preadipocytes COL5A3 SDC3     Mast cells   0.2949511  0.1781628\n",
       "3 SKCM  925806 Preadipocytes LRPAP1 SORT1    Mast cells   0.2733259  0.2018222\n",
       "4 SKCM  926381 Preadipocytes SEMA5A PLXNB3   Melanocytes  0.3791195  0.2544220\n",
       "5 SKCM  517677 Macrophages   UBA52  NOTCH1   Osteoblast  -0.2836101 -0.1454840\n",
       "6 SKCM  608593 Melanocytes   UBA52  NOTCH1   Osteoblast  -0.2754347 -0.2005447\n",
       "  AliquotBarcode               PatientBarcode EdgeWt      Stage PFI\n",
       "1 TCGA-DA-A960-01A-11R-A37K-07 TCGA-DA-A960   0.008969967 1     2  \n",
       "2 TCGA-EB-A4OZ-01A-12R-A266-07 TCGA-EB-A4OZ   0.038965212 2     2  \n",
       "3 TCGA-FR-A3R1-01A-11R-A239-07 TCGA-FR-A3R1   0.280340579 1     2  \n",
       "4 TCGA-XV-AAZY-01A-12R-A40A-07 TCGA-XV-AAZY   0.632340717 2     2  \n",
       "5 TCGA-EB-A6R0-01A-12R-A32P-07 TCGA-EB-A6R0   0.209877156 1     2  \n",
       "6 TCGA-EB-A3XC-01A-11R-A239-07 TCGA-EB-A3XC   0.285947478 1     1  "
      ]
     },
     "metadata": {},
     "output_type": "display_data"
    }
   ],
   "source": [
    "\n",
    "# selecting one tissue type\n",
    "selectedStudy <- studies$Study[6]\n",
    "#\n",
    "dat <- pfidat %>% dplyr::filter(Study == selectedStudy)\n",
    "head(dat)\n"
   ]
  },
  {
   "cell_type": "code",
   "execution_count": 5,
   "metadata": {},
   "outputs": [
    {
     "data": {
      "text/html": [
       "<table>\n",
       "<caption>A grouped_df: 2 × 2</caption>\n",
       "<thead>\n",
       "\t<tr><th scope=col>PFI</th><th scope=col>n</th></tr>\n",
       "\t<tr><th scope=col>&lt;dbl&gt;</th><th scope=col>&lt;int&gt;</th></tr>\n",
       "</thead>\n",
       "<tbody>\n",
       "\t<tr><td>1</td><td>27</td></tr>\n",
       "\t<tr><td>2</td><td>75</td></tr>\n",
       "</tbody>\n",
       "</table>\n"
      ],
      "text/latex": [
       "A grouped\\_df: 2 × 2\n",
       "\\begin{tabular}{ll}\n",
       " PFI & n\\\\\n",
       " <dbl> & <int>\\\\\n",
       "\\hline\n",
       "\t 1 & 27\\\\\n",
       "\t 2 & 75\\\\\n",
       "\\end{tabular}\n"
      ],
      "text/markdown": [
       "\n",
       "A grouped_df: 2 × 2\n",
       "\n",
       "| PFI &lt;dbl&gt; | n &lt;int&gt; |\n",
       "|---|---|\n",
       "| 1 | 27 |\n",
       "| 2 | 75 |\n",
       "\n"
      ],
      "text/plain": [
       "  PFI n \n",
       "1 1   27\n",
       "2 2   75"
      ]
     },
     "metadata": {},
     "output_type": "display_data"
    }
   ],
   "source": [
    "\n",
    "# counting samples\n",
    "\n",
    "dat %>% dplyr::select(PatientBarcode, PFI) %>% unique() %>% group_by(PFI) %>% count()        # now required with changes to dplyr::count()\n"
   ]
  },
  {
   "cell_type": "code",
   "execution_count": 6,
   "metadata": {},
   "outputs": [
    {
     "data": {
      "text/html": [
       "<style>\n",
       ".list-inline {list-style: none; margin:0; padding: 0}\n",
       ".list-inline>li {display: inline-block}\n",
       ".list-inline>li:not(:last-child)::after {content: \"\\00b7\"; padding: 0 .5ex}\n",
       "</style>\n",
       "<ol class=list-inline><li>102</li><li>250</li></ol>\n"
      ],
      "text/latex": [
       "\\begin{enumerate*}\n",
       "\\item 102\n",
       "\\item 250\n",
       "\\end{enumerate*}\n"
      ],
      "text/markdown": [
       "1. 102\n",
       "2. 250\n",
       "\n",
       "\n"
      ],
      "text/plain": [
       "[1] 102 250"
      ]
     },
     "metadata": {},
     "output_type": "display_data"
    },
    {
     "data": {
      "text/html": [
       "<table>\n",
       "<caption>A tibble: 5 × 5</caption>\n",
       "<thead>\n",
       "\t<tr><th scope=col>PatientBarcode</th><th scope=col>930270</th><th scope=col>925750</th><th scope=col>925806</th><th scope=col>926381</th></tr>\n",
       "\t<tr><th scope=col>&lt;chr&gt;</th><th scope=col>&lt;dbl&gt;</th><th scope=col>&lt;dbl&gt;</th><th scope=col>&lt;dbl&gt;</th><th scope=col>&lt;dbl&gt;</th></tr>\n",
       "</thead>\n",
       "<tbody>\n",
       "\t<tr><td>TCGA-DA-A960</td><td>0.008969967</td><td>0.06633601</td><td>0.22041704</td><td>0.59319921</td></tr>\n",
       "\t<tr><td>TCGA-EB-A4OZ</td><td>0.044414078</td><td>0.03896521</td><td>0.03217417</td><td>0.16444896</td></tr>\n",
       "\t<tr><td>TCGA-FR-A3R1</td><td>0.458791632</td><td>0.13252756</td><td>0.28034058</td><td>0.03409465</td></tr>\n",
       "\t<tr><td>TCGA-XV-AAZY</td><td>0.036759801</td><td>0.08686758</td><td>0.13795425</td><td>0.63234072</td></tr>\n",
       "\t<tr><td>TCGA-EB-A6R0</td><td>0.081663821</td><td>0.11628640</td><td>0.08602340</td><td>0.15022659</td></tr>\n",
       "</tbody>\n",
       "</table>\n"
      ],
      "text/latex": [
       "A tibble: 5 × 5\n",
       "\\begin{tabular}{lllll}\n",
       " PatientBarcode & 930270 & 925750 & 925806 & 926381\\\\\n",
       " <chr> & <dbl> & <dbl> & <dbl> & <dbl>\\\\\n",
       "\\hline\n",
       "\t TCGA-DA-A960 & 0.008969967 & 0.06633601 & 0.22041704 & 0.59319921\\\\\n",
       "\t TCGA-EB-A4OZ & 0.044414078 & 0.03896521 & 0.03217417 & 0.16444896\\\\\n",
       "\t TCGA-FR-A3R1 & 0.458791632 & 0.13252756 & 0.28034058 & 0.03409465\\\\\n",
       "\t TCGA-XV-AAZY & 0.036759801 & 0.08686758 & 0.13795425 & 0.63234072\\\\\n",
       "\t TCGA-EB-A6R0 & 0.081663821 & 0.11628640 & 0.08602340 & 0.15022659\\\\\n",
       "\\end{tabular}\n"
      ],
      "text/markdown": [
       "\n",
       "A tibble: 5 × 5\n",
       "\n",
       "| PatientBarcode &lt;chr&gt; | 930270 &lt;dbl&gt; | 925750 &lt;dbl&gt; | 925806 &lt;dbl&gt; | 926381 &lt;dbl&gt; |\n",
       "|---|---|---|---|---|\n",
       "| TCGA-DA-A960 | 0.008969967 | 0.06633601 | 0.22041704 | 0.59319921 |\n",
       "| TCGA-EB-A4OZ | 0.044414078 | 0.03896521 | 0.03217417 | 0.16444896 |\n",
       "| TCGA-FR-A3R1 | 0.458791632 | 0.13252756 | 0.28034058 | 0.03409465 |\n",
       "| TCGA-XV-AAZY | 0.036759801 | 0.08686758 | 0.13795425 | 0.63234072 |\n",
       "| TCGA-EB-A6R0 | 0.081663821 | 0.11628640 | 0.08602340 | 0.15022659 |\n",
       "\n"
      ],
      "text/plain": [
       "  PatientBarcode 930270      925750     925806     926381    \n",
       "1 TCGA-DA-A960   0.008969967 0.06633601 0.22041704 0.59319921\n",
       "2 TCGA-EB-A4OZ   0.044414078 0.03896521 0.03217417 0.16444896\n",
       "3 TCGA-FR-A3R1   0.458791632 0.13252756 0.28034058 0.03409465\n",
       "4 TCGA-XV-AAZY   0.036759801 0.08686758 0.13795425 0.63234072\n",
       "5 TCGA-EB-A6R0   0.081663821 0.11628640 0.08602340 0.15022659"
      ]
     },
     "metadata": {},
     "output_type": "display_data"
    }
   ],
   "source": [
    "\n",
    "# making a matrix\n",
    "datmat <- pivot_wider(data = dat %>% dplyr::select(PatientBarcode, EdgeID, EdgeWt), names_from = EdgeID, values_from = EdgeWt)\n",
    "dim(datmat)\n",
    "datmat[1:5,1:5]\n"
   ]
  },
  {
   "cell_type": "code",
   "execution_count": 7,
   "metadata": {},
   "outputs": [],
   "source": [
    "\n",
    "# to pull out the phenotype\n",
    "labels <- sapply(datmat$PatientBarcode, function(a) (dat %>% dplyr::filter(PatientBarcode == a) %>% dplyr::select(PFI) %>% pull())[1])\n",
    "# and match the datmat partient barcode order\n",
    "labels <- labels[datmat$PatientBarcode]\n",
    "labels <- sapply(labels, function(a) paste0('pfi_',a))\n",
    "                 "
   ]
  },
  {
   "cell_type": "code",
   "execution_count": 8,
   "metadata": {},
   "outputs": [
    {
     "data": {
      "text/html": [
       "<table>\n",
       "<caption>A data.frame: 6 × 2</caption>\n",
       "<thead>\n",
       "\t<tr><th></th><th scope=col>Pheno</th><th scope=col>Edge1</th></tr>\n",
       "\t<tr><th></th><th scope=col>&lt;fct&gt;</th><th scope=col>&lt;dbl&gt;</th></tr>\n",
       "</thead>\n",
       "<tbody>\n",
       "\t<tr><th scope=row>TCGA-DA-A960</th><td>pfi_2</td><td>0.59319921</td></tr>\n",
       "\t<tr><th scope=row>TCGA-EB-A4OZ</th><td>pfi_2</td><td>0.16444896</td></tr>\n",
       "\t<tr><th scope=row>TCGA-FR-A3R1</th><td>pfi_2</td><td>0.03409465</td></tr>\n",
       "\t<tr><th scope=row>TCGA-XV-AAZY</th><td>pfi_2</td><td>0.63234072</td></tr>\n",
       "\t<tr><th scope=row>TCGA-EB-A6R0</th><td>pfi_2</td><td>0.15022659</td></tr>\n",
       "\t<tr><th scope=row>TCGA-EB-A3XC</th><td>pfi_1</td><td>0.35185688</td></tr>\n",
       "</tbody>\n",
       "</table>\n"
      ],
      "text/latex": [
       "A data.frame: 6 × 2\n",
       "\\begin{tabular}{r|ll}\n",
       "  & Pheno & Edge1\\\\\n",
       "  & <fct> & <dbl>\\\\\n",
       "\\hline\n",
       "\tTCGA-DA-A960 & pfi\\_2 & 0.59319921\\\\\n",
       "\tTCGA-EB-A4OZ & pfi\\_2 & 0.16444896\\\\\n",
       "\tTCGA-FR-A3R1 & pfi\\_2 & 0.03409465\\\\\n",
       "\tTCGA-XV-AAZY & pfi\\_2 & 0.63234072\\\\\n",
       "\tTCGA-EB-A6R0 & pfi\\_2 & 0.15022659\\\\\n",
       "\tTCGA-EB-A3XC & pfi\\_1 & 0.35185688\\\\\n",
       "\\end{tabular}\n"
      ],
      "text/markdown": [
       "\n",
       "A data.frame: 6 × 2\n",
       "\n",
       "| <!--/--> | Pheno &lt;fct&gt; | Edge1 &lt;dbl&gt; |\n",
       "|---|---|---|\n",
       "| TCGA-DA-A960 | pfi_2 | 0.59319921 |\n",
       "| TCGA-EB-A4OZ | pfi_2 | 0.16444896 |\n",
       "| TCGA-FR-A3R1 | pfi_2 | 0.03409465 |\n",
       "| TCGA-XV-AAZY | pfi_2 | 0.63234072 |\n",
       "| TCGA-EB-A6R0 | pfi_2 | 0.15022659 |\n",
       "| TCGA-EB-A3XC | pfi_1 | 0.35185688 |\n",
       "\n"
      ],
      "text/plain": [
       "             Pheno Edge1     \n",
       "TCGA-DA-A960 pfi_2 0.59319921\n",
       "TCGA-EB-A4OZ pfi_2 0.16444896\n",
       "TCGA-FR-A3R1 pfi_2 0.03409465\n",
       "TCGA-XV-AAZY pfi_2 0.63234072\n",
       "TCGA-EB-A6R0 pfi_2 0.15022659\n",
       "TCGA-EB-A3XC pfi_1 0.35185688"
      ]
     },
     "metadata": {},
     "output_type": "display_data"
    },
    {
     "data": {
      "text/html": [
       "&lt;NA&gt;"
      ],
      "text/latex": [
       "<NA>"
      ],
      "text/markdown": [
       "&lt;NA&gt;"
      ],
      "text/plain": [
       "[1] NA"
      ]
     },
     "metadata": {},
     "output_type": "display_data"
    },
    {
     "data": {
      "image/png": "[encoded data removed]",
      "text/plain": [
       "plot without title"
      ]
     },
     "metadata": {
      "image/png": {
       "height": 420,
       "width": 420
      },
      "text/plain": {
       "height": 420,
       "width": 420
      }
     },
     "output_type": "display_data"
    }
   ],
   "source": [
    "\n",
    "plotdat <- data.frame(Pheno=labels, Edge1=as.numeric(datmat[,5] %>% pull()))\n",
    "head(plotdat)\n",
    "qplot(data=plotdat, x=Pheno, y=Edge1, geom='boxplot', fill=as.factor(Pheno))\n",
    "median(as.numeric(plotdat$Edge1[plotdat$Pheno == 1]), na.rm = T)  - median(as.numeric(plotdat$Edge1[plotdat$Pheno == 2]), na.rm = T)\n"
   ]
  },
  {
   "cell_type": "code",
   "execution_count": 9,
   "metadata": {},
   "outputs": [],
   "source": [
    "\n",
    "# data prep #\n",
    "x <- as.data.frame(datmat[,-1])     # \n",
    "x$Phenotype <- labels             # probably don't need this since it goes to factor\n",
    "x <- x[x$Phenotype != 'pfi_NA', ] # remove NAs\n",
    "colnames(x) <- c(sapply(colnames(x)[1:(ncol(x)-1)], function(a) paste0('edge_',a)), 'Phenotype')\n",
    "x$Phenotype <- as.factor(x$Phenotype)\n",
    "x[is.na(x)] <- 0\n",
    "                        "
   ]
  },
  {
   "cell_type": "code",
   "execution_count": 10,
   "metadata": {},
   "outputs": [
    {
     "data": {
      "text/html": [
       "<table>\n",
       "<caption>A data.frame: 5 × 5</caption>\n",
       "<thead>\n",
       "\t<tr><th></th><th scope=col>edge_930270</th><th scope=col>edge_925750</th><th scope=col>edge_925806</th><th scope=col>edge_926381</th><th scope=col>edge_517677</th></tr>\n",
       "\t<tr><th></th><th scope=col>&lt;dbl&gt;</th><th scope=col>&lt;dbl&gt;</th><th scope=col>&lt;dbl&gt;</th><th scope=col>&lt;dbl&gt;</th><th scope=col>&lt;dbl&gt;</th></tr>\n",
       "</thead>\n",
       "<tbody>\n",
       "\t<tr><th scope=row>1</th><td>0.008969967</td><td>0.06633601</td><td>0.22041704</td><td>0.59319921</td><td>0.20020104</td></tr>\n",
       "\t<tr><th scope=row>2</th><td>0.044414078</td><td>0.03896521</td><td>0.03217417</td><td>0.16444896</td><td>0.38781689</td></tr>\n",
       "\t<tr><th scope=row>3</th><td>0.458791632</td><td>0.13252756</td><td>0.28034058</td><td>0.03409465</td><td>0.05511061</td></tr>\n",
       "\t<tr><th scope=row>4</th><td>0.036759801</td><td>0.08686758</td><td>0.13795425</td><td>0.63234072</td><td>0.27500894</td></tr>\n",
       "\t<tr><th scope=row>5</th><td>0.081663821</td><td>0.11628640</td><td>0.08602340</td><td>0.15022659</td><td>0.20987716</td></tr>\n",
       "</tbody>\n",
       "</table>\n"
      ],
      "text/latex": [
       "A data.frame: 5 × 5\n",
       "\\begin{tabular}{r|lllll}\n",
       "  & edge\\_930270 & edge\\_925750 & edge\\_925806 & edge\\_926381 & edge\\_517677\\\\\n",
       "  & <dbl> & <dbl> & <dbl> & <dbl> & <dbl>\\\\\n",
       "\\hline\n",
       "\t1 & 0.008969967 & 0.06633601 & 0.22041704 & 0.59319921 & 0.20020104\\\\\n",
       "\t2 & 0.044414078 & 0.03896521 & 0.03217417 & 0.16444896 & 0.38781689\\\\\n",
       "\t3 & 0.458791632 & 0.13252756 & 0.28034058 & 0.03409465 & 0.05511061\\\\\n",
       "\t4 & 0.036759801 & 0.08686758 & 0.13795425 & 0.63234072 & 0.27500894\\\\\n",
       "\t5 & 0.081663821 & 0.11628640 & 0.08602340 & 0.15022659 & 0.20987716\\\\\n",
       "\\end{tabular}\n"
      ],
      "text/markdown": [
       "\n",
       "A data.frame: 5 × 5\n",
       "\n",
       "| <!--/--> | edge_930270 &lt;dbl&gt; | edge_925750 &lt;dbl&gt; | edge_925806 &lt;dbl&gt; | edge_926381 &lt;dbl&gt; | edge_517677 &lt;dbl&gt; |\n",
       "|---|---|---|---|---|---|\n",
       "| 1 | 0.008969967 | 0.06633601 | 0.22041704 | 0.59319921 | 0.20020104 |\n",
       "| 2 | 0.044414078 | 0.03896521 | 0.03217417 | 0.16444896 | 0.38781689 |\n",
       "| 3 | 0.458791632 | 0.13252756 | 0.28034058 | 0.03409465 | 0.05511061 |\n",
       "| 4 | 0.036759801 | 0.08686758 | 0.13795425 | 0.63234072 | 0.27500894 |\n",
       "| 5 | 0.081663821 | 0.11628640 | 0.08602340 | 0.15022659 | 0.20987716 |\n",
       "\n"
      ],
      "text/plain": [
       "  edge_930270 edge_925750 edge_925806 edge_926381 edge_517677\n",
       "1 0.008969967 0.06633601  0.22041704  0.59319921  0.20020104 \n",
       "2 0.044414078 0.03896521  0.03217417  0.16444896  0.38781689 \n",
       "3 0.458791632 0.13252756  0.28034058  0.03409465  0.05511061 \n",
       "4 0.036759801 0.08686758  0.13795425  0.63234072  0.27500894 \n",
       "5 0.081663821 0.11628640  0.08602340  0.15022659  0.20987716 "
      ]
     },
     "metadata": {},
     "output_type": "display_data"
    },
    {
     "data": {
      "text/html": [
       "<style>\n",
       ".list-inline {list-style: none; margin:0; padding: 0}\n",
       ".list-inline>li {display: inline-block}\n",
       ".list-inline>li:not(:last-child)::after {content: \"\\00b7\"; padding: 0 .5ex}\n",
       "</style>\n",
       "<ol class=list-inline><li>102</li><li>250</li></ol>\n"
      ],
      "text/latex": [
       "\\begin{enumerate*}\n",
       "\\item 102\n",
       "\\item 250\n",
       "\\end{enumerate*}\n"
      ],
      "text/markdown": [
       "1. 102\n",
       "2. 250\n",
       "\n",
       "\n"
      ],
      "text/plain": [
       "[1] 102 250"
      ]
     },
     "metadata": {},
     "output_type": "display_data"
    },
    {
     "data": {
      "text/html": [
       "<table>\n",
       "<caption>A data.frame: 5 × 5</caption>\n",
       "<thead>\n",
       "\t<tr><th></th><th scope=col>edge_672840</th><th scope=col>edge_84115</th><th scope=col>edge_836622</th><th scope=col>edge_840011</th><th scope=col>edge_926348</th></tr>\n",
       "\t<tr><th></th><th scope=col>&lt;dbl&gt;</th><th scope=col>&lt;dbl&gt;</th><th scope=col>&lt;dbl&gt;</th><th scope=col>&lt;dbl&gt;</th><th scope=col>&lt;dbl&gt;</th></tr>\n",
       "</thead>\n",
       "<tbody>\n",
       "\t<tr><th scope=row>1</th><td>0.001176541</td><td>0.2995126</td><td>0.02562615</td><td>0.57205956</td><td>0.02610378</td></tr>\n",
       "\t<tr><th scope=row>2</th><td>0.667293456</td><td>0.3985119</td><td>0.39797780</td><td>0.24740256</td><td>0.36500313</td></tr>\n",
       "\t<tr><th scope=row>3</th><td>0.078085492</td><td>0.1805699</td><td>0.58819625</td><td>0.11748225</td><td>0.14226392</td></tr>\n",
       "\t<tr><th scope=row>4</th><td>0.004455359</td><td>0.6373509</td><td>0.92302421</td><td>0.67563518</td><td>0.56103589</td></tr>\n",
       "\t<tr><th scope=row>5</th><td>0.202230893</td><td>0.2193090</td><td>0.71845927</td><td>0.07216504</td><td>0.19854157</td></tr>\n",
       "</tbody>\n",
       "</table>\n"
      ],
      "text/latex": [
       "A data.frame: 5 × 5\n",
       "\\begin{tabular}{r|lllll}\n",
       "  & edge\\_672840 & edge\\_84115 & edge\\_836622 & edge\\_840011 & edge\\_926348\\\\\n",
       "  & <dbl> & <dbl> & <dbl> & <dbl> & <dbl>\\\\\n",
       "\\hline\n",
       "\t1 & 0.001176541 & 0.2995126 & 0.02562615 & 0.57205956 & 0.02610378\\\\\n",
       "\t2 & 0.667293456 & 0.3985119 & 0.39797780 & 0.24740256 & 0.36500313\\\\\n",
       "\t3 & 0.078085492 & 0.1805699 & 0.58819625 & 0.11748225 & 0.14226392\\\\\n",
       "\t4 & 0.004455359 & 0.6373509 & 0.92302421 & 0.67563518 & 0.56103589\\\\\n",
       "\t5 & 0.202230893 & 0.2193090 & 0.71845927 & 0.07216504 & 0.19854157\\\\\n",
       "\\end{tabular}\n"
      ],
      "text/markdown": [
       "\n",
       "A data.frame: 5 × 5\n",
       "\n",
       "| <!--/--> | edge_672840 &lt;dbl&gt; | edge_84115 &lt;dbl&gt; | edge_836622 &lt;dbl&gt; | edge_840011 &lt;dbl&gt; | edge_926348 &lt;dbl&gt; |\n",
       "|---|---|---|---|---|---|\n",
       "| 1 | 0.001176541 | 0.2995126 | 0.02562615 | 0.57205956 | 0.02610378 |\n",
       "| 2 | 0.667293456 | 0.3985119 | 0.39797780 | 0.24740256 | 0.36500313 |\n",
       "| 3 | 0.078085492 | 0.1805699 | 0.58819625 | 0.11748225 | 0.14226392 |\n",
       "| 4 | 0.004455359 | 0.6373509 | 0.92302421 | 0.67563518 | 0.56103589 |\n",
       "| 5 | 0.202230893 | 0.2193090 | 0.71845927 | 0.07216504 | 0.19854157 |\n",
       "\n"
      ],
      "text/plain": [
       "  edge_672840 edge_84115 edge_836622 edge_840011 edge_926348\n",
       "1 0.001176541 0.2995126  0.02562615  0.57205956  0.02610378 \n",
       "2 0.667293456 0.3985119  0.39797780  0.24740256  0.36500313 \n",
       "3 0.078085492 0.1805699  0.58819625  0.11748225  0.14226392 \n",
       "4 0.004455359 0.6373509  0.92302421  0.67563518  0.56103589 \n",
       "5 0.202230893 0.2193090  0.71845927  0.07216504  0.19854157 "
      ]
     },
     "metadata": {},
     "output_type": "display_data"
    }
   ],
   "source": [
    "x[1:5,1:5]\n",
    "dim(x)\n",
    "x[1:5,134:138]"
   ]
  },
  {
   "cell_type": "code",
   "execution_count": null,
   "metadata": {},
   "outputs": [],
   "source": []
  },
  {
   "cell_type": "code",
   "execution_count": null,
   "metadata": {},
   "outputs": [],
   "source": []
  },
  {
   "cell_type": "code",
   "execution_count": null,
   "metadata": {},
   "outputs": [],
   "source": []
  },
  {
   "cell_type": "code",
   "execution_count": 11,
   "metadata": {},
   "outputs": [
    {
     "name": "stderr",
     "output_type": "stream",
     "text": [
      "\n",
      "Attaching package: ‘xgboost’\n",
      "\n",
      "\n",
      "The following object is masked from ‘package:dplyr’:\n",
      "\n",
      "    slice\n",
      "\n",
      "\n"
     ]
    },
    {
     "name": "stdout",
     "output_type": "stream",
     "text": [
      "[1]\ttrain-auc:0.770864 \n",
      "Will train until train_auc hasn't improved in 2 rounds.\n",
      "\n",
      "[2]\ttrain-auc:0.928148 \n",
      "[3]\ttrain-auc:0.956543 \n",
      "[4]\ttrain-auc:0.951111 \n",
      "[5]\ttrain-auc:0.952593 \n",
      "Stopping. Best iteration:\n",
      "[3]\ttrain-auc:0.956543\n",
      "\n"
     ]
    },
    {
     "data": {
      "text/html": [
       "<table>\n",
       "<caption>A data.table: 10 × 4</caption>\n",
       "<thead>\n",
       "\t<tr><th scope=col>Feature</th><th scope=col>Gain</th><th scope=col>Cover</th><th scope=col>Frequency</th></tr>\n",
       "\t<tr><th scope=col>&lt;chr&gt;</th><th scope=col>&lt;dbl&gt;</th><th scope=col>&lt;dbl&gt;</th><th scope=col>&lt;dbl&gt;</th></tr>\n",
       "</thead>\n",
       "<tbody>\n",
       "\t<tr><td>edge_1008243</td><td>0.24229199</td><td>0.20290058</td><td>0.13333333</td></tr>\n",
       "\t<tr><td>edge_517677 </td><td>0.20045771</td><td>0.19595296</td><td>0.13333333</td></tr>\n",
       "\t<tr><td>edge_80934  </td><td>0.10340316</td><td>0.10114645</td><td>0.06666667</td></tr>\n",
       "\t<tr><td>edge_1007915</td><td>0.08243607</td><td>0.03933406</td><td>0.13333333</td></tr>\n",
       "\t<tr><td>edge_84049  </td><td>0.07996045</td><td>0.09311003</td><td>0.06666667</td></tr>\n",
       "\t<tr><td>edge_924706 </td><td>0.06711627</td><td>0.08425950</td><td>0.06666667</td></tr>\n",
       "\t<tr><td>edge_289766 </td><td>0.05718385</td><td>0.08101135</td><td>0.06666667</td></tr>\n",
       "\t<tr><td>edge_605132 </td><td>0.05627482</td><td>0.02013510</td><td>0.06666667</td></tr>\n",
       "\t<tr><td>edge_827823 </td><td>0.04774378</td><td>0.07235941</td><td>0.06666667</td></tr>\n",
       "\t<tr><td>edge_81365  </td><td>0.04450179</td><td>0.08351277</td><td>0.06666667</td></tr>\n",
       "</tbody>\n",
       "</table>\n"
      ],
      "text/latex": [
       "A data.table: 10 × 4\n",
       "\\begin{tabular}{llll}\n",
       " Feature & Gain & Cover & Frequency\\\\\n",
       " <chr> & <dbl> & <dbl> & <dbl>\\\\\n",
       "\\hline\n",
       "\t edge\\_1008243 & 0.24229199 & 0.20290058 & 0.13333333\\\\\n",
       "\t edge\\_517677  & 0.20045771 & 0.19595296 & 0.13333333\\\\\n",
       "\t edge\\_80934   & 0.10340316 & 0.10114645 & 0.06666667\\\\\n",
       "\t edge\\_1007915 & 0.08243607 & 0.03933406 & 0.13333333\\\\\n",
       "\t edge\\_84049   & 0.07996045 & 0.09311003 & 0.06666667\\\\\n",
       "\t edge\\_924706  & 0.06711627 & 0.08425950 & 0.06666667\\\\\n",
       "\t edge\\_289766  & 0.05718385 & 0.08101135 & 0.06666667\\\\\n",
       "\t edge\\_605132  & 0.05627482 & 0.02013510 & 0.06666667\\\\\n",
       "\t edge\\_827823  & 0.04774378 & 0.07235941 & 0.06666667\\\\\n",
       "\t edge\\_81365   & 0.04450179 & 0.08351277 & 0.06666667\\\\\n",
       "\\end{tabular}\n"
      ],
      "text/markdown": [
       "\n",
       "A data.table: 10 × 4\n",
       "\n",
       "| Feature &lt;chr&gt; | Gain &lt;dbl&gt; | Cover &lt;dbl&gt; | Frequency &lt;dbl&gt; |\n",
       "|---|---|---|---|\n",
       "| edge_1008243 | 0.24229199 | 0.20290058 | 0.13333333 |\n",
       "| edge_517677  | 0.20045771 | 0.19595296 | 0.13333333 |\n",
       "| edge_80934   | 0.10340316 | 0.10114645 | 0.06666667 |\n",
       "| edge_1007915 | 0.08243607 | 0.03933406 | 0.13333333 |\n",
       "| edge_84049   | 0.07996045 | 0.09311003 | 0.06666667 |\n",
       "| edge_924706  | 0.06711627 | 0.08425950 | 0.06666667 |\n",
       "| edge_289766  | 0.05718385 | 0.08101135 | 0.06666667 |\n",
       "| edge_605132  | 0.05627482 | 0.02013510 | 0.06666667 |\n",
       "| edge_827823  | 0.04774378 | 0.07235941 | 0.06666667 |\n",
       "| edge_81365   | 0.04450179 | 0.08351277 | 0.06666667 |\n",
       "\n"
      ],
      "text/plain": [
       "   Feature      Gain       Cover      Frequency \n",
       "1  edge_1008243 0.24229199 0.20290058 0.13333333\n",
       "2  edge_517677  0.20045771 0.19595296 0.13333333\n",
       "3  edge_80934   0.10340316 0.10114645 0.06666667\n",
       "4  edge_1007915 0.08243607 0.03933406 0.13333333\n",
       "5  edge_84049   0.07996045 0.09311003 0.06666667\n",
       "6  edge_924706  0.06711627 0.08425950 0.06666667\n",
       "7  edge_289766  0.05718385 0.08101135 0.06666667\n",
       "8  edge_605132  0.05627482 0.02013510 0.06666667\n",
       "9  edge_827823  0.04774378 0.07235941 0.06666667\n",
       "10 edge_81365   0.04450179 0.08351277 0.06666667"
      ]
     },
     "metadata": {},
     "output_type": "display_data"
    },
    {
     "data": {
      "text/plain": [
       "       ylab\n",
       "         0  1\n",
       "  FALSE 18  0\n",
       "  TRUE   9 75"
      ]
     },
     "metadata": {},
     "output_type": "display_data"
    },
    {
     "data": {
      "text/html": [
       "0.911764705882353"
      ],
      "text/latex": [
       "0.911764705882353"
      ],
      "text/markdown": [
       "0.911764705882353"
      ],
      "text/plain": [
       "[1] 0.9117647"
      ]
     },
     "metadata": {},
     "output_type": "display_data"
    }
   ],
   "source": [
    "# modeling the within data assocations\n",
    "\n",
    "library(xgboost)\n",
    "\n",
    "xmat <- as.matrix(x[,-ncol(x)])\n",
    "ylab <- as.numeric(x$Phenotype)-1\n",
    "\n",
    "dtrain <- xgboost::xgb.DMatrix(xmat, label=ylab)\n",
    "\n",
    "param <- list(max_depth = 2, eta = 0.2, nthread = 2,\n",
    "                objective = \"binary:logistic\", eval_metric = \"auc\")\n",
    "\n",
    "mod <- xgboost::xgboost(data=dtrain, params = param, nrounds=100, early_stopping_rounds = 2)\n",
    "\n",
    "pred <- predict(mod, xmat)\n",
    "\n",
    "restab <- table(pred > 0.5, ylab)\n",
    "\n",
    "head(xgboost::xgb.importance(model = mod), n=10)\n",
    "\n",
    "restab\n",
    "acc <- (restab[1,1]+restab[2,2]) / sum(restab)\n",
    "acc\n"
   ]
  },
  {
   "cell_type": "code",
   "execution_count": null,
   "metadata": {},
   "outputs": [],
   "source": []
  },
  {
   "cell_type": "code",
   "execution_count": null,
   "metadata": {},
   "outputs": [],
   "source": []
  },
  {
   "cell_type": "code",
   "execution_count": 63,
   "metadata": {},
   "outputs": [
    {
     "name": "stderr",
     "output_type": "stream",
     "text": [
      "Joining, by = \"EdgeID\"\n",
      "\n"
     ]
    },
    {
     "data": {
      "text/html": [
       "<table>\n",
       "<caption>A grouped_df: 12 × 11</caption>\n",
       "<thead>\n",
       "\t<tr><th scope=col>Study</th><th scope=col>EdgeID</th><th scope=col>LCell</th><th scope=col>Ligand</th><th scope=col>Receptor</th><th scope=col>RCell</th><th scope=col>S1avg</th><th scope=col>med_diff_avg</th><th scope=col>Gain</th><th scope=col>Cover</th><th scope=col>Frequency</th></tr>\n",
       "\t<tr><th scope=col>&lt;chr&gt;</th><th scope=col>&lt;dbl&gt;</th><th scope=col>&lt;chr&gt;</th><th scope=col>&lt;chr&gt;</th><th scope=col>&lt;chr&gt;</th><th scope=col>&lt;chr&gt;</th><th scope=col>&lt;dbl&gt;</th><th scope=col>&lt;dbl&gt;</th><th scope=col>&lt;dbl&gt;</th><th scope=col>&lt;dbl&gt;</th><th scope=col>&lt;dbl&gt;</th></tr>\n",
       "</thead>\n",
       "<tbody>\n",
       "\t<tr><td>SKCM</td><td>1008243</td><td>Smooth muscle</td><td>SEMA7A</td><td>PLXNC1</td><td>pro B-cells   </td><td> 0.4376186</td><td> 0.2590671</td><td>0.242291987</td><td>0.20290058</td><td>0.13333333</td></tr>\n",
       "\t<tr><td>SKCM</td><td> 517677</td><td>Macrophages  </td><td>UBA52 </td><td>NOTCH1</td><td>Osteoblast    </td><td>-0.2836101</td><td>-0.1454840</td><td>0.200457706</td><td>0.19595296</td><td>0.13333333</td></tr>\n",
       "\t<tr><td>SKCM</td><td>  80934</td><td>Basophils    </td><td>VIM   </td><td>CD44  </td><td>NKT           </td><td>-0.3831566</td><td>-0.2544153</td><td>0.103403160</td><td>0.10114645</td><td>0.06666667</td></tr>\n",
       "\t<tr><td>SKCM</td><td>1007915</td><td>Smooth muscle</td><td>PSAP  </td><td>SORT1 </td><td>Preadipocytes </td><td> 0.3113742</td><td> 0.1753168</td><td>0.082436067</td><td>0.03933406</td><td>0.13333333</td></tr>\n",
       "\t<tr><td>SKCM</td><td>  84049</td><td>Basophils    </td><td>CALM1 </td><td>PTPRA </td><td>Th1 cells     </td><td>-0.2853426</td><td>-0.1509732</td><td>0.079960445</td><td>0.09311003</td><td>0.06666667</td></tr>\n",
       "\t<tr><td>SKCM</td><td> 924706</td><td>Preadipocytes</td><td>MFGE8 </td><td>ITGB3 </td><td>Macrophages   </td><td> 0.3190637</td><td> 0.1973930</td><td>0.067116275</td><td>0.08425950</td><td>0.06666667</td></tr>\n",
       "\t<tr><td>SKCM</td><td> 289766</td><td>CMP          </td><td>VIM   </td><td>CD44  </td><td>NKT           </td><td>-0.2894763</td><td>-0.1828091</td><td>0.057183854</td><td>0.08101135</td><td>0.06666667</td></tr>\n",
       "\t<tr><td>SKCM</td><td> 605132</td><td>Melanocytes  </td><td>LAMA1 </td><td>ITGB1 </td><td>Mast cells    </td><td> 0.2747119</td><td> 0.1549368</td><td>0.056274822</td><td>0.02013510</td><td>0.06666667</td></tr>\n",
       "\t<tr><td>SKCM</td><td> 827823</td><td>Osteoblast   </td><td>COL1A2</td><td>CD36  </td><td>Macrophages M1</td><td> 0.2808179</td><td> 0.1351225</td><td>0.047743775</td><td>0.07235941</td><td>0.06666667</td></tr>\n",
       "\t<tr><td>SKCM</td><td>  81365</td><td>Basophils    </td><td>VIM   </td><td>CD44  </td><td>Osteoblast    </td><td>-0.3025322</td><td>-0.2114122</td><td>0.044501786</td><td>0.08351277</td><td>0.06666667</td></tr>\n",
       "\t<tr><td>SKCM</td><td> 925750</td><td>Preadipocytes</td><td>COL5A3</td><td>SDC3  </td><td>Mast cells    </td><td> 0.2949511</td><td> 0.1781628</td><td>0.013210906</td><td>0.01360034</td><td>0.06666667</td></tr>\n",
       "\t<tr><td>SKCM</td><td> 572401</td><td>Mast cells   </td><td>SEMA7A</td><td>PLXNC1</td><td>CD4+ Tcm      </td><td> 0.3159158</td><td> 0.2057426</td><td>0.005419216</td><td>0.01267744</td><td>0.06666667</td></tr>\n",
       "</tbody>\n",
       "</table>\n"
      ],
      "text/latex": [
       "A grouped\\_df: 12 × 11\n",
       "\\begin{tabular}{lllllllllll}\n",
       " Study & EdgeID & LCell & Ligand & Receptor & RCell & S1avg & med\\_diff\\_avg & Gain & Cover & Frequency\\\\\n",
       " <chr> & <dbl> & <chr> & <chr> & <chr> & <chr> & <dbl> & <dbl> & <dbl> & <dbl> & <dbl>\\\\\n",
       "\\hline\n",
       "\t SKCM & 1008243 & Smooth muscle & SEMA7A & PLXNC1 & pro B-cells    &  0.4376186 &  0.2590671 & 0.242291987 & 0.20290058 & 0.13333333\\\\\n",
       "\t SKCM &  517677 & Macrophages   & UBA52  & NOTCH1 & Osteoblast     & -0.2836101 & -0.1454840 & 0.200457706 & 0.19595296 & 0.13333333\\\\\n",
       "\t SKCM &   80934 & Basophils     & VIM    & CD44   & NKT            & -0.3831566 & -0.2544153 & 0.103403160 & 0.10114645 & 0.06666667\\\\\n",
       "\t SKCM & 1007915 & Smooth muscle & PSAP   & SORT1  & Preadipocytes  &  0.3113742 &  0.1753168 & 0.082436067 & 0.03933406 & 0.13333333\\\\\n",
       "\t SKCM &   84049 & Basophils     & CALM1  & PTPRA  & Th1 cells      & -0.2853426 & -0.1509732 & 0.079960445 & 0.09311003 & 0.06666667\\\\\n",
       "\t SKCM &  924706 & Preadipocytes & MFGE8  & ITGB3  & Macrophages    &  0.3190637 &  0.1973930 & 0.067116275 & 0.08425950 & 0.06666667\\\\\n",
       "\t SKCM &  289766 & CMP           & VIM    & CD44   & NKT            & -0.2894763 & -0.1828091 & 0.057183854 & 0.08101135 & 0.06666667\\\\\n",
       "\t SKCM &  605132 & Melanocytes   & LAMA1  & ITGB1  & Mast cells     &  0.2747119 &  0.1549368 & 0.056274822 & 0.02013510 & 0.06666667\\\\\n",
       "\t SKCM &  827823 & Osteoblast    & COL1A2 & CD36   & Macrophages M1 &  0.2808179 &  0.1351225 & 0.047743775 & 0.07235941 & 0.06666667\\\\\n",
       "\t SKCM &   81365 & Basophils     & VIM    & CD44   & Osteoblast     & -0.3025322 & -0.2114122 & 0.044501786 & 0.08351277 & 0.06666667\\\\\n",
       "\t SKCM &  925750 & Preadipocytes & COL5A3 & SDC3   & Mast cells     &  0.2949511 &  0.1781628 & 0.013210906 & 0.01360034 & 0.06666667\\\\\n",
       "\t SKCM &  572401 & Mast cells    & SEMA7A & PLXNC1 & CD4+ Tcm       &  0.3159158 &  0.2057426 & 0.005419216 & 0.01267744 & 0.06666667\\\\\n",
       "\\end{tabular}\n"
      ],
      "text/markdown": [
       "\n",
       "A grouped_df: 12 × 11\n",
       "\n",
       "| Study &lt;chr&gt; | EdgeID &lt;dbl&gt; | LCell &lt;chr&gt; | Ligand &lt;chr&gt; | Receptor &lt;chr&gt; | RCell &lt;chr&gt; | S1avg &lt;dbl&gt; | med_diff_avg &lt;dbl&gt; | Gain &lt;dbl&gt; | Cover &lt;dbl&gt; | Frequency &lt;dbl&gt; |\n",
       "|---|---|---|---|---|---|---|---|---|---|---|\n",
       "| SKCM | 1008243 | Smooth muscle | SEMA7A | PLXNC1 | pro B-cells    |  0.4376186 |  0.2590671 | 0.242291987 | 0.20290058 | 0.13333333 |\n",
       "| SKCM |  517677 | Macrophages   | UBA52  | NOTCH1 | Osteoblast     | -0.2836101 | -0.1454840 | 0.200457706 | 0.19595296 | 0.13333333 |\n",
       "| SKCM |   80934 | Basophils     | VIM    | CD44   | NKT            | -0.3831566 | -0.2544153 | 0.103403160 | 0.10114645 | 0.06666667 |\n",
       "| SKCM | 1007915 | Smooth muscle | PSAP   | SORT1  | Preadipocytes  |  0.3113742 |  0.1753168 | 0.082436067 | 0.03933406 | 0.13333333 |\n",
       "| SKCM |   84049 | Basophils     | CALM1  | PTPRA  | Th1 cells      | -0.2853426 | -0.1509732 | 0.079960445 | 0.09311003 | 0.06666667 |\n",
       "| SKCM |  924706 | Preadipocytes | MFGE8  | ITGB3  | Macrophages    |  0.3190637 |  0.1973930 | 0.067116275 | 0.08425950 | 0.06666667 |\n",
       "| SKCM |  289766 | CMP           | VIM    | CD44   | NKT            | -0.2894763 | -0.1828091 | 0.057183854 | 0.08101135 | 0.06666667 |\n",
       "| SKCM |  605132 | Melanocytes   | LAMA1  | ITGB1  | Mast cells     |  0.2747119 |  0.1549368 | 0.056274822 | 0.02013510 | 0.06666667 |\n",
       "| SKCM |  827823 | Osteoblast    | COL1A2 | CD36   | Macrophages M1 |  0.2808179 |  0.1351225 | 0.047743775 | 0.07235941 | 0.06666667 |\n",
       "| SKCM |   81365 | Basophils     | VIM    | CD44   | Osteoblast     | -0.3025322 | -0.2114122 | 0.044501786 | 0.08351277 | 0.06666667 |\n",
       "| SKCM |  925750 | Preadipocytes | COL5A3 | SDC3   | Mast cells     |  0.2949511 |  0.1781628 | 0.013210906 | 0.01360034 | 0.06666667 |\n",
       "| SKCM |  572401 | Mast cells    | SEMA7A | PLXNC1 | CD4+ Tcm       |  0.3159158 |  0.2057426 | 0.005419216 | 0.01267744 | 0.06666667 |\n",
       "\n"
      ],
      "text/plain": [
       "   Study EdgeID  LCell         Ligand Receptor RCell          S1avg     \n",
       "1  SKCM  1008243 Smooth muscle SEMA7A PLXNC1   pro B-cells     0.4376186\n",
       "2  SKCM   517677 Macrophages   UBA52  NOTCH1   Osteoblast     -0.2836101\n",
       "3  SKCM    80934 Basophils     VIM    CD44     NKT            -0.3831566\n",
       "4  SKCM  1007915 Smooth muscle PSAP   SORT1    Preadipocytes   0.3113742\n",
       "5  SKCM    84049 Basophils     CALM1  PTPRA    Th1 cells      -0.2853426\n",
       "6  SKCM   924706 Preadipocytes MFGE8  ITGB3    Macrophages     0.3190637\n",
       "7  SKCM   289766 CMP           VIM    CD44     NKT            -0.2894763\n",
       "8  SKCM   605132 Melanocytes   LAMA1  ITGB1    Mast cells      0.2747119\n",
       "9  SKCM   827823 Osteoblast    COL1A2 CD36     Macrophages M1  0.2808179\n",
       "10 SKCM    81365 Basophils     VIM    CD44     Osteoblast     -0.3025322\n",
       "11 SKCM   925750 Preadipocytes COL5A3 SDC3     Mast cells      0.2949511\n",
       "12 SKCM   572401 Mast cells    SEMA7A PLXNC1   CD4+ Tcm        0.3159158\n",
       "   med_diff_avg Gain        Cover      Frequency \n",
       "1   0.2590671   0.242291987 0.20290058 0.13333333\n",
       "2  -0.1454840   0.200457706 0.19595296 0.13333333\n",
       "3  -0.2544153   0.103403160 0.10114645 0.06666667\n",
       "4   0.1753168   0.082436067 0.03933406 0.13333333\n",
       "5  -0.1509732   0.079960445 0.09311003 0.06666667\n",
       "6   0.1973930   0.067116275 0.08425950 0.06666667\n",
       "7  -0.1828091   0.057183854 0.08101135 0.06666667\n",
       "8   0.1549368   0.056274822 0.02013510 0.06666667\n",
       "9   0.1351225   0.047743775 0.07235941 0.06666667\n",
       "10 -0.2114122   0.044501786 0.08351277 0.06666667\n",
       "11  0.1781628   0.013210906 0.01360034 0.06666667\n",
       "12  0.2057426   0.005419216 0.01267744 0.06666667"
      ]
     },
     "metadata": {},
     "output_type": "display_data"
    }
   ],
   "source": [
    "imptab <- xgboost::xgb.importance(model = mod)\n",
    "colnames(imptab)[1] <- 'EdgeID'\n",
    "\n",
    "edges <- as.numeric( str_replace_all(imptab$EdgeID, 'edge_', '') )\n",
    "imptab$EdgeID <- edges\n",
    "\n",
    "top_edges <- dat %>% dplyr::filter(EdgeID %in% edges) %>% \n",
    "  dplyr::select(Study, EdgeID, LCell, Ligand, Receptor, RCell, S1, med_diff) %>% \n",
    "  dplyr::group_by(Study, EdgeID, LCell, Ligand, Receptor, RCell) %>% \n",
    "  dplyr::summarize(S1avg = mean(S1), med_diff_avg=mean(med_diff)) \n",
    "\n",
    "\n",
    "top_edges <- dplyr::inner_join(top_edges, imptab) \n",
    "top_edges <- top_edges %>% arrange(desc(Gain))\n",
    "top_edges\n",
    "\n",
    "#colnames(top_edges)[9] <- 'imp'\n",
    "#top_edges %>% dplyr::arrange(desc(imp))"
   ]
  },
  {
   "cell_type": "code",
   "execution_count": 17,
   "metadata": {},
   "outputs": [
    {
     "data": {
      "image/png": "[encoded data removed]",
      "text/plain": [
       "plot without title"
      ]
     },
     "metadata": {
      "image/png": {
       "height": 420,
       "width": 420
      },
      "text/plain": {
       "height": 420,
       "width": 420
      }
     },
     "output_type": "display_data"
    },
    {
     "data": {
      "image/png": "[encoded data removed]",
      "text/plain": [
       "plot without title"
      ]
     },
     "metadata": {
      "image/png": {
       "height": 420,
       "width": 420
      },
      "text/plain": {
       "height": 420,
       "width": 420
      }
     },
     "output_type": "display_data"
    }
   ],
   "source": [
    "qplot(x=med_diff_avg, y=S1avg, data=top_edges)\n",
    "qplot(x=med_diff_avg, y=Gain, data=top_edges)"
   ]
  },
  {
   "cell_type": "code",
   "execution_count": 42,
   "metadata": {},
   "outputs": [],
   "source": [
    "res0 <- unique(top_edges[,c('LCell','RCell','Gain')])\n",
    "res0 <- res0 %>% group_by(LCell, RCell) %>% mutate(Gain=sum(Gain))\n",
    "res1 <- matrix(data=as.matrix(res0[,c(1,2)]), ncol = 2, byrow = F)\n",
    "g <- graph_from_data_frame(res1, directed = T)\n",
    "g <- set_edge_attr(g, \"weight\", value = res0$Gain) "
   ]
  },
  {
   "cell_type": "code",
   "execution_count": null,
   "metadata": {},
   "outputs": [],
   "source": []
  },
  {
   "cell_type": "code",
   "execution_count": 65,
   "metadata": {},
   "outputs": [
    {
     "data": {
      "image/png": "[encoded data removed]",
      "text/plain": [
       "plot without title"
      ]
     },
     "metadata": {
      "image/png": {
       "height": 480,
       "width": 900
      },
      "text/plain": {
       "height": 480,
       "width": 900
      }
     },
     "output_type": "display_data"
    }
   ],
   "source": [
    "ggraph(g, layout='fabric', sort.by = node_rank_fabric()) +\n",
    "  geom_node_range(colour = 'grey') +\n",
    "  geom_edge_span(end_shape = 'square', edge_width=1.5, mapping = aes(colour=weight), end_cap = circle(1.0, 'cm'), arrow = arrow()) +\n",
    "  scale_edge_colour_viridis() +\n",
    "  theme_graph() +\n",
    "  geom_node_label(aes(label = name), hjust = 0, nudge_x = -0)"
   ]
  },
  {
   "cell_type": "code",
   "execution_count": 66,
   "metadata": {},
   "outputs": [
    {
     "data": {
      "image/png": "[encoded data removed]",
      "text/plain": [
       "plot without title"
      ]
     },
     "metadata": {
      "image/png": {
       "height": 480,
       "width": 900
      },
      "text/plain": {
       "height": 480,
       "width": 900
      }
     },
     "output_type": "display_data"
    }
   ],
   "source": [
    "ggraph(g, layout='fabric', sort.by = node_rank_fabric()) +\n",
    "  geom_node_range(colour = 'grey') +\n",
    "  geom_edge_span(end_shape = 'square', edge_width=1.5, mapping = aes(colour=weight), end_cap = circle(1.0, 'cm'), arrow = arrow()) +\n",
    "  scale_edge_colour_viridis() +\n",
    "  theme_graph() "
   ]
  }
 ],
 "metadata": {
  "kernelspec": {
   "display_name": "R",
   "language": "R",
   "name": "ir"
  },
  "language_info": {
   "codemirror_mode": "r",
   "file_extension": ".r",
   "mimetype": "text/x-r-source",
   "name": "R",
   "pygments_lexer": "r",
   "version": "3.6.3"
  }
 },
 "nbformat": 4,
 "nbformat_minor": 4
}
