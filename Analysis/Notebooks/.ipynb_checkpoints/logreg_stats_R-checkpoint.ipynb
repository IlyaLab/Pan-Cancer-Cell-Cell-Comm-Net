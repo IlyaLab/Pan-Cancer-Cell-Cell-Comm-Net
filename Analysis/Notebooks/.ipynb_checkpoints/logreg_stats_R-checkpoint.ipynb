{
 "cells": [
  {
   "cell_type": "code",
   "execution_count": 1,
   "metadata": {
    "scrolled": true
   },
   "outputs": [
    {
     "name": "stderr",
     "output_type": "stream",
     "text": [
      "\n",
      "Attaching package: ‘dplyr’\n",
      "\n",
      "\n",
      "The following objects are masked from ‘package:stats’:\n",
      "\n",
      "    filter, lag\n",
      "\n",
      "\n",
      "The following objects are masked from ‘package:base’:\n",
      "\n",
      "    intersect, setdiff, setequal, union\n",
      "\n",
      "\n",
      "\n",
      "Attaching package: ‘MASS’\n",
      "\n",
      "\n",
      "The following object is masked from ‘package:dplyr’:\n",
      "\n",
      "    select\n",
      "\n",
      "\n"
     ]
    }
   ],
   "source": [
    "library(dplyr)\n",
    "library(stringr)\n",
    "library(readr)\n",
    "library(tidyr)\n",
    "library(MASS)\n",
    "library(caret)\n",
    "library(ggplot2)"
   ]
  },
  {
   "cell_type": "code",
   "execution_count": 2,
   "metadata": {},
   "outputs": [
    {
     "name": "stderr",
     "output_type": "stream",
     "text": [
      "Parsed with column specification:\n",
      "cols(\n",
      "  Study = \u001b[31mcol_character()\u001b[39m,\n",
      "  EdgeID = \u001b[32mcol_double()\u001b[39m,\n",
      "  LCell = \u001b[31mcol_character()\u001b[39m,\n",
      "  Ligand = \u001b[31mcol_character()\u001b[39m,\n",
      "  Receptor = \u001b[31mcol_character()\u001b[39m,\n",
      "  RCell = \u001b[31mcol_character()\u001b[39m,\n",
      "  S1 = \u001b[32mcol_double()\u001b[39m,\n",
      "  med_diff = \u001b[32mcol_double()\u001b[39m,\n",
      "  AliquotBarcode = \u001b[31mcol_character()\u001b[39m,\n",
      "  PatientBarcode = \u001b[31mcol_character()\u001b[39m,\n",
      "  EdgeWt = \u001b[32mcol_double()\u001b[39m,\n",
      "  Stage = \u001b[32mcol_double()\u001b[39m,\n",
      "  PFI = \u001b[32mcol_double()\u001b[39m\n",
      ")\n",
      "\n"
     ]
    }
   ],
   "source": [
    "pfidat <- read_csv('../Data/manuscript-studies-pfi-test-DWE-weights.csv.gz')"
   ]
  },
  {
   "cell_type": "code",
   "execution_count": 3,
   "metadata": {},
   "outputs": [
    {
     "data": {
      "text/html": [
       "<table>\n",
       "<caption>A grouped_df: 7 × 2</caption>\n",
       "<thead>\n",
       "\t<tr><th scope=col>Study</th><th scope=col>n</th></tr>\n",
       "\t<tr><th scope=col>&lt;chr&gt;</th><th scope=col>&lt;int&gt;</th></tr>\n",
       "</thead>\n",
       "<tbody>\n",
       "\t<tr><td>COAD</td><td>281</td></tr>\n",
       "\t<tr><td>ESCA</td><td>170</td></tr>\n",
       "\t<tr><td>LUSC</td><td>483</td></tr>\n",
       "\t<tr><td>PAAD</td><td>151</td></tr>\n",
       "\t<tr><td>READ</td><td> 88</td></tr>\n",
       "\t<tr><td>SKCM</td><td>102</td></tr>\n",
       "\t<tr><td>STAD</td><td>389</td></tr>\n",
       "</tbody>\n",
       "</table>\n"
      ],
      "text/latex": [
       "A grouped\\_df: 7 × 2\n",
       "\\begin{tabular}{ll}\n",
       " Study & n\\\\\n",
       " <chr> & <int>\\\\\n",
       "\\hline\n",
       "\t COAD & 281\\\\\n",
       "\t ESCA & 170\\\\\n",
       "\t LUSC & 483\\\\\n",
       "\t PAAD & 151\\\\\n",
       "\t READ &  88\\\\\n",
       "\t SKCM & 102\\\\\n",
       "\t STAD & 389\\\\\n",
       "\\end{tabular}\n"
      ],
      "text/markdown": [
       "\n",
       "A grouped_df: 7 × 2\n",
       "\n",
       "| Study &lt;chr&gt; | n &lt;int&gt; |\n",
       "|---|---|\n",
       "| COAD | 281 |\n",
       "| ESCA | 170 |\n",
       "| LUSC | 483 |\n",
       "| PAAD | 151 |\n",
       "| READ |  88 |\n",
       "| SKCM | 102 |\n",
       "| STAD | 389 |\n",
       "\n"
      ],
      "text/plain": [
       "  Study n  \n",
       "1 COAD  281\n",
       "2 ESCA  170\n",
       "3 LUSC  483\n",
       "4 PAAD  151\n",
       "5 READ   88\n",
       "6 SKCM  102\n",
       "7 STAD  389"
      ]
     },
     "metadata": {},
     "output_type": "display_data"
    }
   ],
   "source": [
    "\n",
    "studies <- pfidat %>% dplyr::select(PatientBarcode, Study) %>% unique() %>% group_by(Study) %>% count()        # now required with changes to dplyr::count()\n",
    "\n",
    "studies\n"
   ]
  },
  {
   "cell_type": "code",
   "execution_count": 37,
   "metadata": {},
   "outputs": [
    {
     "data": {
      "text/html": [
       "<table>\n",
       "<caption>A tibble: 6 × 13</caption>\n",
       "<thead>\n",
       "\t<tr><th scope=col>Study</th><th scope=col>EdgeID</th><th scope=col>LCell</th><th scope=col>Ligand</th><th scope=col>Receptor</th><th scope=col>RCell</th><th scope=col>S1</th><th scope=col>med_diff</th><th scope=col>AliquotBarcode</th><th scope=col>PatientBarcode</th><th scope=col>EdgeWt</th><th scope=col>Stage</th><th scope=col>PFI</th></tr>\n",
       "\t<tr><th scope=col>&lt;chr&gt;</th><th scope=col>&lt;dbl&gt;</th><th scope=col>&lt;chr&gt;</th><th scope=col>&lt;chr&gt;</th><th scope=col>&lt;chr&gt;</th><th scope=col>&lt;chr&gt;</th><th scope=col>&lt;dbl&gt;</th><th scope=col>&lt;dbl&gt;</th><th scope=col>&lt;chr&gt;</th><th scope=col>&lt;chr&gt;</th><th scope=col>&lt;dbl&gt;</th><th scope=col>&lt;dbl&gt;</th><th scope=col>&lt;dbl&gt;</th></tr>\n",
       "</thead>\n",
       "<tbody>\n",
       "\t<tr><td>ESCA</td><td>586540</td><td>Megakaryocytes</td><td>IL1RN </td><td>IL1R2</td><td>Eosinophils   </td><td>-0.1701334</td><td>-0.11258132</td><td>TCGA-L5-A4OT-01A-11R-A28J-31</td><td>TCGA-L5-A4OT</td><td>0.5093815</td><td> 2</td><td>1</td></tr>\n",
       "\t<tr><td>ESCA</td><td>590462</td><td>Megakaryocytes</td><td>IL1RN </td><td>IL1R2</td><td>Megakaryocytes</td><td>-0.1730363</td><td>-0.11928949</td><td>TCGA-L5-A8NR-01A-11R-A37I-31</td><td>TCGA-L5-A8NR</td><td>0.1262645</td><td> 2</td><td>2</td></tr>\n",
       "\t<tr><td>ESCA</td><td>177427</td><td>CD8+ Tcm      </td><td>DUSP18</td><td>ITGA6</td><td>Megakaryocytes</td><td>-0.1687730</td><td>-0.09088228</td><td>TCGA-LN-A49X-01A-31R-A260-31</td><td>TCGA-LN-A49X</td><td>0.1636520</td><td> 1</td><td>2</td></tr>\n",
       "\t<tr><td>ESCA</td><td>156972</td><td>CD8+ T-cells  </td><td>DUSP18</td><td>ITGA6</td><td>Megakaryocytes</td><td>-0.1726561</td><td>-0.08814879</td><td>TCGA-R6-A6XG-01B-11R-A336-31</td><td>TCGA-R6-A6XG</td><td>0.2277999</td><td>NA</td><td>2</td></tr>\n",
       "\t<tr><td>ESCA</td><td>328529</td><td>Eosinophils   </td><td>CCL20 </td><td>CCR6 </td><td>CD8+ Tcm      </td><td>-0.1705920</td><td>-0.08972685</td><td>TCGA-2H-A9GR-01A-12R-A37I-31</td><td>TCGA-2H-A9GR</td><td>0.3367162</td><td> 1</td><td>2</td></tr>\n",
       "\t<tr><td>ESCA</td><td>464057</td><td>Keratinocytes </td><td>DUSP18</td><td>ITGB4</td><td>Keratinocytes </td><td>-0.1707815</td><td>-0.10012197</td><td>TCGA-R6-A8WC-01A-11R-A37I-31</td><td>TCGA-R6-A8WC</td><td>0.3172794</td><td>NA</td><td>1</td></tr>\n",
       "</tbody>\n",
       "</table>\n"
      ],
      "text/latex": [
       "A tibble: 6 × 13\n",
       "\\begin{tabular}{lllllllllllll}\n",
       " Study & EdgeID & LCell & Ligand & Receptor & RCell & S1 & med\\_diff & AliquotBarcode & PatientBarcode & EdgeWt & Stage & PFI\\\\\n",
       " <chr> & <dbl> & <chr> & <chr> & <chr> & <chr> & <dbl> & <dbl> & <chr> & <chr> & <dbl> & <dbl> & <dbl>\\\\\n",
       "\\hline\n",
       "\t ESCA & 586540 & Megakaryocytes & IL1RN  & IL1R2 & Eosinophils    & -0.1701334 & -0.11258132 & TCGA-L5-A4OT-01A-11R-A28J-31 & TCGA-L5-A4OT & 0.5093815 &  2 & 1\\\\\n",
       "\t ESCA & 590462 & Megakaryocytes & IL1RN  & IL1R2 & Megakaryocytes & -0.1730363 & -0.11928949 & TCGA-L5-A8NR-01A-11R-A37I-31 & TCGA-L5-A8NR & 0.1262645 &  2 & 2\\\\\n",
       "\t ESCA & 177427 & CD8+ Tcm       & DUSP18 & ITGA6 & Megakaryocytes & -0.1687730 & -0.09088228 & TCGA-LN-A49X-01A-31R-A260-31 & TCGA-LN-A49X & 0.1636520 &  1 & 2\\\\\n",
       "\t ESCA & 156972 & CD8+ T-cells   & DUSP18 & ITGA6 & Megakaryocytes & -0.1726561 & -0.08814879 & TCGA-R6-A6XG-01B-11R-A336-31 & TCGA-R6-A6XG & 0.2277999 & NA & 2\\\\\n",
       "\t ESCA & 328529 & Eosinophils    & CCL20  & CCR6  & CD8+ Tcm       & -0.1705920 & -0.08972685 & TCGA-2H-A9GR-01A-12R-A37I-31 & TCGA-2H-A9GR & 0.3367162 &  1 & 2\\\\\n",
       "\t ESCA & 464057 & Keratinocytes  & DUSP18 & ITGB4 & Keratinocytes  & -0.1707815 & -0.10012197 & TCGA-R6-A8WC-01A-11R-A37I-31 & TCGA-R6-A8WC & 0.3172794 & NA & 1\\\\\n",
       "\\end{tabular}\n"
      ],
      "text/markdown": [
       "\n",
       "A tibble: 6 × 13\n",
       "\n",
       "| Study &lt;chr&gt; | EdgeID &lt;dbl&gt; | LCell &lt;chr&gt; | Ligand &lt;chr&gt; | Receptor &lt;chr&gt; | RCell &lt;chr&gt; | S1 &lt;dbl&gt; | med_diff &lt;dbl&gt; | AliquotBarcode &lt;chr&gt; | PatientBarcode &lt;chr&gt; | EdgeWt &lt;dbl&gt; | Stage &lt;dbl&gt; | PFI &lt;dbl&gt; |\n",
       "|---|---|---|---|---|---|---|---|---|---|---|---|---|\n",
       "| ESCA | 586540 | Megakaryocytes | IL1RN  | IL1R2 | Eosinophils    | -0.1701334 | -0.11258132 | TCGA-L5-A4OT-01A-11R-A28J-31 | TCGA-L5-A4OT | 0.5093815 |  2 | 1 |\n",
       "| ESCA | 590462 | Megakaryocytes | IL1RN  | IL1R2 | Megakaryocytes | -0.1730363 | -0.11928949 | TCGA-L5-A8NR-01A-11R-A37I-31 | TCGA-L5-A8NR | 0.1262645 |  2 | 2 |\n",
       "| ESCA | 177427 | CD8+ Tcm       | DUSP18 | ITGA6 | Megakaryocytes | -0.1687730 | -0.09088228 | TCGA-LN-A49X-01A-31R-A260-31 | TCGA-LN-A49X | 0.1636520 |  1 | 2 |\n",
       "| ESCA | 156972 | CD8+ T-cells   | DUSP18 | ITGA6 | Megakaryocytes | -0.1726561 | -0.08814879 | TCGA-R6-A6XG-01B-11R-A336-31 | TCGA-R6-A6XG | 0.2277999 | NA | 2 |\n",
       "| ESCA | 328529 | Eosinophils    | CCL20  | CCR6  | CD8+ Tcm       | -0.1705920 | -0.08972685 | TCGA-2H-A9GR-01A-12R-A37I-31 | TCGA-2H-A9GR | 0.3367162 |  1 | 2 |\n",
       "| ESCA | 464057 | Keratinocytes  | DUSP18 | ITGB4 | Keratinocytes  | -0.1707815 | -0.10012197 | TCGA-R6-A8WC-01A-11R-A37I-31 | TCGA-R6-A8WC | 0.3172794 | NA | 1 |\n",
       "\n"
      ],
      "text/plain": [
       "  Study EdgeID LCell          Ligand Receptor RCell          S1        \n",
       "1 ESCA  586540 Megakaryocytes IL1RN  IL1R2    Eosinophils    -0.1701334\n",
       "2 ESCA  590462 Megakaryocytes IL1RN  IL1R2    Megakaryocytes -0.1730363\n",
       "3 ESCA  177427 CD8+ Tcm       DUSP18 ITGA6    Megakaryocytes -0.1687730\n",
       "4 ESCA  156972 CD8+ T-cells   DUSP18 ITGA6    Megakaryocytes -0.1726561\n",
       "5 ESCA  328529 Eosinophils    CCL20  CCR6     CD8+ Tcm       -0.1705920\n",
       "6 ESCA  464057 Keratinocytes  DUSP18 ITGB4    Keratinocytes  -0.1707815\n",
       "  med_diff    AliquotBarcode               PatientBarcode EdgeWt    Stage PFI\n",
       "1 -0.11258132 TCGA-L5-A4OT-01A-11R-A28J-31 TCGA-L5-A4OT   0.5093815  2    1  \n",
       "2 -0.11928949 TCGA-L5-A8NR-01A-11R-A37I-31 TCGA-L5-A8NR   0.1262645  2    2  \n",
       "3 -0.09088228 TCGA-LN-A49X-01A-31R-A260-31 TCGA-LN-A49X   0.1636520  1    2  \n",
       "4 -0.08814879 TCGA-R6-A6XG-01B-11R-A336-31 TCGA-R6-A6XG   0.2277999 NA    2  \n",
       "5 -0.08972685 TCGA-2H-A9GR-01A-12R-A37I-31 TCGA-2H-A9GR   0.3367162  1    2  \n",
       "6 -0.10012197 TCGA-R6-A8WC-01A-11R-A37I-31 TCGA-R6-A8WC   0.3172794 NA    1  "
      ]
     },
     "metadata": {},
     "output_type": "display_data"
    }
   ],
   "source": [
    "\n",
    "# selecting one tissue type\n",
    "selectedStudy <- studies$Study[2]\n",
    "#\n",
    "dat <- pfidat %>% dplyr::filter(Study == selectedStudy)\n",
    "head(dat)\n"
   ]
  },
  {
   "cell_type": "code",
   "execution_count": 38,
   "metadata": {},
   "outputs": [
    {
     "data": {
      "text/html": [
       "<table>\n",
       "<caption>A tibble: 1 × 13</caption>\n",
       "<thead>\n",
       "\t<tr><th scope=col>Study</th><th scope=col>EdgeID</th><th scope=col>LCell</th><th scope=col>Ligand</th><th scope=col>Receptor</th><th scope=col>RCell</th><th scope=col>S1</th><th scope=col>med_diff</th><th scope=col>AliquotBarcode</th><th scope=col>PatientBarcode</th><th scope=col>EdgeWt</th><th scope=col>Stage</th><th scope=col>PFI</th></tr>\n",
       "\t<tr><th scope=col>&lt;chr&gt;</th><th scope=col>&lt;dbl&gt;</th><th scope=col>&lt;chr&gt;</th><th scope=col>&lt;chr&gt;</th><th scope=col>&lt;chr&gt;</th><th scope=col>&lt;chr&gt;</th><th scope=col>&lt;dbl&gt;</th><th scope=col>&lt;dbl&gt;</th><th scope=col>&lt;chr&gt;</th><th scope=col>&lt;chr&gt;</th><th scope=col>&lt;dbl&gt;</th><th scope=col>&lt;dbl&gt;</th><th scope=col>&lt;dbl&gt;</th></tr>\n",
       "</thead>\n",
       "<tbody>\n",
       "\t<tr><td>ESCA</td><td>464057</td><td>Keratinocytes</td><td>DUSP18</td><td>ITGB4</td><td>Keratinocytes</td><td>-0.1707815</td><td>-0.100122</td><td>TCGA-LN-A4A3-01A-11R-A260-31</td><td>TCGA-LN-A4A3</td><td>0.5521576</td><td>2</td><td>2</td></tr>\n",
       "</tbody>\n",
       "</table>\n"
      ],
      "text/latex": [
       "A tibble: 1 × 13\n",
       "\\begin{tabular}{lllllllllllll}\n",
       " Study & EdgeID & LCell & Ligand & Receptor & RCell & S1 & med\\_diff & AliquotBarcode & PatientBarcode & EdgeWt & Stage & PFI\\\\\n",
       " <chr> & <dbl> & <chr> & <chr> & <chr> & <chr> & <dbl> & <dbl> & <chr> & <chr> & <dbl> & <dbl> & <dbl>\\\\\n",
       "\\hline\n",
       "\t ESCA & 464057 & Keratinocytes & DUSP18 & ITGB4 & Keratinocytes & -0.1707815 & -0.100122 & TCGA-LN-A4A3-01A-11R-A260-31 & TCGA-LN-A4A3 & 0.5521576 & 2 & 2\\\\\n",
       "\\end{tabular}\n"
      ],
      "text/markdown": [
       "\n",
       "A tibble: 1 × 13\n",
       "\n",
       "| Study &lt;chr&gt; | EdgeID &lt;dbl&gt; | LCell &lt;chr&gt; | Ligand &lt;chr&gt; | Receptor &lt;chr&gt; | RCell &lt;chr&gt; | S1 &lt;dbl&gt; | med_diff &lt;dbl&gt; | AliquotBarcode &lt;chr&gt; | PatientBarcode &lt;chr&gt; | EdgeWt &lt;dbl&gt; | Stage &lt;dbl&gt; | PFI &lt;dbl&gt; |\n",
       "|---|---|---|---|---|---|---|---|---|---|---|---|---|\n",
       "| ESCA | 464057 | Keratinocytes | DUSP18 | ITGB4 | Keratinocytes | -0.1707815 | -0.100122 | TCGA-LN-A4A3-01A-11R-A260-31 | TCGA-LN-A4A3 | 0.5521576 | 2 | 2 |\n",
       "\n"
      ],
      "text/plain": [
       "  Study EdgeID LCell         Ligand Receptor RCell         S1         med_diff \n",
       "1 ESCA  464057 Keratinocytes DUSP18 ITGB4    Keratinocytes -0.1707815 -0.100122\n",
       "  AliquotBarcode               PatientBarcode EdgeWt    Stage PFI\n",
       "1 TCGA-LN-A4A3-01A-11R-A260-31 TCGA-LN-A4A3   0.5521576 2     2  "
      ]
     },
     "metadata": {},
     "output_type": "display_data"
    }
   ],
   "source": [
    "dat[150,]"
   ]
  },
  {
   "cell_type": "code",
   "execution_count": 39,
   "metadata": {},
   "outputs": [
    {
     "data": {
      "text/html": [
       "<table>\n",
       "<caption>A grouped_df: 2 × 2</caption>\n",
       "<thead>\n",
       "\t<tr><th scope=col>PFI</th><th scope=col>n</th></tr>\n",
       "\t<tr><th scope=col>&lt;dbl&gt;</th><th scope=col>&lt;int&gt;</th></tr>\n",
       "</thead>\n",
       "<tbody>\n",
       "\t<tr><td>1</td><td>73</td></tr>\n",
       "\t<tr><td>2</td><td>97</td></tr>\n",
       "</tbody>\n",
       "</table>\n"
      ],
      "text/latex": [
       "A grouped\\_df: 2 × 2\n",
       "\\begin{tabular}{ll}\n",
       " PFI & n\\\\\n",
       " <dbl> & <int>\\\\\n",
       "\\hline\n",
       "\t 1 & 73\\\\\n",
       "\t 2 & 97\\\\\n",
       "\\end{tabular}\n"
      ],
      "text/markdown": [
       "\n",
       "A grouped_df: 2 × 2\n",
       "\n",
       "| PFI &lt;dbl&gt; | n &lt;int&gt; |\n",
       "|---|---|\n",
       "| 1 | 73 |\n",
       "| 2 | 97 |\n",
       "\n"
      ],
      "text/plain": [
       "  PFI n \n",
       "1 1   73\n",
       "2 2   97"
      ]
     },
     "metadata": {},
     "output_type": "display_data"
    }
   ],
   "source": [
    "\n",
    "dat %>% dplyr::select(PatientBarcode, PFI) %>% unique() %>% group_by(PFI) %>% count()        # now required with changes to dplyr::count()\n"
   ]
  },
  {
   "cell_type": "code",
   "execution_count": 40,
   "metadata": {},
   "outputs": [
    {
     "data": {
      "text/html": [
       "<style>\n",
       ".list-inline {list-style: none; margin:0; padding: 0}\n",
       ".list-inline>li {display: inline-block}\n",
       ".list-inline>li:not(:last-child)::after {content: \"\\00b7\"; padding: 0 .5ex}\n",
       "</style>\n",
       "<ol class=list-inline><li>170</li><li>138</li></ol>\n"
      ],
      "text/latex": [
       "\\begin{enumerate*}\n",
       "\\item 170\n",
       "\\item 138\n",
       "\\end{enumerate*}\n"
      ],
      "text/markdown": [
       "1. 170\n",
       "2. 138\n",
       "\n",
       "\n"
      ],
      "text/plain": [
       "[1] 170 138"
      ]
     },
     "metadata": {},
     "output_type": "display_data"
    },
    {
     "data": {
      "text/html": [
       "<table>\n",
       "<caption>A tibble: 5 × 5</caption>\n",
       "<thead>\n",
       "\t<tr><th scope=col>PatientBarcode</th><th scope=col>586540</th><th scope=col>590462</th><th scope=col>177427</th><th scope=col>156972</th></tr>\n",
       "\t<tr><th scope=col>&lt;chr&gt;</th><th scope=col>&lt;dbl&gt;</th><th scope=col>&lt;dbl&gt;</th><th scope=col>&lt;dbl&gt;</th><th scope=col>&lt;dbl&gt;</th></tr>\n",
       "</thead>\n",
       "<tbody>\n",
       "\t<tr><td>TCGA-L5-A4OT</td><td>0.5093815</td><td>0.4413337</td><td>0.2492302</td><td>0.1227936</td></tr>\n",
       "\t<tr><td>TCGA-L5-A8NR</td><td>0.2171158</td><td>0.1262645</td><td>0.3142756</td><td>0.2636121</td></tr>\n",
       "\t<tr><td>TCGA-LN-A49X</td><td>0.2887214</td><td>0.1782386</td><td>0.1636520</td><td>0.1184598</td></tr>\n",
       "\t<tr><td>TCGA-R6-A6XG</td><td>0.2637880</td><td>0.6919877</td><td>0.2194090</td><td>0.2277999</td></tr>\n",
       "\t<tr><td>TCGA-2H-A9GR</td><td>0.4779465</td><td>0.6290750</td><td>0.4866957</td><td>0.2805560</td></tr>\n",
       "</tbody>\n",
       "</table>\n"
      ],
      "text/latex": [
       "A tibble: 5 × 5\n",
       "\\begin{tabular}{lllll}\n",
       " PatientBarcode & 586540 & 590462 & 177427 & 156972\\\\\n",
       " <chr> & <dbl> & <dbl> & <dbl> & <dbl>\\\\\n",
       "\\hline\n",
       "\t TCGA-L5-A4OT & 0.5093815 & 0.4413337 & 0.2492302 & 0.1227936\\\\\n",
       "\t TCGA-L5-A8NR & 0.2171158 & 0.1262645 & 0.3142756 & 0.2636121\\\\\n",
       "\t TCGA-LN-A49X & 0.2887214 & 0.1782386 & 0.1636520 & 0.1184598\\\\\n",
       "\t TCGA-R6-A6XG & 0.2637880 & 0.6919877 & 0.2194090 & 0.2277999\\\\\n",
       "\t TCGA-2H-A9GR & 0.4779465 & 0.6290750 & 0.4866957 & 0.2805560\\\\\n",
       "\\end{tabular}\n"
      ],
      "text/markdown": [
       "\n",
       "A tibble: 5 × 5\n",
       "\n",
       "| PatientBarcode &lt;chr&gt; | 586540 &lt;dbl&gt; | 590462 &lt;dbl&gt; | 177427 &lt;dbl&gt; | 156972 &lt;dbl&gt; |\n",
       "|---|---|---|---|---|\n",
       "| TCGA-L5-A4OT | 0.5093815 | 0.4413337 | 0.2492302 | 0.1227936 |\n",
       "| TCGA-L5-A8NR | 0.2171158 | 0.1262645 | 0.3142756 | 0.2636121 |\n",
       "| TCGA-LN-A49X | 0.2887214 | 0.1782386 | 0.1636520 | 0.1184598 |\n",
       "| TCGA-R6-A6XG | 0.2637880 | 0.6919877 | 0.2194090 | 0.2277999 |\n",
       "| TCGA-2H-A9GR | 0.4779465 | 0.6290750 | 0.4866957 | 0.2805560 |\n",
       "\n"
      ],
      "text/plain": [
       "  PatientBarcode 586540    590462    177427    156972   \n",
       "1 TCGA-L5-A4OT   0.5093815 0.4413337 0.2492302 0.1227936\n",
       "2 TCGA-L5-A8NR   0.2171158 0.1262645 0.3142756 0.2636121\n",
       "3 TCGA-LN-A49X   0.2887214 0.1782386 0.1636520 0.1184598\n",
       "4 TCGA-R6-A6XG   0.2637880 0.6919877 0.2194090 0.2277999\n",
       "5 TCGA-2H-A9GR   0.4779465 0.6290750 0.4866957 0.2805560"
      ]
     },
     "metadata": {},
     "output_type": "display_data"
    }
   ],
   "source": [
    "\n",
    "# making a matrix\n",
    "datmat <- pivot_wider(data = dat %>% dplyr::select(PatientBarcode, EdgeID, EdgeWt), names_from = EdgeID, values_from = EdgeWt)\n",
    "dim(datmat)\n",
    "datmat[1:5,1:5]\n"
   ]
  },
  {
   "cell_type": "code",
   "execution_count": 41,
   "metadata": {},
   "outputs": [],
   "source": [
    "\n",
    "# to pull out the phenotype\n",
    "labels <- sapply(datmat$PatientBarcode, function(a) (dat %>% dplyr::filter(PatientBarcode == a) %>% dplyr::select(PFI) %>% pull())[1])\n",
    "# and match the datmat partient barcode order\n",
    "labels <- labels[datmat$PatientBarcode]\n",
    "labels <- sapply(labels, function(a) paste0('pfi_',a))\n",
    "                 "
   ]
  },
  {
   "cell_type": "code",
   "execution_count": 42,
   "metadata": {},
   "outputs": [
    {
     "data": {
      "text/html": [
       "<table>\n",
       "<caption>A data.frame: 6 × 2</caption>\n",
       "<thead>\n",
       "\t<tr><th></th><th scope=col>Pheno</th><th scope=col>Edge1</th></tr>\n",
       "\t<tr><th></th><th scope=col>&lt;fct&gt;</th><th scope=col>&lt;dbl&gt;</th></tr>\n",
       "</thead>\n",
       "<tbody>\n",
       "\t<tr><th scope=row>TCGA-L5-A4OT</th><td>pfi_1</td><td>0.1227936</td></tr>\n",
       "\t<tr><th scope=row>TCGA-L5-A8NR</th><td>pfi_2</td><td>0.2636121</td></tr>\n",
       "\t<tr><th scope=row>TCGA-LN-A49X</th><td>pfi_2</td><td>0.1184598</td></tr>\n",
       "\t<tr><th scope=row>TCGA-R6-A6XG</th><td>pfi_2</td><td>0.2277999</td></tr>\n",
       "\t<tr><th scope=row>TCGA-2H-A9GR</th><td>pfi_2</td><td>0.2805560</td></tr>\n",
       "\t<tr><th scope=row>TCGA-R6-A8WC</th><td>pfi_1</td><td>0.1475949</td></tr>\n",
       "</tbody>\n",
       "</table>\n"
      ],
      "text/latex": [
       "A data.frame: 6 × 2\n",
       "\\begin{tabular}{r|ll}\n",
       "  & Pheno & Edge1\\\\\n",
       "  & <fct> & <dbl>\\\\\n",
       "\\hline\n",
       "\tTCGA-L5-A4OT & pfi\\_1 & 0.1227936\\\\\n",
       "\tTCGA-L5-A8NR & pfi\\_2 & 0.2636121\\\\\n",
       "\tTCGA-LN-A49X & pfi\\_2 & 0.1184598\\\\\n",
       "\tTCGA-R6-A6XG & pfi\\_2 & 0.2277999\\\\\n",
       "\tTCGA-2H-A9GR & pfi\\_2 & 0.2805560\\\\\n",
       "\tTCGA-R6-A8WC & pfi\\_1 & 0.1475949\\\\\n",
       "\\end{tabular}\n"
      ],
      "text/markdown": [
       "\n",
       "A data.frame: 6 × 2\n",
       "\n",
       "| <!--/--> | Pheno &lt;fct&gt; | Edge1 &lt;dbl&gt; |\n",
       "|---|---|---|\n",
       "| TCGA-L5-A4OT | pfi_1 | 0.1227936 |\n",
       "| TCGA-L5-A8NR | pfi_2 | 0.2636121 |\n",
       "| TCGA-LN-A49X | pfi_2 | 0.1184598 |\n",
       "| TCGA-R6-A6XG | pfi_2 | 0.2277999 |\n",
       "| TCGA-2H-A9GR | pfi_2 | 0.2805560 |\n",
       "| TCGA-R6-A8WC | pfi_1 | 0.1475949 |\n",
       "\n"
      ],
      "text/plain": [
       "             Pheno Edge1    \n",
       "TCGA-L5-A4OT pfi_1 0.1227936\n",
       "TCGA-L5-A8NR pfi_2 0.2636121\n",
       "TCGA-LN-A49X pfi_2 0.1184598\n",
       "TCGA-R6-A6XG pfi_2 0.2277999\n",
       "TCGA-2H-A9GR pfi_2 0.2805560\n",
       "TCGA-R6-A8WC pfi_1 0.1475949"
      ]
     },
     "metadata": {},
     "output_type": "display_data"
    },
    {
     "data": {
      "text/html": [
       "&lt;NA&gt;"
      ],
      "text/latex": [
       "<NA>"
      ],
      "text/markdown": [
       "&lt;NA&gt;"
      ],
      "text/plain": [
       "[1] NA"
      ]
     },
     "metadata": {},
     "output_type": "display_data"
    },
    {
     "data": {
      "image/png": "[encoded data removed]",
      "text/plain": [
       "plot without title"
      ]
     },
     "metadata": {
      "image/png": {
       "height": 420,
       "width": 420
      },
      "text/plain": {
       "height": 420,
       "width": 420
      }
     },
     "output_type": "display_data"
    }
   ],
   "source": [
    "\n",
    "plotdat <- data.frame(Pheno=labels, Edge1=as.numeric(datmat[,5] %>% pull()))\n",
    "head(plotdat)\n",
    "qplot(data=plotdat, x=Pheno, y=Edge1, geom='boxplot', fill=as.factor(Pheno))\n",
    "median(as.numeric(plotdat$Edge1[plotdat$Pheno == 1]), na.rm = T)  - median(as.numeric(plotdat$Edge1[plotdat$Pheno == 2]), na.rm = T)\n"
   ]
  },
  {
   "cell_type": "code",
   "execution_count": 43,
   "metadata": {},
   "outputs": [],
   "source": [
    "\n",
    "# data prep #\n",
    "x <- as.data.frame(datmat[,-1])     # \n",
    "x$Phenotype <- labels             # probably don't need this since it goes to factor\n",
    "x <- x[x$Phenotype != 'pfi_NA', ] # remove NAs\n",
    "colnames(x) <- c(sapply(colnames(x)[1:(ncol(x)-1)], function(a) paste0('edge_',a)), 'Phenotype')\n",
    "x$Phenotype <- as.factor(x$Phenotype)\n",
    "x[is.na(x)] <- 0\n",
    "                        "
   ]
  },
  {
   "cell_type": "code",
   "execution_count": 44,
   "metadata": {},
   "outputs": [
    {
     "data": {
      "text/html": [
       "<table>\n",
       "<caption>A data.frame: 5 × 5</caption>\n",
       "<thead>\n",
       "\t<tr><th></th><th scope=col>edge_586540</th><th scope=col>edge_590462</th><th scope=col>edge_177427</th><th scope=col>edge_156972</th><th scope=col>edge_328529</th></tr>\n",
       "\t<tr><th></th><th scope=col>&lt;dbl&gt;</th><th scope=col>&lt;dbl&gt;</th><th scope=col>&lt;dbl&gt;</th><th scope=col>&lt;dbl&gt;</th><th scope=col>&lt;dbl&gt;</th></tr>\n",
       "</thead>\n",
       "<tbody>\n",
       "\t<tr><th scope=row>1</th><td>0.5093815</td><td>0.4413337</td><td>0.2492302</td><td>0.1227936</td><td>0.60957457</td></tr>\n",
       "\t<tr><th scope=row>2</th><td>0.2171158</td><td>0.1262645</td><td>0.3142756</td><td>0.2636121</td><td>0.21544602</td></tr>\n",
       "\t<tr><th scope=row>3</th><td>0.2887214</td><td>0.1782386</td><td>0.1636520</td><td>0.1184598</td><td>0.09137565</td></tr>\n",
       "\t<tr><th scope=row>4</th><td>0.2637880</td><td>0.6919877</td><td>0.2194090</td><td>0.2277999</td><td>0.10806351</td></tr>\n",
       "\t<tr><th scope=row>5</th><td>0.4779465</td><td>0.6290750</td><td>0.4866957</td><td>0.2805560</td><td>0.33671622</td></tr>\n",
       "</tbody>\n",
       "</table>\n"
      ],
      "text/latex": [
       "A data.frame: 5 × 5\n",
       "\\begin{tabular}{r|lllll}\n",
       "  & edge\\_586540 & edge\\_590462 & edge\\_177427 & edge\\_156972 & edge\\_328529\\\\\n",
       "  & <dbl> & <dbl> & <dbl> & <dbl> & <dbl>\\\\\n",
       "\\hline\n",
       "\t1 & 0.5093815 & 0.4413337 & 0.2492302 & 0.1227936 & 0.60957457\\\\\n",
       "\t2 & 0.2171158 & 0.1262645 & 0.3142756 & 0.2636121 & 0.21544602\\\\\n",
       "\t3 & 0.2887214 & 0.1782386 & 0.1636520 & 0.1184598 & 0.09137565\\\\\n",
       "\t4 & 0.2637880 & 0.6919877 & 0.2194090 & 0.2277999 & 0.10806351\\\\\n",
       "\t5 & 0.4779465 & 0.6290750 & 0.4866957 & 0.2805560 & 0.33671622\\\\\n",
       "\\end{tabular}\n"
      ],
      "text/markdown": [
       "\n",
       "A data.frame: 5 × 5\n",
       "\n",
       "| <!--/--> | edge_586540 &lt;dbl&gt; | edge_590462 &lt;dbl&gt; | edge_177427 &lt;dbl&gt; | edge_156972 &lt;dbl&gt; | edge_328529 &lt;dbl&gt; |\n",
       "|---|---|---|---|---|---|\n",
       "| 1 | 0.5093815 | 0.4413337 | 0.2492302 | 0.1227936 | 0.60957457 |\n",
       "| 2 | 0.2171158 | 0.1262645 | 0.3142756 | 0.2636121 | 0.21544602 |\n",
       "| 3 | 0.2887214 | 0.1782386 | 0.1636520 | 0.1184598 | 0.09137565 |\n",
       "| 4 | 0.2637880 | 0.6919877 | 0.2194090 | 0.2277999 | 0.10806351 |\n",
       "| 5 | 0.4779465 | 0.6290750 | 0.4866957 | 0.2805560 | 0.33671622 |\n",
       "\n"
      ],
      "text/plain": [
       "  edge_586540 edge_590462 edge_177427 edge_156972 edge_328529\n",
       "1 0.5093815   0.4413337   0.2492302   0.1227936   0.60957457 \n",
       "2 0.2171158   0.1262645   0.3142756   0.2636121   0.21544602 \n",
       "3 0.2887214   0.1782386   0.1636520   0.1184598   0.09137565 \n",
       "4 0.2637880   0.6919877   0.2194090   0.2277999   0.10806351 \n",
       "5 0.4779465   0.6290750   0.4866957   0.2805560   0.33671622 "
      ]
     },
     "metadata": {},
     "output_type": "display_data"
    },
    {
     "data": {
      "text/html": [
       "<style>\n",
       ".list-inline {list-style: none; margin:0; padding: 0}\n",
       ".list-inline>li {display: inline-block}\n",
       ".list-inline>li:not(:last-child)::after {content: \"\\00b7\"; padding: 0 .5ex}\n",
       "</style>\n",
       "<ol class=list-inline><li>170</li><li>138</li></ol>\n"
      ],
      "text/latex": [
       "\\begin{enumerate*}\n",
       "\\item 170\n",
       "\\item 138\n",
       "\\end{enumerate*}\n"
      ],
      "text/markdown": [
       "1. 170\n",
       "2. 138\n",
       "\n",
       "\n"
      ],
      "text/plain": [
       "[1] 170 138"
      ]
     },
     "metadata": {},
     "output_type": "display_data"
    },
    {
     "data": {
      "text/html": [
       "<table>\n",
       "<caption>A data.frame: 5 × 5</caption>\n",
       "<thead>\n",
       "\t<tr><th></th><th scope=col>edge_462131</th><th scope=col>edge_464171</th><th scope=col>edge_341752</th><th scope=col>edge_1056855</th><th scope=col>Phenotype</th></tr>\n",
       "\t<tr><th></th><th scope=col>&lt;dbl&gt;</th><th scope=col>&lt;dbl&gt;</th><th scope=col>&lt;dbl&gt;</th><th scope=col>&lt;dbl&gt;</th><th scope=col>&lt;fct&gt;</th></tr>\n",
       "</thead>\n",
       "<tbody>\n",
       "\t<tr><th scope=row>1</th><td>0.2246651</td><td>0.17097391</td><td>0.11691025</td><td>0.04130882</td><td>pfi_1</td></tr>\n",
       "\t<tr><th scope=row>2</th><td>0.2513257</td><td>0.46787394</td><td>0.29317876</td><td>0.24890359</td><td>pfi_2</td></tr>\n",
       "\t<tr><th scope=row>3</th><td>0.4965572</td><td>0.74368158</td><td>0.26075910</td><td>0.26099309</td><td>pfi_2</td></tr>\n",
       "\t<tr><th scope=row>4</th><td>0.1172999</td><td>0.09952767</td><td>0.08419428</td><td>0.01799832</td><td>pfi_2</td></tr>\n",
       "\t<tr><th scope=row>5</th><td>0.3573956</td><td>0.37446563</td><td>0.11022793</td><td>0.28648922</td><td>pfi_2</td></tr>\n",
       "</tbody>\n",
       "</table>\n"
      ],
      "text/latex": [
       "A data.frame: 5 × 5\n",
       "\\begin{tabular}{r|lllll}\n",
       "  & edge\\_462131 & edge\\_464171 & edge\\_341752 & edge\\_1056855 & Phenotype\\\\\n",
       "  & <dbl> & <dbl> & <dbl> & <dbl> & <fct>\\\\\n",
       "\\hline\n",
       "\t1 & 0.2246651 & 0.17097391 & 0.11691025 & 0.04130882 & pfi\\_1\\\\\n",
       "\t2 & 0.2513257 & 0.46787394 & 0.29317876 & 0.24890359 & pfi\\_2\\\\\n",
       "\t3 & 0.4965572 & 0.74368158 & 0.26075910 & 0.26099309 & pfi\\_2\\\\\n",
       "\t4 & 0.1172999 & 0.09952767 & 0.08419428 & 0.01799832 & pfi\\_2\\\\\n",
       "\t5 & 0.3573956 & 0.37446563 & 0.11022793 & 0.28648922 & pfi\\_2\\\\\n",
       "\\end{tabular}\n"
      ],
      "text/markdown": [
       "\n",
       "A data.frame: 5 × 5\n",
       "\n",
       "| <!--/--> | edge_462131 &lt;dbl&gt; | edge_464171 &lt;dbl&gt; | edge_341752 &lt;dbl&gt; | edge_1056855 &lt;dbl&gt; | Phenotype &lt;fct&gt; |\n",
       "|---|---|---|---|---|---|\n",
       "| 1 | 0.2246651 | 0.17097391 | 0.11691025 | 0.04130882 | pfi_1 |\n",
       "| 2 | 0.2513257 | 0.46787394 | 0.29317876 | 0.24890359 | pfi_2 |\n",
       "| 3 | 0.4965572 | 0.74368158 | 0.26075910 | 0.26099309 | pfi_2 |\n",
       "| 4 | 0.1172999 | 0.09952767 | 0.08419428 | 0.01799832 | pfi_2 |\n",
       "| 5 | 0.3573956 | 0.37446563 | 0.11022793 | 0.28648922 | pfi_2 |\n",
       "\n"
      ],
      "text/plain": [
       "  edge_462131 edge_464171 edge_341752 edge_1056855 Phenotype\n",
       "1 0.2246651   0.17097391  0.11691025  0.04130882   pfi_1    \n",
       "2 0.2513257   0.46787394  0.29317876  0.24890359   pfi_2    \n",
       "3 0.4965572   0.74368158  0.26075910  0.26099309   pfi_2    \n",
       "4 0.1172999   0.09952767  0.08419428  0.01799832   pfi_2    \n",
       "5 0.3573956   0.37446563  0.11022793  0.28648922   pfi_2    "
      ]
     },
     "metadata": {},
     "output_type": "display_data"
    }
   ],
   "source": [
    "x[1:5,1:5]\n",
    "dim(x)\n",
    "x[1:5,134:138]"
   ]
  },
  {
   "cell_type": "code",
   "execution_count": 78,
   "metadata": {},
   "outputs": [
    {
     "data": {
      "text/html": [
       "<style>\n",
       ".list-inline {list-style: none; margin:0; padding: 0}\n",
       ".list-inline>li {display: inline-block}\n",
       ".list-inline>li:not(:last-child)::after {content: \"\\00b7\"; padding: 0 .5ex}\n",
       "</style>\n",
       "<ol class=list-inline><li>'edge_588442'</li><li>'edge_460612'</li><li>'edge_335767'</li><li>'edge_341032'</li><li>'edge_460471'</li><li>'edge_330443'</li><li>'edge_328462'</li><li>'edge_331647'</li><li>'edge_960011'</li><li>'edge_330441'</li><li>'edge_588301'</li><li>'edge_331648'</li><li>'edge_586612'</li><li>'edge_174781'</li><li>'edge_583525'</li><li>'edge_849256'</li><li>'edge_595628'</li><li>'edge_328463'</li><li>'edge_458841'</li><li>'edge_328461'</li><li>'edge_848032'</li><li>'edge_174782'</li><li>'edge_466290'</li><li>'edge_329522'</li><li>'edge_182483'</li><li>'edge_585547'</li><li>'edge_171189'</li><li>'edge_457801'</li></ol>\n"
      ],
      "text/latex": [
       "\\begin{enumerate*}\n",
       "\\item 'edge\\_588442'\n",
       "\\item 'edge\\_460612'\n",
       "\\item 'edge\\_335767'\n",
       "\\item 'edge\\_341032'\n",
       "\\item 'edge\\_460471'\n",
       "\\item 'edge\\_330443'\n",
       "\\item 'edge\\_328462'\n",
       "\\item 'edge\\_331647'\n",
       "\\item 'edge\\_960011'\n",
       "\\item 'edge\\_330441'\n",
       "\\item 'edge\\_588301'\n",
       "\\item 'edge\\_331648'\n",
       "\\item 'edge\\_586612'\n",
       "\\item 'edge\\_174781'\n",
       "\\item 'edge\\_583525'\n",
       "\\item 'edge\\_849256'\n",
       "\\item 'edge\\_595628'\n",
       "\\item 'edge\\_328463'\n",
       "\\item 'edge\\_458841'\n",
       "\\item 'edge\\_328461'\n",
       "\\item 'edge\\_848032'\n",
       "\\item 'edge\\_174782'\n",
       "\\item 'edge\\_466290'\n",
       "\\item 'edge\\_329522'\n",
       "\\item 'edge\\_182483'\n",
       "\\item 'edge\\_585547'\n",
       "\\item 'edge\\_171189'\n",
       "\\item 'edge\\_457801'\n",
       "\\end{enumerate*}\n"
      ],
      "text/markdown": [
       "1. 'edge_588442'\n",
       "2. 'edge_460612'\n",
       "3. 'edge_335767'\n",
       "4. 'edge_341032'\n",
       "5. 'edge_460471'\n",
       "6. 'edge_330443'\n",
       "7. 'edge_328462'\n",
       "8. 'edge_331647'\n",
       "9. 'edge_960011'\n",
       "10. 'edge_330441'\n",
       "11. 'edge_588301'\n",
       "12. 'edge_331648'\n",
       "13. 'edge_586612'\n",
       "14. 'edge_174781'\n",
       "15. 'edge_583525'\n",
       "16. 'edge_849256'\n",
       "17. 'edge_595628'\n",
       "18. 'edge_328463'\n",
       "19. 'edge_458841'\n",
       "20. 'edge_328461'\n",
       "21. 'edge_848032'\n",
       "22. 'edge_174782'\n",
       "23. 'edge_466290'\n",
       "24. 'edge_329522'\n",
       "25. 'edge_182483'\n",
       "26. 'edge_585547'\n",
       "27. 'edge_171189'\n",
       "28. 'edge_457801'\n",
       "\n",
       "\n"
      ],
      "text/plain": [
       " [1] \"edge_588442\" \"edge_460612\" \"edge_335767\" \"edge_341032\" \"edge_460471\"\n",
       " [6] \"edge_330443\" \"edge_328462\" \"edge_331647\" \"edge_960011\" \"edge_330441\"\n",
       "[11] \"edge_588301\" \"edge_331648\" \"edge_586612\" \"edge_174781\" \"edge_583525\"\n",
       "[16] \"edge_849256\" \"edge_595628\" \"edge_328463\" \"edge_458841\" \"edge_328461\"\n",
       "[21] \"edge_848032\" \"edge_174782\" \"edge_466290\" \"edge_329522\" \"edge_182483\"\n",
       "[26] \"edge_585547\" \"edge_171189\" \"edge_457801\""
      ]
     },
     "metadata": {},
     "output_type": "display_data"
    },
    {
     "data": {
      "text/html": [
       "28"
      ],
      "text/latex": [
       "28"
      ],
      "text/markdown": [
       "28"
      ],
      "text/plain": [
       "[1] 28"
      ]
     },
     "metadata": {},
     "output_type": "display_data"
    },
    {
     "data": {
      "text/html": [
       "<style>\n",
       ".list-inline {list-style: none; margin:0; padding: 0}\n",
       ".list-inline>li {display: inline-block}\n",
       ".list-inline>li:not(:last-child)::after {content: \"\\00b7\"; padding: 0 .5ex}\n",
       "</style>\n",
       "<ol class=list-inline><li>170</li><li>138</li></ol>\n"
      ],
      "text/latex": [
       "\\begin{enumerate*}\n",
       "\\item 170\n",
       "\\item 138\n",
       "\\end{enumerate*}\n"
      ],
      "text/markdown": [
       "1. 170\n",
       "2. 138\n",
       "\n",
       "\n"
      ],
      "text/plain": [
       "[1] 170 138"
      ]
     },
     "metadata": {},
     "output_type": "display_data"
    }
   ],
   "source": [
    "\n",
    "# inital step\n",
    "\n",
    "varlist <- c()\n",
    "varedges <- colnames(x)[-(ncol(x))]\n",
    "\n",
    "for (vi in varedges) {\n",
    "    f <- formula(x = paste0('Phenotype ~ ', vi))\n",
    "\n",
    "    m1 = glm(data = x, f, family = binomial(link = \"logit\"))\n",
    "\n",
    "    summ1 <- summary(m1)\n",
    "\n",
    "    if (summ1$coefficients[2,4] < 0.01) {\n",
    "        varlist <- c(vi, varlist)\n",
    "    }    \n",
    "}\n",
    "\n",
    "varlist\n",
    "length(varlist)\n",
    "dim(x)"
   ]
  },
  {
   "cell_type": "code",
   "execution_count": 79,
   "metadata": {
    "scrolled": true
   },
   "outputs": [
    {
     "data": {
      "text/plain": [
       "\n",
       "Call:\n",
       "glm(formula = Phenotype ~ edge_460612 + edge_331647 + edge_588301 + \n",
       "    edge_586612 + edge_583525 + edge_849256 + edge_458841 + edge_848032 + \n",
       "    edge_329522 + edge_182483 + edge_457801, family = binomial(link = \"logit\"), \n",
       "    data = x2)\n",
       "\n",
       "Deviance Residuals: \n",
       "    Min       1Q   Median       3Q      Max  \n",
       "-2.0872  -0.9410   0.4596   0.9111   2.0334  \n",
       "\n",
       "Coefficients:\n",
       "            Estimate Std. Error z value Pr(>|z|)    \n",
       "(Intercept)  -0.5871     0.4735  -1.240  0.21500    \n",
       "edge_460612   4.9109     1.6097   3.051  0.00228 ** \n",
       "edge_331647   5.6887     2.1486   2.648  0.00811 ** \n",
       "edge_588301  10.2740     4.4859   2.290  0.02201 *  \n",
       "edge_586612 -11.7195     4.9496  -2.368  0.01789 *  \n",
       "edge_583525   4.7535     2.3866   1.992  0.04640 *  \n",
       "edge_849256 -13.0933     4.7532  -2.755  0.00588 ** \n",
       "edge_458841  -5.5155     2.5894  -2.130  0.03317 *  \n",
       "edge_848032  13.5301     5.4695   2.474  0.01337 *  \n",
       "edge_329522  -3.4454     2.1640  -1.592  0.11135    \n",
       "edge_182483   3.2389     1.8244   1.775  0.07585 .  \n",
       "edge_457801  -6.6173     1.6948  -3.904 9.44e-05 ***\n",
       "---\n",
       "Signif. codes:  0 ‘***’ 0.001 ‘**’ 0.01 ‘*’ 0.05 ‘.’ 0.1 ‘ ’ 1\n",
       "\n",
       "(Dispersion parameter for binomial family taken to be 1)\n",
       "\n",
       "    Null deviance: 232.27  on 169  degrees of freedom\n",
       "Residual deviance: 187.22  on 158  degrees of freedom\n",
       "AIC: 211.22\n",
       "\n",
       "Number of Fisher Scoring iterations: 4\n"
      ]
     },
     "metadata": {},
     "output_type": "display_data"
    }
   ],
   "source": [
    "\n",
    "# step model #\n",
    "options(warn = -1)\n",
    "x2 <- x[,c('Phenotype', varlist)]\n",
    "m1 = glm(data = x2, Phenotype ~ ., family = binomial(link = \"logit\")) # full model\n",
    "stepModel <- stepAIC(m1, direction = 'both', trace = F)\n",
    "summary(stepModel)\n"
   ]
  },
  {
   "cell_type": "code",
   "execution_count": null,
   "metadata": {},
   "outputs": [],
   "source": [
    "\n"
   ]
  },
  {
   "cell_type": "code",
   "execution_count": null,
   "metadata": {},
   "outputs": [],
   "source": []
  },
  {
   "cell_type": "code",
   "execution_count": null,
   "metadata": {},
   "outputs": [],
   "source": []
  },
  {
   "cell_type": "code",
   "execution_count": null,
   "metadata": {
    "scrolled": true
   },
   "outputs": [],
   "source": [
    "\n",
    "# one of the step models\n",
    "#x <- as.data.frame(datmat %>% dplyr::select(-PatientBarcode))\n",
    "#x$Phenotype <- labels - 1\n",
    "#m1 = glm(data=dat,formula = Phenotype ~ `58549` + `85934` + `89458` + `105897` + \n",
    "#    `167503` + `178772` + `180571` + `237797` + `257345` + `273908` + \n",
    "#    `274493` + `276510` + `276711` + `343620` + `360774` + `363955` + \n",
    "#    `363966` + `366157` + `366170` + `368285` + `411280` + `411513` + \n",
    "#    `423536` + `424164` + `424167` + `426271` + `427994` + `461765` + \n",
    "#    `469988` + `485283` + `581313` + `583906` + `586881` + `587663` + \n",
    "#    `592671` + `592687` + `594157` + `597040` + `597041` + `597203` + \n",
    "#    `644724` + `652991` + `664291` + `664997` + `665002` + `668724` + \n",
    "#    `767722` + `769007` + `769233` + `772913` + `773120` + `847277` + \n",
    "#    `853413` + `929738` + `992672` + `1001028`, family = binomial(link = \"logit\"))\n",
    "#summary(m1)\n",
    "#plot(m1)\n"
   ]
  },
  {
   "cell_type": "code",
   "execution_count": null,
   "metadata": {},
   "outputs": [],
   "source": [
    "# using caret with the above model\n",
    "\n",
    "library(caret)\n",
    "\n",
    "x2 <- x\n",
    "x2$Phenotype <- as.numeric(ifelse(x2$Phenotype=='pfi_1', yes=0, no=1))\n",
    "     \n",
    "ctrl <- trainControl(method = \"repeatedcv\", #boot, cv, LOOCV, timeslice OR adaptive etc.\n",
    "                         number = 10, repeats = 10,\n",
    "                         classProbs = TRUE, #summaryFunction = twoClassSummary,\n",
    "                         savePredictions = \"final\", allowParallel = TRUE)\n",
    "\n",
    "\n",
    "full_fit <- caret::train(Phenotype ~ ., data=x, \n",
    "     method=\"bayesglm\", family=\"binomial\",  #preProc=c(\"center\", \"scale\"),\n",
    "     trControl = ctrl, #metric = 'ROC',\n",
    "     tuneLength = 5)\n",
    "\n",
    "full_fit\n",
    "    \n",
    "\n",
    "pred = predict(full_fit, newdata=x2)\n",
    "#confusionMatrix(data=pred, x2$Phenotype)\n",
    "\n",
    "table(pred > 0.5, x2$Phenotype)\n"
   ]
  },
  {
   "cell_type": "code",
   "execution_count": 99,
   "metadata": {},
   "outputs": [
    {
     "data": {
      "text/plain": [
       "eXtreme Gradient Boosting \n",
       "\n",
       "170 samples\n",
       "137 predictors\n",
       "  2 classes: 'pfi_1', 'pfi_2' \n",
       "\n",
       "No pre-processing\n",
       "Resampling: Cross-Validated (10 fold, repeated 10 times) \n",
       "Summary of sample sizes: 154, 152, 154, 153, 153, 153, ... \n",
       "Resampling results across tuning parameters:\n",
       "\n",
       "  lambda  alpha  nrounds  ROC        Sens       Spec     \n",
       "  0e+00   0e+00   50      0.6550675  0.5117857  0.7232222\n",
       "  0e+00   0e+00  100      0.6627282  0.5191071  0.7131111\n",
       "  0e+00   0e+00  150      0.6640437  0.5214286  0.7163333\n",
       "  0e+00   0e+00  200      0.6640437  0.5214286  0.7163333\n",
       "  0e+00   0e+00  250      0.6640437  0.5214286  0.7163333\n",
       "  0e+00   1e-04   50      0.6496131  0.4869643  0.7064444\n",
       "  0e+00   1e-04  100      0.6598254  0.5121429  0.7054444\n",
       "  0e+00   1e-04  150      0.6613869  0.5094643  0.7093333\n",
       "  0e+00   1e-04  200      0.6613869  0.5094643  0.7093333\n",
       "  0e+00   1e-04  250      0.6613869  0.5094643  0.7093333\n",
       "  0e+00   1e-03   50      0.6585278  0.5130357  0.7046667\n",
       "  0e+00   1e-03  100      0.6656270  0.5203571  0.6993333\n",
       "  0e+00   1e-03  150      0.6660833  0.5210714  0.7012222\n",
       "  0e+00   1e-03  200      0.6660833  0.5210714  0.7012222\n",
       "  0e+00   1e-03  250      0.6660833  0.5210714  0.7012222\n",
       "  0e+00   1e-02   50      0.6593373  0.5046429  0.7131111\n",
       "  0e+00   1e-02  100      0.6626052  0.5035714  0.7165556\n",
       "  0e+00   1e-02  150      0.6606071  0.5025000  0.7135556\n",
       "  0e+00   1e-02  200      0.6606071  0.5025000  0.7135556\n",
       "  0e+00   1e-02  250      0.6606071  0.5025000  0.7135556\n",
       "  0e+00   1e-01   50      0.6567619  0.5130357  0.7001111\n",
       "  0e+00   1e-01  100      0.6656845  0.5169643  0.7073333\n",
       "  0e+00   1e-01  150      0.6668710  0.5226786  0.7084444\n",
       "  0e+00   1e-01  200      0.6684782  0.5185714  0.7082222\n",
       "  0e+00   1e-01  250      0.6690079  0.5187500  0.7072222\n",
       "  1e-04   0e+00   50      0.6559544  0.4967857  0.7042222\n",
       "  1e-04   0e+00  100      0.6632619  0.5207143  0.7117778\n",
       "  1e-04   0e+00  150      0.6645000  0.5153571  0.7110000\n",
       "  1e-04   0e+00  200      0.6645000  0.5153571  0.7110000\n",
       "  1e-04   0e+00  250      0.6645000  0.5153571  0.7110000\n",
       "  1e-04   1e-04   50      0.6575556  0.4992857  0.7087778\n",
       "  1e-04   1e-04  100      0.6614325  0.5260714  0.7167778\n",
       "  1e-04   1e-04  150      0.6651190  0.5214286  0.7187778\n",
       "  1e-04   1e-04  200      0.6651190  0.5214286  0.7187778\n",
       "  1e-04   1e-04  250      0.6651190  0.5214286  0.7187778\n",
       "  1e-04   1e-03   50      0.6595139  0.5137500  0.7078889\n",
       "  1e-04   1e-03  100      0.6673214  0.5239286  0.7014444\n",
       "  1e-04   1e-03  150      0.6677540  0.5194643  0.7063333\n",
       "  1e-04   1e-03  200      0.6677540  0.5194643  0.7063333\n",
       "  1e-04   1e-03  250      0.6677540  0.5194643  0.7063333\n",
       "  1e-04   1e-02   50      0.6583175  0.5112500  0.7173333\n",
       "  1e-04   1e-02  100      0.6653492  0.5148214  0.7167778\n",
       "  1e-04   1e-02  150      0.6638750  0.5121429  0.7147778\n",
       "  1e-04   1e-02  200      0.6637321  0.5121429  0.7147778\n",
       "  1e-04   1e-02  250      0.6637321  0.5121429  0.7147778\n",
       "  1e-04   1e-01   50      0.6568333  0.5130357  0.7022222\n",
       "  1e-04   1e-01  100      0.6641726  0.5132143  0.7084444\n",
       "  1e-04   1e-01  150      0.6657798  0.5201786  0.7115556\n",
       "  1e-04   1e-01  200      0.6681885  0.5148214  0.7093333\n",
       "  1e-04   1e-01  250      0.6686369  0.5178571  0.7072222\n",
       "  1e-03   0e+00   50      0.6608889  0.5073214  0.6997778\n",
       "  1e-03   0e+00  100      0.6654940  0.5212500  0.6955556\n",
       "  1e-03   0e+00  150      0.6650734  0.5251786  0.6992222\n",
       "  1e-03   0e+00  200      0.6650734  0.5251786  0.6992222\n",
       "  1e-03   0e+00  250      0.6650734  0.5251786  0.6992222\n",
       "  1e-03   1e-04   50      0.6609643  0.5080357  0.7047778\n",
       "  1e-03   1e-04  100      0.6638671  0.5228571  0.7006667\n",
       "  1e-03   1e-04  150      0.6643770  0.5225000  0.7076667\n",
       "  1e-03   1e-04  200      0.6643770  0.5225000  0.7076667\n",
       "  1e-03   1e-04  250      0.6643770  0.5225000  0.7076667\n",
       "  1e-03   1e-03   50      0.6578413  0.5091071  0.7035556\n",
       "  1e-03   1e-03  100      0.6645377  0.5155357  0.7053333\n",
       "  1e-03   1e-03  150      0.6649167  0.5182143  0.7065556\n",
       "  1e-03   1e-03  200      0.6649167  0.5182143  0.7065556\n",
       "  1e-03   1e-03  250      0.6649167  0.5182143  0.7065556\n",
       "  1e-03   1e-02   50      0.6509861  0.5035714  0.7121111\n",
       "  1e-03   1e-02  100      0.6554187  0.5089286  0.7054444\n",
       "  1e-03   1e-02  150      0.6578790  0.5103571  0.7046667\n",
       "  1e-03   1e-02  200      0.6578790  0.5103571  0.7046667\n",
       "  1e-03   1e-02  250      0.6578790  0.5103571  0.7046667\n",
       "  1e-03   1e-01   50      0.6591726  0.5135714  0.7086667\n",
       "  1e-03   1e-01  100      0.6659663  0.5212500  0.7110000\n",
       "  1e-03   1e-01  150      0.6656885  0.5225000  0.7096667\n",
       "  1e-03   1e-01  200      0.6675496  0.5228571  0.7125556\n",
       "  1e-03   1e-01  250      0.6676032  0.5230357  0.7105556\n",
       "  1e-02   0e+00   50      0.6566468  0.5167857  0.7152222\n",
       "  1e-02   0e+00  100      0.6615833  0.5258929  0.7148889\n",
       "  1e-02   0e+00  150      0.6634048  0.5232143  0.7180000\n",
       "  1e-02   0e+00  200      0.6634048  0.5232143  0.7180000\n",
       "  1e-02   0e+00  250      0.6634048  0.5232143  0.7180000\n",
       "  1e-02   1e-04   50      0.6564226  0.5182143  0.7132222\n",
       "  1e-02   1e-04  100      0.6619425  0.5317857  0.7178889\n",
       "  1e-02   1e-04  150      0.6638710  0.5305357  0.7188889\n",
       "  1e-02   1e-04  200      0.6638710  0.5305357  0.7188889\n",
       "  1e-02   1e-04  250      0.6638710  0.5305357  0.7188889\n",
       "  1e-02   1e-03   50      0.6567738  0.5344643  0.7098889\n",
       "  1e-02   1e-03  100      0.6620734  0.5319643  0.7182222\n",
       "  1e-02   1e-03  150      0.6613690  0.5391071  0.7200000\n",
       "  1e-02   1e-03  200      0.6613690  0.5391071  0.7200000\n",
       "  1e-02   1e-03  250      0.6613690  0.5391071  0.7200000\n",
       "  1e-02   1e-02   50      0.6581726  0.5173214  0.7215556\n",
       "  1e-02   1e-02  100      0.6641548  0.5207143  0.7242222\n",
       "  1e-02   1e-02  150      0.6657421  0.5248214  0.7192222\n",
       "  1e-02   1e-02  200      0.6658849  0.5248214  0.7192222\n",
       "  1e-02   1e-02  250      0.6658849  0.5248214  0.7192222\n",
       "  1e-02   1e-01   50      0.6636905  0.5117857  0.7148889\n",
       "  1e-02   1e-01  100      0.6686389  0.5264286  0.7241111\n",
       "  1e-02   1e-01  150      0.6688095  0.5291071  0.7261111\n",
       "  1e-02   1e-01  200      0.6697976  0.5317857  0.7281111\n",
       "  1e-02   1e-01  250      0.6707996  0.5282143  0.7270000\n",
       "  1e-01   0e+00   50      0.6695655  0.5285714  0.7107778\n",
       "  1e-01   0e+00  100      0.6761528  0.5307143  0.7196667\n",
       "  1e-01   0e+00  150      0.6806171  0.5398214  0.7108889\n",
       "  1e-01   0e+00  200      0.6803155  0.5398214  0.7108889\n",
       "  1e-01   0e+00  250      0.6803155  0.5398214  0.7108889\n",
       "  1e-01   1e-04   50      0.6706409  0.5244643  0.7128889\n",
       "  1e-01   1e-04  100      0.6772937  0.5335714  0.7164444\n",
       "  1e-01   1e-04  150      0.6800635  0.5403571  0.7182222\n",
       "  1e-01   1e-04  200      0.6801905  0.5403571  0.7182222\n",
       "  1e-01   1e-04  250      0.6801905  0.5403571  0.7182222\n",
       "  1e-01   1e-03   50      0.6675952  0.5180357  0.7051111\n",
       "  1e-01   1e-03  100      0.6702758  0.5321429  0.6997778\n",
       "  1e-01   1e-03  150      0.6719702  0.5348214  0.7007778\n",
       "  1e-01   1e-03  200      0.6718790  0.5348214  0.6996667\n",
       "  1e-01   1e-03  250      0.6718790  0.5348214  0.6996667\n",
       "  1e-01   1e-02   50      0.6710000  0.5301786  0.7027778\n",
       "  1e-01   1e-02  100      0.6743075  0.5330357  0.7067778\n",
       "  1e-01   1e-02  150      0.6731746  0.5260714  0.7148889\n",
       "  1e-01   1e-02  200      0.6745139  0.5260714  0.7137778\n",
       "  1e-01   1e-02  250      0.6745139  0.5260714  0.7137778\n",
       "  1e-01   1e-01   50      0.6597877  0.5094643  0.7262222\n",
       "  1e-01   1e-01  100      0.6652857  0.5139286  0.7270000\n",
       "  1e-01   1e-01  150      0.6687679  0.5178571  0.7230000\n",
       "  1e-01   1e-01  200      0.6711329  0.5208929  0.7208889\n",
       "  1e-01   1e-01  250      0.6727044  0.5194643  0.7198889\n",
       "\n",
       "Tuning parameter 'eta' was held constant at a value of 0.3\n",
       "ROC was used to select the optimal model using the largest value.\n",
       "The final values used for the model were nrounds = 150, lambda = 0.1, alpha =\n",
       " 0 and eta = 0.3."
      ]
     },
     "metadata": {},
     "output_type": "display_data"
    },
    {
     "data": {
      "text/plain": [
       "Confusion Matrix and Statistics\n",
       "\n",
       "          Reference\n",
       "Prediction pfi_1 pfi_2\n",
       "     pfi_1    73     0\n",
       "     pfi_2     0    97\n",
       "                                     \n",
       "               Accuracy : 1          \n",
       "                 95% CI : (0.9785, 1)\n",
       "    No Information Rate : 0.5706     \n",
       "    P-Value [Acc > NIR] : < 2.2e-16  \n",
       "                                     \n",
       "                  Kappa : 1          \n",
       "                                     \n",
       " Mcnemar's Test P-Value : NA         \n",
       "                                     \n",
       "            Sensitivity : 1.0000     \n",
       "            Specificity : 1.0000     \n",
       "         Pos Pred Value : 1.0000     \n",
       "         Neg Pred Value : 1.0000     \n",
       "             Prevalence : 0.4294     \n",
       "         Detection Rate : 0.4294     \n",
       "   Detection Prevalence : 0.4294     \n",
       "      Balanced Accuracy : 1.0000     \n",
       "                                     \n",
       "       'Positive' Class : pfi_1      \n",
       "                                     "
      ]
     },
     "metadata": {},
     "output_type": "display_data"
    }
   ],
   "source": [
    "# using caret with the above model\n",
    "\n",
    "\n",
    "     \n",
    "ctrl <- trainControl(method = \"repeatedcv\", #boot, cv, LOOCV, timeslice OR adaptive etc.\n",
    "                         number = 10, repeats = 10,\n",
    "                         classProbs = TRUE, summaryFunction = twoClassSummary,\n",
    "                         savePredictions = \"final\", allowParallel = TRUE)\n",
    "\n",
    "\n",
    "full_fit <- caret::train(Phenotype ~ ., data=x, \n",
    "     method=\"xgbLinear\", family=\"binomial\",  #preProc=c(\"center\", \"scale\"),\n",
    "     trControl = ctrl, metric = 'ROC',\n",
    "     tuneLength = 5)\n",
    "\n",
    "full_fit\n",
    "    \n",
    "\n",
    "pred = predict(full_fit, newdata=x)\n",
    "confusionMatrix(data=pred, x$Phenotype)\n"
   ]
  },
  {
   "cell_type": "code",
   "execution_count": 102,
   "metadata": {},
   "outputs": [
    {
     "data": {
      "text/plain": [
       "Support Vector Machines with Linear Kernel \n",
       "\n",
       "170 samples\n",
       "137 predictors\n",
       "  2 classes: 'pfi_1', 'pfi_2' \n",
       "\n",
       "No pre-processing\n",
       "Resampling: Cross-Validated (10 fold, repeated 3 times) \n",
       "Summary of sample sizes: 153, 154, 152, 154, 154, 152, ... \n",
       "Resampling results across tuning parameters:\n",
       "\n",
       "  cost  ROC        Sens       Spec     \n",
       "  0.25  0.6183003  0.5107143  0.6429630\n",
       "  0.50  0.6335450  0.5589286  0.6266667\n",
       "  1.00  0.6081151  0.5863095  0.6118519\n",
       "  2.00  0.6208135  0.5761905  0.6203704\n",
       "  4.00  0.6170370  0.5392857  0.6162963\n",
       "\n",
       "ROC was used to select the optimal model using the largest value.\n",
       "The final value used for the model was cost = 0.5."
      ]
     },
     "metadata": {},
     "output_type": "display_data"
    },
    {
     "data": {
      "text/plain": [
       "Confusion Matrix and Statistics\n",
       "\n",
       "          Reference\n",
       "Prediction pfi_1 pfi_2\n",
       "     pfi_1    66     5\n",
       "     pfi_2     7    92\n",
       "                                         \n",
       "               Accuracy : 0.9294         \n",
       "                 95% CI : (0.8799, 0.963)\n",
       "    No Information Rate : 0.5706         \n",
       "    P-Value [Acc > NIR] : <2e-16         \n",
       "                                         \n",
       "                  Kappa : 0.8555         \n",
       "                                         \n",
       " Mcnemar's Test P-Value : 0.7728         \n",
       "                                         \n",
       "            Sensitivity : 0.9041         \n",
       "            Specificity : 0.9485         \n",
       "         Pos Pred Value : 0.9296         \n",
       "         Neg Pred Value : 0.9293         \n",
       "             Prevalence : 0.4294         \n",
       "         Detection Rate : 0.3882         \n",
       "   Detection Prevalence : 0.4176         \n",
       "      Balanced Accuracy : 0.9263         \n",
       "                                         \n",
       "       'Positive' Class : pfi_1          \n",
       "                                         "
      ]
     },
     "metadata": {},
     "output_type": "display_data"
    }
   ],
   "source": [
    "\n",
    "# using caret with the above model\n",
    "\n",
    "library(caret)\n",
    "\n",
    "     \n",
    "ctrl <- trainControl(method = \"repeatedcv\", #boot, cv, LOOCV, timeslice OR adaptive etc.\n",
    "                         number = 10, repeats = 3,\n",
    "                         classProbs = TRUE, summaryFunction = twoClassSummary,\n",
    "                         savePredictions = \"final\", allowParallel = TRUE)\n",
    "\n",
    "\n",
    "full_fit <- caret::train(Phenotype ~ ., data=x, \n",
    "     method=\"svmLinear2\", family=\"binomial\",  #preProc=c(\"center\", \"scale\"),\n",
    "     trControl = ctrl, metric = 'ROC',\n",
    "     tuneLength = 5)\n",
    "\n",
    "full_fit\n",
    "    \n",
    "\n",
    "pred = predict(full_fit, newdata=x)\n",
    "confusionMatrix(data=pred, x$Phenotype)\n",
    "\n"
   ]
  },
  {
   "cell_type": "code",
   "execution_count": 105,
   "metadata": {},
   "outputs": [
    {
     "data": {
      "text/plain": [
       "ROC curve variable importance\n",
       "\n",
       "  only 20 most important variables shown (out of 137)\n",
       "\n",
       "            Importance\n",
       "edge_460471     100.00\n",
       "edge_588301      99.67\n",
       "edge_397215      99.00\n",
       "edge_331647      97.88\n",
       "edge_329522      97.22\n",
       "edge_331648      96.88\n",
       "edge_849256      95.77\n",
       "edge_848032      95.10\n",
       "edge_335767      94.32\n",
       "edge_460612      93.99\n",
       "edge_585547      93.32\n",
       "edge_464171      92.98\n",
       "edge_457801      92.76\n",
       "edge_328463      92.20\n",
       "edge_330443      91.76\n",
       "edge_328461      90.76\n",
       "edge_474304      90.20\n",
       "edge_328462      90.20\n",
       "edge_341032      89.87\n",
       "edge_595628      89.53"
      ]
     },
     "metadata": {},
     "output_type": "display_data"
    }
   ],
   "source": [
    "varImp(full_fit)"
   ]
  },
  {
   "cell_type": "code",
   "execution_count": null,
   "metadata": {},
   "outputs": [],
   "source": []
  },
  {
   "cell_type": "code",
   "execution_count": 101,
   "metadata": {},
   "outputs": [
    {
     "name": "stdout",
     "output_type": "stream",
     "text": [
      "1 package is needed for this model and is not installed. (randomForest). Would you like to try to install it now?"
     ]
    },
    {
     "ename": "ERROR",
     "evalue": "Error: Required package is missing\n",
     "output_type": "error",
     "traceback": [
      "Error: Required package is missing\nTraceback:\n",
      "1. caret::train(Phenotype ~ ., data = x, method = \"rf\", family = \"binomial\", \n .     trControl = ctrl, metric = \"ROC\", tuneLength = 5)",
      "2. train.formula(Phenotype ~ ., data = x, method = \"rf\", family = \"binomial\", \n .     trControl = ctrl, metric = \"ROC\", tuneLength = 5)",
      "3. train(x, y, weights = w, ...)",
      "4. train.default(x, y, weights = w, ...)",
      "5. checkInstall(models$library)",
      "6. stop(\"Required package is missing\", call. = FALSE)"
     ]
    }
   ],
   "source": [
    "# using caret with the above model\n",
    "\n",
    "library(caret)\n",
    "\n",
    "     \n",
    "ctrl <- trainControl(method = \"repeatedcv\", #boot, cv, LOOCV, timeslice OR adaptive etc.\n",
    "                         number = 10, repeats = 10,\n",
    "                         classProbs = TRUE, summaryFunction = twoClassSummary,\n",
    "                         savePredictions = \"final\", allowParallel = TRUE)\n",
    "\n",
    "\n",
    "full_fit <- caret::train(Phenotype ~ ., data=x, \n",
    "     method=\"rf\", family=\"binomial\",  #preProc=c(\"center\", \"scale\"),\n",
    "     trControl = ctrl, metric = 'ROC',\n",
    "     tuneLength = 5)\n",
    "\n",
    "full_fit\n",
    "    \n",
    "\n",
    "pred = predict(full_fit, newdata=x)\n",
    "confusionMatrix(data=pred, x$Phenotype)\n"
   ]
  },
  {
   "cell_type": "code",
   "execution_count": 84,
   "metadata": {},
   "outputs": [
    {
     "data": {
      "text/plain": [
       "glmnet variable importance\n",
       "\n",
       "            Overall\n",
       "edge_849256 100.000\n",
       "edge_848032  99.970\n",
       "edge_586612  81.048\n",
       "edge_588301  69.249\n",
       "edge_457801  38.715\n",
       "edge_331647  25.461\n",
       "edge_458841  21.488\n",
       "edge_460612  19.025\n",
       "edge_583525  13.950\n",
       "edge_182483   3.254\n",
       "edge_329522   0.000"
      ]
     },
     "metadata": {},
     "output_type": "display_data"
    },
    {
     "data": {
      "text/html": [
       "4"
      ],
      "text/latex": [
       "4"
      ],
      "text/markdown": [
       "4"
      ],
      "text/plain": [
       "[1] 4"
      ]
     },
     "metadata": {},
     "output_type": "display_data"
    }
   ],
   "source": [
    "full_vars <- varImp(full_fit)\n",
    "edges <- as.numeric( str_replace_all(rownames(full_vars$importance)[full_vars$importance$Overall > 50], 'edge_', '') )\n",
    "full_vars\n",
    "length(edges)"
   ]
  },
  {
   "cell_type": "code",
   "execution_count": 49,
   "metadata": {},
   "outputs": [],
   "source": [
    "varimpmat <- as.data.frame(full_vars$importance[full_vars$importance$Overall > 50,])\n",
    "varimpmat$EdgeID = edges"
   ]
  },
  {
   "cell_type": "code",
   "execution_count": 50,
   "metadata": {},
   "outputs": [
    {
     "name": "stderr",
     "output_type": "stream",
     "text": [
      "Joining, by = \"EdgeID\"\n",
      "\n"
     ]
    },
    {
     "data": {
      "text/html": [
       "<table>\n",
       "<caption>A grouped_df: 1 × 9</caption>\n",
       "<thead>\n",
       "\t<tr><th scope=col>Study</th><th scope=col>EdgeID</th><th scope=col>LCell</th><th scope=col>Ligand</th><th scope=col>Receptor</th><th scope=col>RCell</th><th scope=col>S1avg</th><th scope=col>med_diff_avg</th><th scope=col>imp</th></tr>\n",
       "\t<tr><th scope=col>&lt;chr&gt;</th><th scope=col>&lt;dbl&gt;</th><th scope=col>&lt;chr&gt;</th><th scope=col>&lt;chr&gt;</th><th scope=col>&lt;chr&gt;</th><th scope=col>&lt;chr&gt;</th><th scope=col>&lt;dbl&gt;</th><th scope=col>&lt;dbl&gt;</th><th scope=col>&lt;dbl&gt;</th></tr>\n",
       "</thead>\n",
       "<tbody>\n",
       "\t<tr><td>ESCA</td><td>462131</td><td>Keratinocytes</td><td>LAMC2</td><td>ITGB4</td><td>Epithelial cells</td><td>-0.1802567</td><td>-0.1092953</td><td>100</td></tr>\n",
       "</tbody>\n",
       "</table>\n"
      ],
      "text/latex": [
       "A grouped\\_df: 1 × 9\n",
       "\\begin{tabular}{lllllllll}\n",
       " Study & EdgeID & LCell & Ligand & Receptor & RCell & S1avg & med\\_diff\\_avg & imp\\\\\n",
       " <chr> & <dbl> & <chr> & <chr> & <chr> & <chr> & <dbl> & <dbl> & <dbl>\\\\\n",
       "\\hline\n",
       "\t ESCA & 462131 & Keratinocytes & LAMC2 & ITGB4 & Epithelial cells & -0.1802567 & -0.1092953 & 100\\\\\n",
       "\\end{tabular}\n"
      ],
      "text/markdown": [
       "\n",
       "A grouped_df: 1 × 9\n",
       "\n",
       "| Study &lt;chr&gt; | EdgeID &lt;dbl&gt; | LCell &lt;chr&gt; | Ligand &lt;chr&gt; | Receptor &lt;chr&gt; | RCell &lt;chr&gt; | S1avg &lt;dbl&gt; | med_diff_avg &lt;dbl&gt; | imp &lt;dbl&gt; |\n",
       "|---|---|---|---|---|---|---|---|---|\n",
       "| ESCA | 462131 | Keratinocytes | LAMC2 | ITGB4 | Epithelial cells | -0.1802567 | -0.1092953 | 100 |\n",
       "\n"
      ],
      "text/plain": [
       "  Study EdgeID LCell         Ligand Receptor RCell            S1avg     \n",
       "1 ESCA  462131 Keratinocytes LAMC2  ITGB4    Epithelial cells -0.1802567\n",
       "  med_diff_avg imp\n",
       "1 -0.1092953   100"
      ]
     },
     "metadata": {},
     "output_type": "display_data"
    }
   ],
   "source": [
    "top_edges <- dat %>% dplyr::filter(EdgeID %in% edges) %>% \n",
    "  dplyr::select(Study, EdgeID, LCell, Ligand, Receptor, RCell, S1, med_diff) %>% \n",
    "  dplyr::group_by(Study, EdgeID, LCell, Ligand, Receptor, RCell) %>% \n",
    "  dplyr::summarize(S1avg = mean(S1), med_diff_avg=mean(med_diff)) \n",
    "  \n",
    "top_edges <- dplyr::inner_join(top_edges, varimpmat) \n",
    "colnames(top_edges)[9] <- 'imp'\n",
    "top_edges %>% dplyr::arrange(desc(imp))"
   ]
  },
  {
   "cell_type": "code",
   "execution_count": null,
   "metadata": {},
   "outputs": [],
   "source": []
  }
 ],
 "metadata": {
  "kernelspec": {
   "display_name": "R",
   "language": "R",
   "name": "ir"
  },
  "language_info": {
   "codemirror_mode": "r",
   "file_extension": ".r",
   "mimetype": "text/x-r-source",
   "name": "R",
   "pygments_lexer": "r",
   "version": "3.6.3"
  }
 },
 "nbformat": 4,
 "nbformat_minor": 4
}
