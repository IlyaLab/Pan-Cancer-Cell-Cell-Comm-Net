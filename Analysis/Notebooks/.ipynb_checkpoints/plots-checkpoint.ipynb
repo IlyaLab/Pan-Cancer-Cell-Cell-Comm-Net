{
 "cells": [
  {
   "cell_type": "code",
   "execution_count": 1,
   "metadata": {},
   "outputs": [
    {
     "name": "stderr",
     "output_type": "stream",
     "text": [
      "\n",
      "Attaching package: ‘dplyr’\n",
      "\n",
      "\n",
      "The following objects are masked from ‘package:stats’:\n",
      "\n",
      "    filter, lag\n",
      "\n",
      "\n",
      "The following objects are masked from ‘package:base’:\n",
      "\n",
      "    intersect, setdiff, setequal, union\n",
      "\n",
      "\n",
      "\n",
      "Attaching package: ‘igraph’\n",
      "\n",
      "\n",
      "The following objects are masked from ‘package:dplyr’:\n",
      "\n",
      "    as_data_frame, groups, union\n",
      "\n",
      "\n",
      "The following objects are masked from ‘package:stats’:\n",
      "\n",
      "    decompose, spectrum\n",
      "\n",
      "\n",
      "The following object is masked from ‘package:base’:\n",
      "\n",
      "    union\n",
      "\n",
      "\n",
      "Loading required package: ggplot2\n",
      "\n"
     ]
    }
   ],
   "source": [
    "library(readr)\n",
    "library(stringr)\n",
    "library(dplyr)\n",
    "library(igraph)\n",
    "library(ggraph)"
   ]
  },
  {
   "cell_type": "code",
   "execution_count": 2,
   "metadata": {},
   "outputs": [
    {
     "name": "stderr",
     "output_type": "stream",
     "text": [
      "Parsed with column specification:\n",
      "cols(\n",
      "  Study = \u001b[31mcol_character()\u001b[39m,\n",
      "  EdgeID = \u001b[32mcol_double()\u001b[39m,\n",
      "  LCell = \u001b[31mcol_character()\u001b[39m,\n",
      "  Ligand = \u001b[31mcol_character()\u001b[39m,\n",
      "  Receptor = \u001b[31mcol_character()\u001b[39m,\n",
      "  RCell = \u001b[31mcol_character()\u001b[39m,\n",
      "  S1 = \u001b[32mcol_double()\u001b[39m,\n",
      "  med_diff = \u001b[32mcol_double()\u001b[39m,\n",
      "  AliquotBarcode = \u001b[31mcol_character()\u001b[39m,\n",
      "  PatientBarcode = \u001b[31mcol_character()\u001b[39m,\n",
      "  EdgeWt = \u001b[32mcol_double()\u001b[39m,\n",
      "  Stage = \u001b[32mcol_double()\u001b[39m,\n",
      "  PFI = \u001b[32mcol_double()\u001b[39m\n",
      ")\n",
      "\n"
     ]
    }
   ],
   "source": [
    "result_table <- read_csv(file = '../../Results/manuscript-studies-pfi-test-DWE-weights.csv.gz')"
   ]
  },
  {
   "cell_type": "code",
   "execution_count": 3,
   "metadata": {},
   "outputs": [
    {
     "data": {
      "text/plain": [
       "\n",
       "  COAD   ESCA   LUSC   PAAD   READ   SKCM   STAD \n",
       " 17703  23290 147136   1208    352  25398  55238 "
      ]
     },
     "metadata": {},
     "output_type": "display_data"
    }
   ],
   "source": [
    "table(result_table$Study)"
   ]
  },
  {
   "cell_type": "code",
   "execution_count": 4,
   "metadata": {},
   "outputs": [],
   "source": [
    "result_table$SampleBarcode <- str_sub(result_table$AliquotBarcode, start = 1, end = 15)"
   ]
  },
  {
   "cell_type": "code",
   "execution_count": 5,
   "metadata": {},
   "outputs": [
    {
     "data": {
      "text/html": [
       "<table>\n",
       "<caption>A tibble: 6 × 14</caption>\n",
       "<thead>\n",
       "\t<tr><th scope=col>Study</th><th scope=col>EdgeID</th><th scope=col>LCell</th><th scope=col>Ligand</th><th scope=col>Receptor</th><th scope=col>RCell</th><th scope=col>S1</th><th scope=col>med_diff</th><th scope=col>AliquotBarcode</th><th scope=col>PatientBarcode</th><th scope=col>EdgeWt</th><th scope=col>Stage</th><th scope=col>PFI</th><th scope=col>SampleBarcode</th></tr>\n",
       "\t<tr><th scope=col>&lt;chr&gt;</th><th scope=col>&lt;dbl&gt;</th><th scope=col>&lt;chr&gt;</th><th scope=col>&lt;chr&gt;</th><th scope=col>&lt;chr&gt;</th><th scope=col>&lt;chr&gt;</th><th scope=col>&lt;dbl&gt;</th><th scope=col>&lt;dbl&gt;</th><th scope=col>&lt;chr&gt;</th><th scope=col>&lt;chr&gt;</th><th scope=col>&lt;dbl&gt;</th><th scope=col>&lt;dbl&gt;</th><th scope=col>&lt;dbl&gt;</th><th scope=col>&lt;chr&gt;</th></tr>\n",
       "</thead>\n",
       "<tbody>\n",
       "\t<tr><td>SKCM</td><td>930270</td><td>Preadipocytes </td><td>SFRP1 </td><td>FZD6  </td><td>Osteoblast    </td><td> 0.2743006</td><td> 0.15400849</td><td>TCGA-DA-A960-01A-11R-A37K-07</td><td>TCGA-DA-A960</td><td>0.008969967</td><td>1</td><td>2</td><td>TCGA-DA-A960-01</td></tr>\n",
       "\t<tr><td>SKCM</td><td>925750</td><td>Preadipocytes </td><td>COL5A3</td><td>SDC3  </td><td>Mast cells    </td><td> 0.2949511</td><td> 0.17816280</td><td>TCGA-EB-A4OZ-01A-12R-A266-07</td><td>TCGA-EB-A4OZ</td><td>0.038965212</td><td>2</td><td>2</td><td>TCGA-EB-A4OZ-01</td></tr>\n",
       "\t<tr><td>ESCA</td><td>586540</td><td>Megakaryocytes</td><td>IL1RN </td><td>IL1R2 </td><td>Eosinophils   </td><td>-0.1701334</td><td>-0.11258132</td><td>TCGA-L5-A4OT-01A-11R-A28J-31</td><td>TCGA-L5-A4OT</td><td>0.509381468</td><td>2</td><td>1</td><td>TCGA-L5-A4OT-01</td></tr>\n",
       "\t<tr><td>ESCA</td><td>590462</td><td>Megakaryocytes</td><td>IL1RN </td><td>IL1R2 </td><td>Megakaryocytes</td><td>-0.1730363</td><td>-0.11928949</td><td>TCGA-L5-A8NR-01A-11R-A37I-31</td><td>TCGA-L5-A8NR</td><td>0.126264476</td><td>2</td><td>2</td><td>TCGA-L5-A8NR-01</td></tr>\n",
       "\t<tr><td>SKCM</td><td>925806</td><td>Preadipocytes </td><td>LRPAP1</td><td>SORT1 </td><td>Mast cells    </td><td> 0.2733259</td><td> 0.20182224</td><td>TCGA-FR-A3R1-01A-11R-A239-07</td><td>TCGA-FR-A3R1</td><td>0.280340579</td><td>1</td><td>2</td><td>TCGA-FR-A3R1-01</td></tr>\n",
       "\t<tr><td>COAD</td><td>585007</td><td>Megakaryocytes</td><td>BMP10 </td><td>ACVRL1</td><td>Chondrocytes  </td><td> 0.1714947</td><td> 0.09921214</td><td>TCGA-DM-A285-01A-11R-A16W-07</td><td>TCGA-DM-A285</td><td>0.186627847</td><td>2</td><td>1</td><td>TCGA-DM-A285-01</td></tr>\n",
       "</tbody>\n",
       "</table>\n"
      ],
      "text/latex": [
       "A tibble: 6 × 14\n",
       "\\begin{tabular}{llllllllllllll}\n",
       " Study & EdgeID & LCell & Ligand & Receptor & RCell & S1 & med\\_diff & AliquotBarcode & PatientBarcode & EdgeWt & Stage & PFI & SampleBarcode\\\\\n",
       " <chr> & <dbl> & <chr> & <chr> & <chr> & <chr> & <dbl> & <dbl> & <chr> & <chr> & <dbl> & <dbl> & <dbl> & <chr>\\\\\n",
       "\\hline\n",
       "\t SKCM & 930270 & Preadipocytes  & SFRP1  & FZD6   & Osteoblast     &  0.2743006 &  0.15400849 & TCGA-DA-A960-01A-11R-A37K-07 & TCGA-DA-A960 & 0.008969967 & 1 & 2 & TCGA-DA-A960-01\\\\\n",
       "\t SKCM & 925750 & Preadipocytes  & COL5A3 & SDC3   & Mast cells     &  0.2949511 &  0.17816280 & TCGA-EB-A4OZ-01A-12R-A266-07 & TCGA-EB-A4OZ & 0.038965212 & 2 & 2 & TCGA-EB-A4OZ-01\\\\\n",
       "\t ESCA & 586540 & Megakaryocytes & IL1RN  & IL1R2  & Eosinophils    & -0.1701334 & -0.11258132 & TCGA-L5-A4OT-01A-11R-A28J-31 & TCGA-L5-A4OT & 0.509381468 & 2 & 1 & TCGA-L5-A4OT-01\\\\\n",
       "\t ESCA & 590462 & Megakaryocytes & IL1RN  & IL1R2  & Megakaryocytes & -0.1730363 & -0.11928949 & TCGA-L5-A8NR-01A-11R-A37I-31 & TCGA-L5-A8NR & 0.126264476 & 2 & 2 & TCGA-L5-A8NR-01\\\\\n",
       "\t SKCM & 925806 & Preadipocytes  & LRPAP1 & SORT1  & Mast cells     &  0.2733259 &  0.20182224 & TCGA-FR-A3R1-01A-11R-A239-07 & TCGA-FR-A3R1 & 0.280340579 & 1 & 2 & TCGA-FR-A3R1-01\\\\\n",
       "\t COAD & 585007 & Megakaryocytes & BMP10  & ACVRL1 & Chondrocytes   &  0.1714947 &  0.09921214 & TCGA-DM-A285-01A-11R-A16W-07 & TCGA-DM-A285 & 0.186627847 & 2 & 1 & TCGA-DM-A285-01\\\\\n",
       "\\end{tabular}\n"
      ],
      "text/markdown": [
       "\n",
       "A tibble: 6 × 14\n",
       "\n",
       "| Study &lt;chr&gt; | EdgeID &lt;dbl&gt; | LCell &lt;chr&gt; | Ligand &lt;chr&gt; | Receptor &lt;chr&gt; | RCell &lt;chr&gt; | S1 &lt;dbl&gt; | med_diff &lt;dbl&gt; | AliquotBarcode &lt;chr&gt; | PatientBarcode &lt;chr&gt; | EdgeWt &lt;dbl&gt; | Stage &lt;dbl&gt; | PFI &lt;dbl&gt; | SampleBarcode &lt;chr&gt; |\n",
       "|---|---|---|---|---|---|---|---|---|---|---|---|---|---|\n",
       "| SKCM | 930270 | Preadipocytes  | SFRP1  | FZD6   | Osteoblast     |  0.2743006 |  0.15400849 | TCGA-DA-A960-01A-11R-A37K-07 | TCGA-DA-A960 | 0.008969967 | 1 | 2 | TCGA-DA-A960-01 |\n",
       "| SKCM | 925750 | Preadipocytes  | COL5A3 | SDC3   | Mast cells     |  0.2949511 |  0.17816280 | TCGA-EB-A4OZ-01A-12R-A266-07 | TCGA-EB-A4OZ | 0.038965212 | 2 | 2 | TCGA-EB-A4OZ-01 |\n",
       "| ESCA | 586540 | Megakaryocytes | IL1RN  | IL1R2  | Eosinophils    | -0.1701334 | -0.11258132 | TCGA-L5-A4OT-01A-11R-A28J-31 | TCGA-L5-A4OT | 0.509381468 | 2 | 1 | TCGA-L5-A4OT-01 |\n",
       "| ESCA | 590462 | Megakaryocytes | IL1RN  | IL1R2  | Megakaryocytes | -0.1730363 | -0.11928949 | TCGA-L5-A8NR-01A-11R-A37I-31 | TCGA-L5-A8NR | 0.126264476 | 2 | 2 | TCGA-L5-A8NR-01 |\n",
       "| SKCM | 925806 | Preadipocytes  | LRPAP1 | SORT1  | Mast cells     |  0.2733259 |  0.20182224 | TCGA-FR-A3R1-01A-11R-A239-07 | TCGA-FR-A3R1 | 0.280340579 | 1 | 2 | TCGA-FR-A3R1-01 |\n",
       "| COAD | 585007 | Megakaryocytes | BMP10  | ACVRL1 | Chondrocytes   |  0.1714947 |  0.09921214 | TCGA-DM-A285-01A-11R-A16W-07 | TCGA-DM-A285 | 0.186627847 | 2 | 1 | TCGA-DM-A285-01 |\n",
       "\n"
      ],
      "text/plain": [
       "  Study EdgeID LCell          Ligand Receptor RCell          S1        \n",
       "1 SKCM  930270 Preadipocytes  SFRP1  FZD6     Osteoblast      0.2743006\n",
       "2 SKCM  925750 Preadipocytes  COL5A3 SDC3     Mast cells      0.2949511\n",
       "3 ESCA  586540 Megakaryocytes IL1RN  IL1R2    Eosinophils    -0.1701334\n",
       "4 ESCA  590462 Megakaryocytes IL1RN  IL1R2    Megakaryocytes -0.1730363\n",
       "5 SKCM  925806 Preadipocytes  LRPAP1 SORT1    Mast cells      0.2733259\n",
       "6 COAD  585007 Megakaryocytes BMP10  ACVRL1   Chondrocytes    0.1714947\n",
       "  med_diff    AliquotBarcode               PatientBarcode EdgeWt      Stage PFI\n",
       "1  0.15400849 TCGA-DA-A960-01A-11R-A37K-07 TCGA-DA-A960   0.008969967 1     2  \n",
       "2  0.17816280 TCGA-EB-A4OZ-01A-12R-A266-07 TCGA-EB-A4OZ   0.038965212 2     2  \n",
       "3 -0.11258132 TCGA-L5-A4OT-01A-11R-A28J-31 TCGA-L5-A4OT   0.509381468 2     1  \n",
       "4 -0.11928949 TCGA-L5-A8NR-01A-11R-A37I-31 TCGA-L5-A8NR   0.126264476 2     2  \n",
       "5  0.20182224 TCGA-FR-A3R1-01A-11R-A239-07 TCGA-FR-A3R1   0.280340579 1     2  \n",
       "6  0.09921214 TCGA-DM-A285-01A-11R-A16W-07 TCGA-DM-A285   0.186627847 2     1  \n",
       "  SampleBarcode  \n",
       "1 TCGA-DA-A960-01\n",
       "2 TCGA-EB-A4OZ-01\n",
       "3 TCGA-L5-A4OT-01\n",
       "4 TCGA-L5-A8NR-01\n",
       "5 TCGA-FR-A3R1-01\n",
       "6 TCGA-DM-A285-01"
      ]
     },
     "metadata": {},
     "output_type": "display_data"
    }
   ],
   "source": [
    "head(result_table)"
   ]
  },
  {
   "cell_type": "code",
   "execution_count": 6,
   "metadata": {},
   "outputs": [
    {
     "name": "stderr",
     "output_type": "stream",
     "text": [
      "Warning message:\n",
      "“Missing column names filled in: 'X1' [1]”\n",
      "Parsed with column specification:\n",
      "cols(\n",
      "  X1 = \u001b[32mcol_double()\u001b[39m,\n",
      "  bcr_patient_barcode = \u001b[31mcol_character()\u001b[39m,\n",
      "  type = \u001b[31mcol_character()\u001b[39m,\n",
      "  PFI.1 = \u001b[32mcol_double()\u001b[39m,\n",
      "  PFI.time.1 = \u001b[32mcol_double()\u001b[39m,\n",
      "  PFI.2 = \u001b[31mcol_character()\u001b[39m,\n",
      "  PFI.time.2 = \u001b[31mcol_character()\u001b[39m,\n",
      "  PFS = \u001b[32mcol_double()\u001b[39m,\n",
      "  PFS.time = \u001b[32mcol_double()\u001b[39m,\n",
      "  DSS_cr = \u001b[31mcol_character()\u001b[39m,\n",
      "  DSS.time.cr = \u001b[31mcol_character()\u001b[39m,\n",
      "  DFI.cr = \u001b[31mcol_character()\u001b[39m,\n",
      "  DFI.time.cr = \u001b[31mcol_character()\u001b[39m,\n",
      "  PFI.cr = \u001b[32mcol_double()\u001b[39m,\n",
      "  PFI.time.cr = \u001b[32mcol_double()\u001b[39m,\n",
      "  PFI.1.cr = \u001b[32mcol_double()\u001b[39m,\n",
      "  PFI.time.1.cr = \u001b[32mcol_double()\u001b[39m,\n",
      "  PFI.2.cr = \u001b[31mcol_character()\u001b[39m,\n",
      "  PFI.time.2.cr = \u001b[31mcol_character()\u001b[39m\n",
      ")\n",
      "\n",
      "Warning message:\n",
      "“1844 parsing failures.\n",
      " row           col expected actual                                                     file\n",
      "1563 PFI.time.1    a double   #N/A '../../Data/pancancer_clinical_extra_endpoints_mmc1.csv'\n",
      "1563 PFS.time      a double   #N/A '../../Data/pancancer_clinical_extra_endpoints_mmc1.csv'\n",
      "1563 PFI.time.cr   a double   #N/A '../../Data/pancancer_clinical_extra_endpoints_mmc1.csv'\n",
      "1563 PFI.time.1.cr a double   #N/A '../../Data/pancancer_clinical_extra_endpoints_mmc1.csv'\n",
      "2029 PFI.time.1    a double   #N/A '../../Data/pancancer_clinical_extra_endpoints_mmc1.csv'\n",
      ".... ............. ........ ...... ........................................................\n",
      "See problems(...) for more details.\n",
      "”\n"
     ]
    }
   ],
   "source": [
    "clin <- read_csv(file = '../../Data/pancancer_clinical_extra_endpoints_mmc1.csv')"
   ]
  },
  {
   "cell_type": "code",
   "execution_count": 7,
   "metadata": {},
   "outputs": [
    {
     "name": "stderr",
     "output_type": "stream",
     "text": [
      "Parsed with column specification:\n",
      "cols(\n",
      "  PatientBarcode = \u001b[31mcol_character()\u001b[39m,\n",
      "  Study = \u001b[31mcol_character()\u001b[39m,\n",
      "  Stage = \u001b[33mcol_logical()\u001b[39m,\n",
      "  PFI = \u001b[32mcol_double()\u001b[39m\n",
      ")\n",
      "\n",
      "Warning message:\n",
      "“2206 parsing failures.\n",
      " row   col           expected actual                                     file\n",
      "6493 Stage 1/0/T/F/TRUE/FALSE      2 '../../Data/Phenotypes_for_S1_Stats.csv'\n",
      "6494 Stage 1/0/T/F/TRUE/FALSE      2 '../../Data/Phenotypes_for_S1_Stats.csv'\n",
      "6495 Stage 1/0/T/F/TRUE/FALSE      2 '../../Data/Phenotypes_for_S1_Stats.csv'\n",
      "6496 Stage 1/0/T/F/TRUE/FALSE      2 '../../Data/Phenotypes_for_S1_Stats.csv'\n",
      "6497 Stage 1/0/T/F/TRUE/FALSE      2 '../../Data/Phenotypes_for_S1_Stats.csv'\n",
      ".... ..... .................. ...... ........................................\n",
      "See problems(...) for more details.\n",
      "”\n"
     ]
    }
   ],
   "source": [
    "pheno <- read_csv(file = '../../Data/Phenotypes_for_S1_Stats.csv')"
   ]
  },
  {
   "cell_type": "code",
   "execution_count": 8,
   "metadata": {},
   "outputs": [
    {
     "data": {
      "text/html": [
       "<table>\n",
       "<caption>A tibble: 5 × 4</caption>\n",
       "<thead>\n",
       "\t<tr><th scope=col>PatientBarcode</th><th scope=col>Study</th><th scope=col>Stage</th><th scope=col>PFI</th></tr>\n",
       "\t<tr><th scope=col>&lt;chr&gt;</th><th scope=col>&lt;chr&gt;</th><th scope=col>&lt;lgl&gt;</th><th scope=col>&lt;dbl&gt;</th></tr>\n",
       "</thead>\n",
       "<tbody>\n",
       "\t<tr><td>TCGA-04-1357</td><td>OV  </td><td>NA</td><td>NA</td></tr>\n",
       "\t<tr><td>TCGA-28-2510</td><td>GBM </td><td>NA</td><td>NA</td></tr>\n",
       "\t<tr><td>TCGA-R8-A6YH</td><td>LGG </td><td>NA</td><td>NA</td></tr>\n",
       "\t<tr><td>TCGA-CS-5390</td><td>LGG </td><td>NA</td><td>NA</td></tr>\n",
       "\t<tr><td>TCGA-BH-A0B2</td><td>BRCA</td><td>NA</td><td>NA</td></tr>\n",
       "</tbody>\n",
       "</table>\n"
      ],
      "text/latex": [
       "A tibble: 5 × 4\n",
       "\\begin{tabular}{llll}\n",
       " PatientBarcode & Study & Stage & PFI\\\\\n",
       " <chr> & <chr> & <lgl> & <dbl>\\\\\n",
       "\\hline\n",
       "\t TCGA-04-1357 & OV   & NA & NA\\\\\n",
       "\t TCGA-28-2510 & GBM  & NA & NA\\\\\n",
       "\t TCGA-R8-A6YH & LGG  & NA & NA\\\\\n",
       "\t TCGA-CS-5390 & LGG  & NA & NA\\\\\n",
       "\t TCGA-BH-A0B2 & BRCA & NA & NA\\\\\n",
       "\\end{tabular}\n"
      ],
      "text/markdown": [
       "\n",
       "A tibble: 5 × 4\n",
       "\n",
       "| PatientBarcode &lt;chr&gt; | Study &lt;chr&gt; | Stage &lt;lgl&gt; | PFI &lt;dbl&gt; |\n",
       "|---|---|---|---|\n",
       "| TCGA-04-1357 | OV   | NA | NA |\n",
       "| TCGA-28-2510 | GBM  | NA | NA |\n",
       "| TCGA-R8-A6YH | LGG  | NA | NA |\n",
       "| TCGA-CS-5390 | LGG  | NA | NA |\n",
       "| TCGA-BH-A0B2 | BRCA | NA | NA |\n",
       "\n"
      ],
      "text/plain": [
       "  PatientBarcode Study Stage PFI\n",
       "1 TCGA-04-1357   OV    NA    NA \n",
       "2 TCGA-28-2510   GBM   NA    NA \n",
       "3 TCGA-R8-A6YH   LGG   NA    NA \n",
       "4 TCGA-CS-5390   LGG   NA    NA \n",
       "5 TCGA-BH-A0B2   BRCA  NA    NA "
      ]
     },
     "metadata": {},
     "output_type": "display_data"
    }
   ],
   "source": [
    "pheno[1:5,]"
   ]
  },
  {
   "cell_type": "code",
   "execution_count": 9,
   "metadata": {},
   "outputs": [],
   "source": [
    "load('../../Data/accessories_v2.rda')"
   ]
  },
  {
   "cell_type": "code",
   "execution_count": 22,
   "metadata": {},
   "outputs": [
    {
     "name": "stderr",
     "output_type": "stream",
     "text": [
      "Warning message:\n",
      "“Missing column names filled in: 'X1' [1]”\n"
     ]
    },
    {
     "ename": "ERROR",
     "evalue": "Error: Unknown shortcut: u\n",
     "output_type": "error",
     "traceback": [
      "Error: Unknown shortcut: u\nTraceback:\n",
      "1. read_delim(\"../../Data/xCell_TCGA_RSEM.txt\", delim = \"\\t\", col_types = \"numeric\")",
      "2. read_delimited(file, tokenizer, col_names = col_names, col_types = col_types, \n .     locale = locale, skip = skip, skip_empty_rows = skip_empty_rows, \n .     comment = comment, n_max = n_max, guess_max = guess_max, \n .     progress = progress)",
      "3. col_spec_standardise(data, skip = skip, skip_empty_rows = skip_empty_rows, \n .     comment = comment, guess_max = guess_max, col_names = col_names, \n .     col_types = col_types, tokenizer = tokenizer, locale = locale)",
      "4. as.col_spec(col_types)",
      "5. as.col_spec.character(col_types)",
      "6. col_spec(lapply(letters, col_concise), col_guess())",
      "7. stopifnot(is.list(col_types))",
      "8. lapply(letters, col_concise)",
      "9. FUN(X[[i]], ...)",
      "10. stop(\"Unknown shortcut: \", x, call. = FALSE)"
     ]
    }
   ],
   "source": [
    "xcell <- read_delim('../../Data/xCell_TCGA_RSEM.txt', delim = '\\t', col_types = 'numeric')"
   ]
  },
  {
   "cell_type": "code",
   "execution_count": 25,
   "metadata": {},
   "outputs": [],
   "source": [
    "xcell <- read.table('../../Data/xCell_TCGA_RSEM.txt', sep = '\\t', header = T)"
   ]
  },
  {
   "cell_type": "code",
   "execution_count": 26,
   "metadata": {},
   "outputs": [
    {
     "data": {
      "text/html": [
       "<table>\n",
       "<caption>A data.frame: 5 × 5</caption>\n",
       "<thead>\n",
       "\t<tr><th></th><th scope=col>X</th><th scope=col>TCGA.V4.A9EE.01</th><th scope=col>TCGA.VD.AA8N.01</th><th scope=col>TCGA.V4.A9EI.01</th><th scope=col>TCGA.VD.AA8O.01</th></tr>\n",
       "\t<tr><th></th><th scope=col>&lt;chr&gt;</th><th scope=col>&lt;dbl&gt;</th><th scope=col>&lt;dbl&gt;</th><th scope=col>&lt;dbl&gt;</th><th scope=col>&lt;dbl&gt;</th></tr>\n",
       "</thead>\n",
       "<tbody>\n",
       "\t<tr><th scope=row>1</th><td>aDC       </td><td> 5.877e-02</td><td> 1.138e-01</td><td> 4.302e-02</td><td> 8.711e-02</td></tr>\n",
       "\t<tr><th scope=row>2</th><td>Adipocytes</td><td> 1.375e-19</td><td> 3.926e-03</td><td> 3.663e-21</td><td>-2.367e-21</td></tr>\n",
       "\t<tr><th scope=row>3</th><td>Astrocytes</td><td>-1.621e-17</td><td>-2.176e-17</td><td>-1.587e-17</td><td>-2.469e-17</td></tr>\n",
       "\t<tr><th scope=row>4</th><td>B-cells   </td><td> 4.805e-02</td><td> 3.549e-02</td><td> 2.253e-02</td><td> 3.487e-02</td></tr>\n",
       "\t<tr><th scope=row>5</th><td>Basophils </td><td> 6.992e-02</td><td> 2.074e-01</td><td> 1.173e-01</td><td> 1.978e-01</td></tr>\n",
       "</tbody>\n",
       "</table>\n"
      ],
      "text/latex": [
       "A data.frame: 5 × 5\n",
       "\\begin{tabular}{r|lllll}\n",
       "  & X & TCGA.V4.A9EE.01 & TCGA.VD.AA8N.01 & TCGA.V4.A9EI.01 & TCGA.VD.AA8O.01\\\\\n",
       "  & <chr> & <dbl> & <dbl> & <dbl> & <dbl>\\\\\n",
       "\\hline\n",
       "\t1 & aDC        &  5.877e-02 &  1.138e-01 &  4.302e-02 &  8.711e-02\\\\\n",
       "\t2 & Adipocytes &  1.375e-19 &  3.926e-03 &  3.663e-21 & -2.367e-21\\\\\n",
       "\t3 & Astrocytes & -1.621e-17 & -2.176e-17 & -1.587e-17 & -2.469e-17\\\\\n",
       "\t4 & B-cells    &  4.805e-02 &  3.549e-02 &  2.253e-02 &  3.487e-02\\\\\n",
       "\t5 & Basophils  &  6.992e-02 &  2.074e-01 &  1.173e-01 &  1.978e-01\\\\\n",
       "\\end{tabular}\n"
      ],
      "text/markdown": [
       "\n",
       "A data.frame: 5 × 5\n",
       "\n",
       "| <!--/--> | X &lt;chr&gt; | TCGA.V4.A9EE.01 &lt;dbl&gt; | TCGA.VD.AA8N.01 &lt;dbl&gt; | TCGA.V4.A9EI.01 &lt;dbl&gt; | TCGA.VD.AA8O.01 &lt;dbl&gt; |\n",
       "|---|---|---|---|---|---|\n",
       "| 1 | aDC        |  5.877e-02 |  1.138e-01 |  4.302e-02 |  8.711e-02 |\n",
       "| 2 | Adipocytes |  1.375e-19 |  3.926e-03 |  3.663e-21 | -2.367e-21 |\n",
       "| 3 | Astrocytes | -1.621e-17 | -2.176e-17 | -1.587e-17 | -2.469e-17 |\n",
       "| 4 | B-cells    |  4.805e-02 |  3.549e-02 |  2.253e-02 |  3.487e-02 |\n",
       "| 5 | Basophils  |  6.992e-02 |  2.074e-01 |  1.173e-01 |  1.978e-01 |\n",
       "\n"
      ],
      "text/plain": [
       "  X          TCGA.V4.A9EE.01 TCGA.VD.AA8N.01 TCGA.V4.A9EI.01 TCGA.VD.AA8O.01\n",
       "1 aDC         5.877e-02       1.138e-01       4.302e-02       8.711e-02     \n",
       "2 Adipocytes  1.375e-19       3.926e-03       3.663e-21      -2.367e-21     \n",
       "3 Astrocytes -1.621e-17      -2.176e-17      -1.587e-17      -2.469e-17     \n",
       "4 B-cells     4.805e-02       3.549e-02       2.253e-02       3.487e-02     \n",
       "5 Basophils   6.992e-02       2.074e-01       1.173e-01       1.978e-01     "
      ]
     },
     "metadata": {},
     "output_type": "display_data"
    }
   ],
   "source": [
    "xcell[1:5,1:5]"
   ]
  },
  {
   "cell_type": "code",
   "execution_count": 27,
   "metadata": {},
   "outputs": [],
   "source": [
    "sampleids <- colnames(xcell)[-1]\n",
    "cellids <- xcell$X"
   ]
  },
  {
   "cell_type": "code",
   "execution_count": 28,
   "metadata": {},
   "outputs": [
    {
     "data": {
      "text/html": [
       "<style>\n",
       ".dl-inline {width: auto; margin:0; padding: 0}\n",
       ".dl-inline>dt, .dl-inline>dd {float: none; width: auto; display: inline-block}\n",
       ".dl-inline>dt::after {content: \":\\0020\"; padding-right: .5ex}\n",
       ".dl-inline>dt:not(:first-of-type) {padding-left: .5ex}\n",
       "</style><dl class=dl-inline><dt>TCGA.V4.A9EE.01</dt><dd>'TCGA-V4-A9EE-01'</dd><dt>TCGA.VD.AA8N.01</dt><dd>'TCGA-VD-AA8N-01'</dd><dt>TCGA.V4.A9EI.01</dt><dd>'TCGA-V4-A9EI-01'</dd><dt>TCGA.VD.AA8O.01</dt><dd>'TCGA-VD-AA8O-01'</dd><dt>TCGA.WC.A888.01</dt><dd>'TCGA-WC-A888-01'</dd></dl>\n"
      ],
      "text/latex": [
       "\\begin{description*}\n",
       "\\item[TCGA.V4.A9EE.01] 'TCGA-V4-A9EE-01'\n",
       "\\item[TCGA.VD.AA8N.01] 'TCGA-VD-AA8N-01'\n",
       "\\item[TCGA.V4.A9EI.01] 'TCGA-V4-A9EI-01'\n",
       "\\item[TCGA.VD.AA8O.01] 'TCGA-VD-AA8O-01'\n",
       "\\item[TCGA.WC.A888.01] 'TCGA-WC-A888-01'\n",
       "\\end{description*}\n"
      ],
      "text/markdown": [
       "TCGA.V4.A9EE.01\n",
       ":   'TCGA-V4-A9EE-01'TCGA.VD.AA8N.01\n",
       ":   'TCGA-VD-AA8N-01'TCGA.V4.A9EI.01\n",
       ":   'TCGA-V4-A9EI-01'TCGA.VD.AA8O.01\n",
       ":   'TCGA-VD-AA8O-01'TCGA.WC.A888.01\n",
       ":   'TCGA-WC-A888-01'\n",
       "\n"
      ],
      "text/plain": [
       "  TCGA.V4.A9EE.01   TCGA.VD.AA8N.01   TCGA.V4.A9EI.01   TCGA.VD.AA8O.01 \n",
       "\"TCGA-V4-A9EE-01\" \"TCGA-VD-AA8N-01\" \"TCGA-V4-A9EI-01\" \"TCGA-VD-AA8O-01\" \n",
       "  TCGA.WC.A888.01 \n",
       "\"TCGA-WC-A888-01\" "
      ]
     },
     "metadata": {},
     "output_type": "display_data"
    }
   ],
   "source": [
    "sampleids <- sapply(sampleids, function(a) str_replace_all(a, '\\\\.', '-'))\n",
    "sampleids[1:5]"
   ]
  },
  {
   "cell_type": "code",
   "execution_count": 29,
   "metadata": {},
   "outputs": [
    {
     "data": {
      "text/html": [
       "<style>\n",
       ".list-inline {list-style: none; margin:0; padding: 0}\n",
       ".list-inline>li {display: inline-block}\n",
       ".list-inline>li:not(:last-child)::after {content: \"\\00b7\"; padding: 0 .5ex}\n",
       "</style>\n",
       "<ol class=list-inline><li>'aDC'</li><li>'Adipocytes'</li><li>'Astrocytes'</li><li>'B-cells'</li><li>'Basophils'</li></ol>\n"
      ],
      "text/latex": [
       "\\begin{enumerate*}\n",
       "\\item 'aDC'\n",
       "\\item 'Adipocytes'\n",
       "\\item 'Astrocytes'\n",
       "\\item 'B-cells'\n",
       "\\item 'Basophils'\n",
       "\\end{enumerate*}\n"
      ],
      "text/markdown": [
       "1. 'aDC'\n",
       "2. 'Adipocytes'\n",
       "3. 'Astrocytes'\n",
       "4. 'B-cells'\n",
       "5. 'Basophils'\n",
       "\n",
       "\n"
      ],
      "text/plain": [
       "[1] \"aDC\"        \"Adipocytes\" \"Astrocytes\" \"B-cells\"    \"Basophils\" "
      ]
     },
     "metadata": {},
     "output_type": "display_data"
    }
   ],
   "source": [
    "cellids[1:5]"
   ]
  },
  {
   "cell_type": "code",
   "execution_count": 30,
   "metadata": {},
   "outputs": [
    {
     "data": {
      "text/html": [
       "<table>\n",
       "<caption>A matrix: 5 × 5 of type dbl</caption>\n",
       "<tbody>\n",
       "\t<tr><th scope=row>TCGA.V4.A9EE.01</th><td>0.05877</td><td> 1.375e-19</td><td>-1.621e-17</td><td>0.04805</td><td>0.06992</td></tr>\n",
       "\t<tr><th scope=row>TCGA.VD.AA8N.01</th><td>0.11380</td><td> 3.926e-03</td><td>-2.176e-17</td><td>0.03549</td><td>0.20740</td></tr>\n",
       "\t<tr><th scope=row>TCGA.V4.A9EI.01</th><td>0.04302</td><td> 3.663e-21</td><td>-1.587e-17</td><td>0.02253</td><td>0.11730</td></tr>\n",
       "\t<tr><th scope=row>TCGA.VD.AA8O.01</th><td>0.08711</td><td>-2.367e-21</td><td>-2.469e-17</td><td>0.03487</td><td>0.19780</td></tr>\n",
       "\t<tr><th scope=row>TCGA.WC.A888.01</th><td>0.20790</td><td>-5.244e-20</td><td>-2.434e-17</td><td>0.23040</td><td>0.18430</td></tr>\n",
       "</tbody>\n",
       "</table>\n"
      ],
      "text/latex": [
       "A matrix: 5 × 5 of type dbl\n",
       "\\begin{tabular}{r|lllll}\n",
       "\tTCGA.V4.A9EE.01 & 0.05877 &  1.375e-19 & -1.621e-17 & 0.04805 & 0.06992\\\\\n",
       "\tTCGA.VD.AA8N.01 & 0.11380 &  3.926e-03 & -2.176e-17 & 0.03549 & 0.20740\\\\\n",
       "\tTCGA.V4.A9EI.01 & 0.04302 &  3.663e-21 & -1.587e-17 & 0.02253 & 0.11730\\\\\n",
       "\tTCGA.VD.AA8O.01 & 0.08711 & -2.367e-21 & -2.469e-17 & 0.03487 & 0.19780\\\\\n",
       "\tTCGA.WC.A888.01 & 0.20790 & -5.244e-20 & -2.434e-17 & 0.23040 & 0.18430\\\\\n",
       "\\end{tabular}\n"
      ],
      "text/markdown": [
       "\n",
       "A matrix: 5 × 5 of type dbl\n",
       "\n",
       "| TCGA.V4.A9EE.01 | 0.05877 |  1.375e-19 | -1.621e-17 | 0.04805 | 0.06992 |\n",
       "| TCGA.VD.AA8N.01 | 0.11380 |  3.926e-03 | -2.176e-17 | 0.03549 | 0.20740 |\n",
       "| TCGA.V4.A9EI.01 | 0.04302 |  3.663e-21 | -1.587e-17 | 0.02253 | 0.11730 |\n",
       "| TCGA.VD.AA8O.01 | 0.08711 | -2.367e-21 | -2.469e-17 | 0.03487 | 0.19780 |\n",
       "| TCGA.WC.A888.01 | 0.20790 | -5.244e-20 | -2.434e-17 | 0.23040 | 0.18430 |\n",
       "\n"
      ],
      "text/plain": [
       "                [,1]    [,2]       [,3]       [,4]    [,5]   \n",
       "TCGA.V4.A9EE.01 0.05877  1.375e-19 -1.621e-17 0.04805 0.06992\n",
       "TCGA.VD.AA8N.01 0.11380  3.926e-03 -2.176e-17 0.03549 0.20740\n",
       "TCGA.V4.A9EI.01 0.04302  3.663e-21 -1.587e-17 0.02253 0.11730\n",
       "TCGA.VD.AA8O.01 0.08711 -2.367e-21 -2.469e-17 0.03487 0.19780\n",
       "TCGA.WC.A888.01 0.20790 -5.244e-20 -2.434e-17 0.23040 0.18430"
      ]
     },
     "metadata": {},
     "output_type": "display_data"
    }
   ],
   "source": [
    "txcell <- t(xcell[,-1])\n",
    "txcell[1:5,1:5]"
   ]
  },
  {
   "cell_type": "code",
   "execution_count": 31,
   "metadata": {},
   "outputs": [
    {
     "data": {
      "text/html": [
       "<table>\n",
       "<caption>A matrix: 5 × 5 of type dbl</caption>\n",
       "<tbody>\n",
       "\t<tr><td>0.05877</td><td> 1.375e-19</td><td>-1.621e-17</td><td>0.04805</td><td>0.06992</td></tr>\n",
       "\t<tr><td>0.11380</td><td> 3.926e-03</td><td>-2.176e-17</td><td>0.03549</td><td>0.20740</td></tr>\n",
       "\t<tr><td>0.04302</td><td> 3.663e-21</td><td>-1.587e-17</td><td>0.02253</td><td>0.11730</td></tr>\n",
       "\t<tr><td>0.08711</td><td>-2.367e-21</td><td>-2.469e-17</td><td>0.03487</td><td>0.19780</td></tr>\n",
       "\t<tr><td>0.20790</td><td>-5.244e-20</td><td>-2.434e-17</td><td>0.23040</td><td>0.18430</td></tr>\n",
       "</tbody>\n",
       "</table>\n"
      ],
      "text/latex": [
       "A matrix: 5 × 5 of type dbl\n",
       "\\begin{tabular}{lllll}\n",
       "\t 0.05877 &  1.375e-19 & -1.621e-17 & 0.04805 & 0.06992\\\\\n",
       "\t 0.11380 &  3.926e-03 & -2.176e-17 & 0.03549 & 0.20740\\\\\n",
       "\t 0.04302 &  3.663e-21 & -1.587e-17 & 0.02253 & 0.11730\\\\\n",
       "\t 0.08711 & -2.367e-21 & -2.469e-17 & 0.03487 & 0.19780\\\\\n",
       "\t 0.20790 & -5.244e-20 & -2.434e-17 & 0.23040 & 0.18430\\\\\n",
       "\\end{tabular}\n"
      ],
      "text/markdown": [
       "\n",
       "A matrix: 5 × 5 of type dbl\n",
       "\n",
       "| 0.05877 |  1.375e-19 | -1.621e-17 | 0.04805 | 0.06992 |\n",
       "| 0.11380 |  3.926e-03 | -2.176e-17 | 0.03549 | 0.20740 |\n",
       "| 0.04302 |  3.663e-21 | -1.587e-17 | 0.02253 | 0.11730 |\n",
       "| 0.08711 | -2.367e-21 | -2.469e-17 | 0.03487 | 0.19780 |\n",
       "| 0.20790 | -5.244e-20 | -2.434e-17 | 0.23040 | 0.18430 |\n",
       "\n"
      ],
      "text/plain": [
       "     [,1]    [,2]       [,3]       [,4]    [,5]   \n",
       "[1,] 0.05877  1.375e-19 -1.621e-17 0.04805 0.06992\n",
       "[2,] 0.11380  3.926e-03 -2.176e-17 0.03549 0.20740\n",
       "[3,] 0.04302  3.663e-21 -1.587e-17 0.02253 0.11730\n",
       "[4,] 0.08711 -2.367e-21 -2.469e-17 0.03487 0.19780\n",
       "[5,] 0.20790 -5.244e-20 -2.434e-17 0.23040 0.18430"
      ]
     },
     "metadata": {},
     "output_type": "display_data"
    }
   ],
   "source": [
    "txcell <- t(xcell[,-1])\n",
    "txcell <- apply(txcell, 2, as.numeric)\n",
    "txcell[1:5,1:5]"
   ]
  },
  {
   "cell_type": "code",
   "execution_count": 32,
   "metadata": {},
   "outputs": [
    {
     "data": {
      "text/html": [
       "<style>\n",
       ".list-inline {list-style: none; margin:0; padding: 0}\n",
       ".list-inline>li {display: inline-block}\n",
       ".list-inline>li:not(:last-child)::after {content: \"\\00b7\"; padding: 0 .5ex}\n",
       "</style>\n",
       "<ol class=list-inline><li>9947</li><li>64</li></ol>\n"
      ],
      "text/latex": [
       "\\begin{enumerate*}\n",
       "\\item 9947\n",
       "\\item 64\n",
       "\\end{enumerate*}\n"
      ],
      "text/markdown": [
       "1. 9947\n",
       "2. 64\n",
       "\n",
       "\n"
      ],
      "text/plain": [
       "[1] 9947   64"
      ]
     },
     "metadata": {},
     "output_type": "display_data"
    }
   ],
   "source": [
    "dim(txcell)"
   ]
  },
  {
   "cell_type": "code",
   "execution_count": 33,
   "metadata": {},
   "outputs": [
    {
     "data": {
      "text/html": [
       "<table>\n",
       "<caption>A matrix: 5 × 5 of type dbl</caption>\n",
       "<thead>\n",
       "\t<tr><th></th><th scope=col>aDC</th><th scope=col>Adipocytes</th><th scope=col>Astrocytes</th><th scope=col>B-cells</th><th scope=col>Basophils</th></tr>\n",
       "</thead>\n",
       "<tbody>\n",
       "\t<tr><th scope=row>TCGA-V4-A9EE-01</th><td>0.05877</td><td> 1.375e-19</td><td>-1.621e-17</td><td>0.04805</td><td>0.06992</td></tr>\n",
       "\t<tr><th scope=row>TCGA-VD-AA8N-01</th><td>0.11380</td><td> 3.926e-03</td><td>-2.176e-17</td><td>0.03549</td><td>0.20740</td></tr>\n",
       "\t<tr><th scope=row>TCGA-V4-A9EI-01</th><td>0.04302</td><td> 3.663e-21</td><td>-1.587e-17</td><td>0.02253</td><td>0.11730</td></tr>\n",
       "\t<tr><th scope=row>TCGA-VD-AA8O-01</th><td>0.08711</td><td>-2.367e-21</td><td>-2.469e-17</td><td>0.03487</td><td>0.19780</td></tr>\n",
       "\t<tr><th scope=row>TCGA-WC-A888-01</th><td>0.20790</td><td>-5.244e-20</td><td>-2.434e-17</td><td>0.23040</td><td>0.18430</td></tr>\n",
       "</tbody>\n",
       "</table>\n"
      ],
      "text/latex": [
       "A matrix: 5 × 5 of type dbl\n",
       "\\begin{tabular}{r|lllll}\n",
       "  & aDC & Adipocytes & Astrocytes & B-cells & Basophils\\\\\n",
       "\\hline\n",
       "\tTCGA-V4-A9EE-01 & 0.05877 &  1.375e-19 & -1.621e-17 & 0.04805 & 0.06992\\\\\n",
       "\tTCGA-VD-AA8N-01 & 0.11380 &  3.926e-03 & -2.176e-17 & 0.03549 & 0.20740\\\\\n",
       "\tTCGA-V4-A9EI-01 & 0.04302 &  3.663e-21 & -1.587e-17 & 0.02253 & 0.11730\\\\\n",
       "\tTCGA-VD-AA8O-01 & 0.08711 & -2.367e-21 & -2.469e-17 & 0.03487 & 0.19780\\\\\n",
       "\tTCGA-WC-A888-01 & 0.20790 & -5.244e-20 & -2.434e-17 & 0.23040 & 0.18430\\\\\n",
       "\\end{tabular}\n"
      ],
      "text/markdown": [
       "\n",
       "A matrix: 5 × 5 of type dbl\n",
       "\n",
       "| <!--/--> | aDC | Adipocytes | Astrocytes | B-cells | Basophils |\n",
       "|---|---|---|---|---|---|\n",
       "| TCGA-V4-A9EE-01 | 0.05877 |  1.375e-19 | -1.621e-17 | 0.04805 | 0.06992 |\n",
       "| TCGA-VD-AA8N-01 | 0.11380 |  3.926e-03 | -2.176e-17 | 0.03549 | 0.20740 |\n",
       "| TCGA-V4-A9EI-01 | 0.04302 |  3.663e-21 | -1.587e-17 | 0.02253 | 0.11730 |\n",
       "| TCGA-VD-AA8O-01 | 0.08711 | -2.367e-21 | -2.469e-17 | 0.03487 | 0.19780 |\n",
       "| TCGA-WC-A888-01 | 0.20790 | -5.244e-20 | -2.434e-17 | 0.23040 | 0.18430 |\n",
       "\n"
      ],
      "text/plain": [
       "                aDC     Adipocytes Astrocytes B-cells Basophils\n",
       "TCGA-V4-A9EE-01 0.05877  1.375e-19 -1.621e-17 0.04805 0.06992  \n",
       "TCGA-VD-AA8N-01 0.11380  3.926e-03 -2.176e-17 0.03549 0.20740  \n",
       "TCGA-V4-A9EI-01 0.04302  3.663e-21 -1.587e-17 0.02253 0.11730  \n",
       "TCGA-VD-AA8O-01 0.08711 -2.367e-21 -2.469e-17 0.03487 0.19780  \n",
       "TCGA-WC-A888-01 0.20790 -5.244e-20 -2.434e-17 0.23040 0.18430  "
      ]
     },
     "metadata": {},
     "output_type": "display_data"
    }
   ],
   "source": [
    "rownames(txcell) <- sampleids\n",
    "colnames(txcell) <- cellids\n",
    "txcell[1:5,1:5]"
   ]
  },
  {
   "cell_type": "code",
   "execution_count": null,
   "metadata": {},
   "outputs": [],
   "source": []
  },
  {
   "cell_type": "code",
   "execution_count": null,
   "metadata": {},
   "outputs": [],
   "source": []
  },
  {
   "cell_type": "code",
   "execution_count": 34,
   "metadata": {},
   "outputs": [
    {
     "data": {
      "text/html": [
       "<table>\n",
       "<caption>A data.frame: 5 × 5</caption>\n",
       "<thead>\n",
       "\t<tr><th></th><th scope=col>SampleBarcode</th><th scope=col>aDC</th><th scope=col>Adipocytes</th><th scope=col>Astrocytes</th><th scope=col>B-cells</th></tr>\n",
       "\t<tr><th></th><th scope=col>&lt;chr&gt;</th><th scope=col>&lt;dbl&gt;</th><th scope=col>&lt;dbl&gt;</th><th scope=col>&lt;dbl&gt;</th><th scope=col>&lt;dbl&gt;</th></tr>\n",
       "</thead>\n",
       "<tbody>\n",
       "\t<tr><th scope=row>TCGA.V4.A9EE.01</th><td>TCGA-V4-A9EE-01</td><td>0.05877</td><td> 1.375e-19</td><td>-1.621e-17</td><td>0.04805</td></tr>\n",
       "\t<tr><th scope=row>TCGA.VD.AA8N.01</th><td>TCGA-VD-AA8N-01</td><td>0.11380</td><td> 3.926e-03</td><td>-2.176e-17</td><td>0.03549</td></tr>\n",
       "\t<tr><th scope=row>TCGA.V4.A9EI.01</th><td>TCGA-V4-A9EI-01</td><td>0.04302</td><td> 3.663e-21</td><td>-1.587e-17</td><td>0.02253</td></tr>\n",
       "\t<tr><th scope=row>TCGA.VD.AA8O.01</th><td>TCGA-VD-AA8O-01</td><td>0.08711</td><td>-2.367e-21</td><td>-2.469e-17</td><td>0.03487</td></tr>\n",
       "\t<tr><th scope=row>TCGA.WC.A888.01</th><td>TCGA-WC-A888-01</td><td>0.20790</td><td>-5.244e-20</td><td>-2.434e-17</td><td>0.23040</td></tr>\n",
       "</tbody>\n",
       "</table>\n"
      ],
      "text/latex": [
       "A data.frame: 5 × 5\n",
       "\\begin{tabular}{r|lllll}\n",
       "  & SampleBarcode & aDC & Adipocytes & Astrocytes & B-cells\\\\\n",
       "  & <chr> & <dbl> & <dbl> & <dbl> & <dbl>\\\\\n",
       "\\hline\n",
       "\tTCGA.V4.A9EE.01 & TCGA-V4-A9EE-01 & 0.05877 &  1.375e-19 & -1.621e-17 & 0.04805\\\\\n",
       "\tTCGA.VD.AA8N.01 & TCGA-VD-AA8N-01 & 0.11380 &  3.926e-03 & -2.176e-17 & 0.03549\\\\\n",
       "\tTCGA.V4.A9EI.01 & TCGA-V4-A9EI-01 & 0.04302 &  3.663e-21 & -1.587e-17 & 0.02253\\\\\n",
       "\tTCGA.VD.AA8O.01 & TCGA-VD-AA8O-01 & 0.08711 & -2.367e-21 & -2.469e-17 & 0.03487\\\\\n",
       "\tTCGA.WC.A888.01 & TCGA-WC-A888-01 & 0.20790 & -5.244e-20 & -2.434e-17 & 0.23040\\\\\n",
       "\\end{tabular}\n"
      ],
      "text/markdown": [
       "\n",
       "A data.frame: 5 × 5\n",
       "\n",
       "| <!--/--> | SampleBarcode &lt;chr&gt; | aDC &lt;dbl&gt; | Adipocytes &lt;dbl&gt; | Astrocytes &lt;dbl&gt; | B-cells &lt;dbl&gt; |\n",
       "|---|---|---|---|---|---|\n",
       "| TCGA.V4.A9EE.01 | TCGA-V4-A9EE-01 | 0.05877 |  1.375e-19 | -1.621e-17 | 0.04805 |\n",
       "| TCGA.VD.AA8N.01 | TCGA-VD-AA8N-01 | 0.11380 |  3.926e-03 | -2.176e-17 | 0.03549 |\n",
       "| TCGA.V4.A9EI.01 | TCGA-V4-A9EI-01 | 0.04302 |  3.663e-21 | -1.587e-17 | 0.02253 |\n",
       "| TCGA.VD.AA8O.01 | TCGA-VD-AA8O-01 | 0.08711 | -2.367e-21 | -2.469e-17 | 0.03487 |\n",
       "| TCGA.WC.A888.01 | TCGA-WC-A888-01 | 0.20790 | -5.244e-20 | -2.434e-17 | 0.23040 |\n",
       "\n"
      ],
      "text/plain": [
       "                SampleBarcode   aDC     Adipocytes Astrocytes B-cells\n",
       "TCGA.V4.A9EE.01 TCGA-V4-A9EE-01 0.05877  1.375e-19 -1.621e-17 0.04805\n",
       "TCGA.VD.AA8N.01 TCGA-VD-AA8N-01 0.11380  3.926e-03 -2.176e-17 0.03549\n",
       "TCGA.V4.A9EI.01 TCGA-V4-A9EI-01 0.04302  3.663e-21 -1.587e-17 0.02253\n",
       "TCGA.VD.AA8O.01 TCGA-VD-AA8O-01 0.08711 -2.367e-21 -2.469e-17 0.03487\n",
       "TCGA.WC.A888.01 TCGA-WC-A888-01 0.20790 -5.244e-20 -2.434e-17 0.23040"
      ]
     },
     "metadata": {},
     "output_type": "display_data"
    }
   ],
   "source": [
    "dfxcell <- cbind( data.frame(SampleBarcode=rownames(txcell)), as.data.frame(txcell) )\n",
    "dfxcell[1:5,1:5]\n"
   ]
  },
  {
   "cell_type": "code",
   "execution_count": 35,
   "metadata": {},
   "outputs": [
    {
     "name": "stderr",
     "output_type": "stream",
     "text": [
      "Joining, by = \"SampleBarcode\"\n",
      "\n"
     ]
    }
   ],
   "source": [
    "df <- inner_join(dfxcell, result_table) %>% filter(Study == 'STAD' | Study == 'ESCA')"
   ]
  },
  {
   "cell_type": "code",
   "execution_count": 36,
   "metadata": {},
   "outputs": [
    {
     "data": {
      "text/html": [
       "<table>\n",
       "<caption>A data.frame: 6 × 78</caption>\n",
       "<thead>\n",
       "\t<tr><th></th><th scope=col>SampleBarcode</th><th scope=col>aDC</th><th scope=col>Adipocytes</th><th scope=col>Astrocytes</th><th scope=col>B-cells</th><th scope=col>Basophils</th><th scope=col>CD4+ memory T-cells</th><th scope=col>CD4+ naive T-cells</th><th scope=col>CD4+ T-cells</th><th scope=col>CD4+ Tcm</th><th scope=col>⋯</th><th scope=col>Ligand</th><th scope=col>Receptor</th><th scope=col>RCell</th><th scope=col>S1</th><th scope=col>med_diff</th><th scope=col>AliquotBarcode</th><th scope=col>PatientBarcode</th><th scope=col>EdgeWt</th><th scope=col>Stage</th><th scope=col>PFI</th></tr>\n",
       "\t<tr><th></th><th scope=col>&lt;chr&gt;</th><th scope=col>&lt;dbl&gt;</th><th scope=col>&lt;dbl&gt;</th><th scope=col>&lt;dbl&gt;</th><th scope=col>&lt;dbl&gt;</th><th scope=col>&lt;dbl&gt;</th><th scope=col>&lt;dbl&gt;</th><th scope=col>&lt;dbl&gt;</th><th scope=col>&lt;dbl&gt;</th><th scope=col>&lt;dbl&gt;</th><th scope=col>⋯</th><th scope=col>&lt;chr&gt;</th><th scope=col>&lt;chr&gt;</th><th scope=col>&lt;chr&gt;</th><th scope=col>&lt;dbl&gt;</th><th scope=col>&lt;dbl&gt;</th><th scope=col>&lt;chr&gt;</th><th scope=col>&lt;chr&gt;</th><th scope=col>&lt;dbl&gt;</th><th scope=col>&lt;dbl&gt;</th><th scope=col>&lt;dbl&gt;</th></tr>\n",
       "</thead>\n",
       "<tbody>\n",
       "\t<tr><th scope=row>1</th><td>TCGA-CD-5804-01</td><td>0.09617</td><td>0.05806</td><td>0.1168</td><td>0.008939</td><td>-8.684e-19</td><td>0.05781</td><td>0.0391</td><td>3.387e-19</td><td>-4.002e-19</td><td>⋯</td><td>LAMA5 </td><td>ITGA2 </td><td>Preadipocytes</td><td>-0.1341085</td><td>-0.05458281</td><td>TCGA-CD-5804-01A-12R-2055-13</td><td>TCGA-CD-5804</td><td>0.01406555</td><td>NA</td><td>2</td></tr>\n",
       "\t<tr><th scope=row>2</th><td>TCGA-CD-5804-01</td><td>0.09617</td><td>0.05806</td><td>0.1168</td><td>0.008939</td><td>-8.684e-19</td><td>0.05781</td><td>0.0391</td><td>3.387e-19</td><td>-4.002e-19</td><td>⋯</td><td>PROC  </td><td>PROCR </td><td>HSC          </td><td> 0.1367843</td><td> 0.05863951</td><td>TCGA-CD-5804-01A-12R-2055-13</td><td>TCGA-CD-5804</td><td>0.53145444</td><td>NA</td><td>2</td></tr>\n",
       "\t<tr><th scope=row>3</th><td>TCGA-CD-5804-01</td><td>0.09617</td><td>0.05806</td><td>0.1168</td><td>0.008939</td><td>-8.684e-19</td><td>0.05781</td><td>0.0391</td><td>3.387e-19</td><td>-4.002e-19</td><td>⋯</td><td>FARP2 </td><td>PLX3  </td><td>naive B-cells</td><td>-0.1407918</td><td>-0.05892446</td><td>TCGA-CD-5804-01A-12R-2055-13</td><td>TCGA-CD-5804</td><td>0.04718152</td><td>NA</td><td>2</td></tr>\n",
       "\t<tr><th scope=row>4</th><td>TCGA-CD-5804-01</td><td>0.09617</td><td>0.05806</td><td>0.1168</td><td>0.008939</td><td>-8.684e-19</td><td>0.05781</td><td>0.0391</td><td>3.387e-19</td><td>-4.002e-19</td><td>⋯</td><td>GDNF  </td><td>RET   </td><td>Hepatocytes  </td><td> 0.1337881</td><td> 0.04752800</td><td>TCGA-CD-5804-01A-12R-2055-13</td><td>TCGA-CD-5804</td><td>0.00236069</td><td>NA</td><td>2</td></tr>\n",
       "\t<tr><th scope=row>5</th><td>TCGA-CD-5804-01</td><td>0.09617</td><td>0.05806</td><td>0.1168</td><td>0.008939</td><td>-8.684e-19</td><td>0.05781</td><td>0.0391</td><td>3.387e-19</td><td>-4.002e-19</td><td>⋯</td><td>ANGPT1</td><td>ITGB1 </td><td>HSC          </td><td> 0.1386338</td><td> 0.05010896</td><td>TCGA-CD-5804-01A-12R-2055-13</td><td>TCGA-CD-5804</td><td>0.14630163</td><td>NA</td><td>2</td></tr>\n",
       "\t<tr><th scope=row>6</th><td>TCGA-CD-5804-01</td><td>0.09617</td><td>0.05806</td><td>0.1168</td><td>0.008939</td><td>-8.684e-19</td><td>0.05781</td><td>0.0391</td><td>3.387e-19</td><td>-4.002e-19</td><td>⋯</td><td>ADM2  </td><td>CALCRL</td><td>CLP          </td><td> 0.1339065</td><td> 0.04967261</td><td>TCGA-CD-5804-01A-12R-2055-13</td><td>TCGA-CD-5804</td><td>0.34878273</td><td>NA</td><td>2</td></tr>\n",
       "</tbody>\n",
       "</table>\n"
      ],
      "text/latex": [
       "A data.frame: 6 × 78\n",
       "\\begin{tabular}{r|lllllllllllllllllllll}\n",
       "  & SampleBarcode & aDC & Adipocytes & Astrocytes & B-cells & Basophils & CD4+ memory T-cells & CD4+ naive T-cells & CD4+ T-cells & CD4+ Tcm & ⋯ & Ligand & Receptor & RCell & S1 & med\\_diff & AliquotBarcode & PatientBarcode & EdgeWt & Stage & PFI\\\\\n",
       "  & <chr> & <dbl> & <dbl> & <dbl> & <dbl> & <dbl> & <dbl> & <dbl> & <dbl> & <dbl> & ⋯ & <chr> & <chr> & <chr> & <dbl> & <dbl> & <chr> & <chr> & <dbl> & <dbl> & <dbl>\\\\\n",
       "\\hline\n",
       "\t1 & TCGA-CD-5804-01 & 0.09617 & 0.05806 & 0.1168 & 0.008939 & -8.684e-19 & 0.05781 & 0.0391 & 3.387e-19 & -4.002e-19 & ⋯ & LAMA5  & ITGA2  & Preadipocytes & -0.1341085 & -0.05458281 & TCGA-CD-5804-01A-12R-2055-13 & TCGA-CD-5804 & 0.01406555 & NA & 2\\\\\n",
       "\t2 & TCGA-CD-5804-01 & 0.09617 & 0.05806 & 0.1168 & 0.008939 & -8.684e-19 & 0.05781 & 0.0391 & 3.387e-19 & -4.002e-19 & ⋯ & PROC   & PROCR  & HSC           &  0.1367843 &  0.05863951 & TCGA-CD-5804-01A-12R-2055-13 & TCGA-CD-5804 & 0.53145444 & NA & 2\\\\\n",
       "\t3 & TCGA-CD-5804-01 & 0.09617 & 0.05806 & 0.1168 & 0.008939 & -8.684e-19 & 0.05781 & 0.0391 & 3.387e-19 & -4.002e-19 & ⋯ & FARP2  & PLX3   & naive B-cells & -0.1407918 & -0.05892446 & TCGA-CD-5804-01A-12R-2055-13 & TCGA-CD-5804 & 0.04718152 & NA & 2\\\\\n",
       "\t4 & TCGA-CD-5804-01 & 0.09617 & 0.05806 & 0.1168 & 0.008939 & -8.684e-19 & 0.05781 & 0.0391 & 3.387e-19 & -4.002e-19 & ⋯ & GDNF   & RET    & Hepatocytes   &  0.1337881 &  0.04752800 & TCGA-CD-5804-01A-12R-2055-13 & TCGA-CD-5804 & 0.00236069 & NA & 2\\\\\n",
       "\t5 & TCGA-CD-5804-01 & 0.09617 & 0.05806 & 0.1168 & 0.008939 & -8.684e-19 & 0.05781 & 0.0391 & 3.387e-19 & -4.002e-19 & ⋯ & ANGPT1 & ITGB1  & HSC           &  0.1386338 &  0.05010896 & TCGA-CD-5804-01A-12R-2055-13 & TCGA-CD-5804 & 0.14630163 & NA & 2\\\\\n",
       "\t6 & TCGA-CD-5804-01 & 0.09617 & 0.05806 & 0.1168 & 0.008939 & -8.684e-19 & 0.05781 & 0.0391 & 3.387e-19 & -4.002e-19 & ⋯ & ADM2   & CALCRL & CLP           &  0.1339065 &  0.04967261 & TCGA-CD-5804-01A-12R-2055-13 & TCGA-CD-5804 & 0.34878273 & NA & 2\\\\\n",
       "\\end{tabular}\n"
      ],
      "text/markdown": [
       "\n",
       "A data.frame: 6 × 78\n",
       "\n",
       "| <!--/--> | SampleBarcode &lt;chr&gt; | aDC &lt;dbl&gt; | Adipocytes &lt;dbl&gt; | Astrocytes &lt;dbl&gt; | B-cells &lt;dbl&gt; | Basophils &lt;dbl&gt; | CD4+ memory T-cells &lt;dbl&gt; | CD4+ naive T-cells &lt;dbl&gt; | CD4+ T-cells &lt;dbl&gt; | CD4+ Tcm &lt;dbl&gt; | ⋯ ⋯ | Ligand &lt;chr&gt; | Receptor &lt;chr&gt; | RCell &lt;chr&gt; | S1 &lt;dbl&gt; | med_diff &lt;dbl&gt; | AliquotBarcode &lt;chr&gt; | PatientBarcode &lt;chr&gt; | EdgeWt &lt;dbl&gt; | Stage &lt;dbl&gt; | PFI &lt;dbl&gt; |\n",
       "|---|---|---|---|---|---|---|---|---|---|---|---|---|---|---|---|---|---|---|---|---|---|\n",
       "| 1 | TCGA-CD-5804-01 | 0.09617 | 0.05806 | 0.1168 | 0.008939 | -8.684e-19 | 0.05781 | 0.0391 | 3.387e-19 | -4.002e-19 | ⋯ | LAMA5  | ITGA2  | Preadipocytes | -0.1341085 | -0.05458281 | TCGA-CD-5804-01A-12R-2055-13 | TCGA-CD-5804 | 0.01406555 | NA | 2 |\n",
       "| 2 | TCGA-CD-5804-01 | 0.09617 | 0.05806 | 0.1168 | 0.008939 | -8.684e-19 | 0.05781 | 0.0391 | 3.387e-19 | -4.002e-19 | ⋯ | PROC   | PROCR  | HSC           |  0.1367843 |  0.05863951 | TCGA-CD-5804-01A-12R-2055-13 | TCGA-CD-5804 | 0.53145444 | NA | 2 |\n",
       "| 3 | TCGA-CD-5804-01 | 0.09617 | 0.05806 | 0.1168 | 0.008939 | -8.684e-19 | 0.05781 | 0.0391 | 3.387e-19 | -4.002e-19 | ⋯ | FARP2  | PLX3   | naive B-cells | -0.1407918 | -0.05892446 | TCGA-CD-5804-01A-12R-2055-13 | TCGA-CD-5804 | 0.04718152 | NA | 2 |\n",
       "| 4 | TCGA-CD-5804-01 | 0.09617 | 0.05806 | 0.1168 | 0.008939 | -8.684e-19 | 0.05781 | 0.0391 | 3.387e-19 | -4.002e-19 | ⋯ | GDNF   | RET    | Hepatocytes   |  0.1337881 |  0.04752800 | TCGA-CD-5804-01A-12R-2055-13 | TCGA-CD-5804 | 0.00236069 | NA | 2 |\n",
       "| 5 | TCGA-CD-5804-01 | 0.09617 | 0.05806 | 0.1168 | 0.008939 | -8.684e-19 | 0.05781 | 0.0391 | 3.387e-19 | -4.002e-19 | ⋯ | ANGPT1 | ITGB1  | HSC           |  0.1386338 |  0.05010896 | TCGA-CD-5804-01A-12R-2055-13 | TCGA-CD-5804 | 0.14630163 | NA | 2 |\n",
       "| 6 | TCGA-CD-5804-01 | 0.09617 | 0.05806 | 0.1168 | 0.008939 | -8.684e-19 | 0.05781 | 0.0391 | 3.387e-19 | -4.002e-19 | ⋯ | ADM2   | CALCRL | CLP           |  0.1339065 |  0.04967261 | TCGA-CD-5804-01A-12R-2055-13 | TCGA-CD-5804 | 0.34878273 | NA | 2 |\n",
       "\n"
      ],
      "text/plain": [
       "  SampleBarcode   aDC     Adipocytes Astrocytes B-cells  Basophils \n",
       "1 TCGA-CD-5804-01 0.09617 0.05806    0.1168     0.008939 -8.684e-19\n",
       "2 TCGA-CD-5804-01 0.09617 0.05806    0.1168     0.008939 -8.684e-19\n",
       "3 TCGA-CD-5804-01 0.09617 0.05806    0.1168     0.008939 -8.684e-19\n",
       "4 TCGA-CD-5804-01 0.09617 0.05806    0.1168     0.008939 -8.684e-19\n",
       "5 TCGA-CD-5804-01 0.09617 0.05806    0.1168     0.008939 -8.684e-19\n",
       "6 TCGA-CD-5804-01 0.09617 0.05806    0.1168     0.008939 -8.684e-19\n",
       "  CD4+ memory T-cells CD4+ naive T-cells CD4+ T-cells CD4+ Tcm   ⋯ Ligand\n",
       "1 0.05781             0.0391             3.387e-19    -4.002e-19 ⋯ LAMA5 \n",
       "2 0.05781             0.0391             3.387e-19    -4.002e-19 ⋯ PROC  \n",
       "3 0.05781             0.0391             3.387e-19    -4.002e-19 ⋯ FARP2 \n",
       "4 0.05781             0.0391             3.387e-19    -4.002e-19 ⋯ GDNF  \n",
       "5 0.05781             0.0391             3.387e-19    -4.002e-19 ⋯ ANGPT1\n",
       "6 0.05781             0.0391             3.387e-19    -4.002e-19 ⋯ ADM2  \n",
       "  Receptor RCell         S1         med_diff    AliquotBarcode              \n",
       "1 ITGA2    Preadipocytes -0.1341085 -0.05458281 TCGA-CD-5804-01A-12R-2055-13\n",
       "2 PROCR    HSC            0.1367843  0.05863951 TCGA-CD-5804-01A-12R-2055-13\n",
       "3 PLX3     naive B-cells -0.1407918 -0.05892446 TCGA-CD-5804-01A-12R-2055-13\n",
       "4 RET      Hepatocytes    0.1337881  0.04752800 TCGA-CD-5804-01A-12R-2055-13\n",
       "5 ITGB1    HSC            0.1386338  0.05010896 TCGA-CD-5804-01A-12R-2055-13\n",
       "6 CALCRL   CLP            0.1339065  0.04967261 TCGA-CD-5804-01A-12R-2055-13\n",
       "  PatientBarcode EdgeWt     Stage PFI\n",
       "1 TCGA-CD-5804   0.01406555 NA    2  \n",
       "2 TCGA-CD-5804   0.53145444 NA    2  \n",
       "3 TCGA-CD-5804   0.04718152 NA    2  \n",
       "4 TCGA-CD-5804   0.00236069 NA    2  \n",
       "5 TCGA-CD-5804   0.14630163 NA    2  \n",
       "6 TCGA-CD-5804   0.34878273 NA    2  "
      ]
     },
     "metadata": {},
     "output_type": "display_data"
    }
   ],
   "source": [
    "head(df)"
   ]
  },
  {
   "cell_type": "code",
   "execution_count": 37,
   "metadata": {},
   "outputs": [
    {
     "name": "stderr",
     "output_type": "stream",
     "text": [
      "Saving 6.67 x 6.67 in image\n",
      "\n",
      "`geom_smooth()` using formula 'y ~ x'\n",
      "\n",
      "Warning message:\n",
      "“Removed 426 rows containing non-finite values (stat_smooth).”\n",
      "`geom_smooth()` using formula 'y ~ x'\n",
      "\n",
      "Warning message:\n",
      "“Removed 426 rows containing non-finite values (stat_smooth).”\n"
     ]
    },
    {
     "data": {
      "image/png": "[encoded data removed]",
      "text/plain": [
       "plot without title"
      ]
     },
     "metadata": {
      "image/png": {
       "height": 420,
       "width": 420
      }
     },
     "output_type": "display_data"
    }
   ],
   "source": [
    "g1 <- ggplot(data=df, aes(x=PFI, y=Megakaryocytes, color=Study)) + geom_smooth(method = 'lm')\n",
    "ggsave(g1, filename = 'esca_vs_stad_megakaryocytes.png')\n",
    "g1"
   ]
  },
  {
   "cell_type": "code",
   "execution_count": 11,
   "metadata": {},
   "outputs": [
    {
     "name": "stderr",
     "output_type": "stream",
     "text": [
      "Saving 6.67 x 6.67 in image\n",
      "\n"
     ]
    }
   ],
   "source": [
    "result_table2 <- result_table %>% filter(Study == 'STAD') \n",
    "\n",
    "result_table2$Ligand_Producing_Cells <- factor(result_table2$LCell, # Factor levels in increasing order\n",
    "    levels = names(sort(table(result_table2$LCell))))\n",
    "\n",
    "g2 <- ggplot(data=result_table2 , aes(y=Ligand_Producing_Cells)) + geom_bar() + ggtitle('STAD counts of ligand producing cells in DWEs')\n",
    "ggsave(g2, filename = 'STAD_ligand_cells_dwes.png')"
   ]
  },
  {
   "cell_type": "code",
   "execution_count": 12,
   "metadata": {},
   "outputs": [
    {
     "data": {
      "image/png": "[encoded data removed]",
      "text/plain": [
       "plot without title"
      ]
     },
     "metadata": {
      "image/png": {
       "height": 420,
       "width": 420
      }
     },
     "output_type": "display_data"
    }
   ],
   "source": [
    "g2"
   ]
  },
  {
   "cell_type": "code",
   "execution_count": 15,
   "metadata": {},
   "outputs": [
    {
     "name": "stderr",
     "output_type": "stream",
     "text": [
      "Saving 6.67 x 6.67 in image\n",
      "\n"
     ]
    },
    {
     "data": {
      "image/png": "[encoded data removed]",
      "text/plain": [
       "plot without title"
      ]
     },
     "metadata": {
      "image/png": {
       "height": 420,
       "width": 420
      }
     },
     "output_type": "display_data"
    }
   ],
   "source": [
    "result_table2 <- result_table %>% filter(Study == 'STAD') \n",
    "\n",
    "result_table2$Receptor_Producing_Cells <- factor(result_table2$RCell, # Factor levels in increasing order\n",
    "    levels = names(sort(table(result_table2$RCell))))\n",
    "\n",
    "g2 <- ggplot(data=result_table2 , aes(y=Receptor_Producing_Cells)) + geom_bar() + ggtitle('STAD counts of receptor producing cells in DWEs')\n",
    "ggsave(g2, filename = 'STAD_receptor_cells_dwes.png')\n",
    "g2"
   ]
  },
  {
   "cell_type": "code",
   "execution_count": 18,
   "metadata": {},
   "outputs": [
    {
     "name": "stderr",
     "output_type": "stream",
     "text": [
      "Saving 6.67 x 6.67 in image\n",
      "\n"
     ]
    }
   ],
   "source": [
    "result_table2 <- result_table %>% filter(Study == 'STAD') \n",
    "\n",
    "result_table2$Ligands <- factor(result_table2$Ligand, # Factor levels in increasing order\n",
    "    levels = names(sort(table(result_table2$Ligand))))\n",
    "\n",
    "g2 <- ggplot(data=result_table2 , aes(y=Ligands)) + geom_bar() + ggtitle('STAD counts of ligands in DWEs')\n",
    "ggsave(g2, filename = 'STAD_ligands_dwes.png')"
   ]
  },
  {
   "cell_type": "code",
   "execution_count": 19,
   "metadata": {},
   "outputs": [
    {
     "data": {
      "image/png": "[encoded data removed]",
      "text/plain": [
       "plot without title"
      ]
     },
     "metadata": {
      "image/png": {
       "height": 420,
       "width": 420
      }
     },
     "output_type": "display_data"
    }
   ],
   "source": [
    "g2"
   ]
  },
  {
   "cell_type": "code",
   "execution_count": 20,
   "metadata": {},
   "outputs": [
    {
     "name": "stderr",
     "output_type": "stream",
     "text": [
      "Saving 6.67 x 6.67 in image\n",
      "\n"
     ]
    }
   ],
   "source": [
    "result_table2 <- result_table %>% filter(Study == 'STAD') \n",
    "\n",
    "result_table2$Receptors <- factor(result_table2$Receptor, # Factor levels in increasing order\n",
    "    levels = names(sort(table(result_table2$Receptor))))\n",
    "\n",
    "g2 <- ggplot(data=result_table2 , aes(y=Receptors)) + geom_bar() + ggtitle('STAD counts of receptors in DWEs')\n",
    "ggsave(g2, filename = 'STAD_receptors_dwes.png')"
   ]
  },
  {
   "cell_type": "code",
   "execution_count": 21,
   "metadata": {},
   "outputs": [
    {
     "data": {
      "image/png": "[encoded data removed]",
      "text/plain": [
       "plot without title"
      ]
     },
     "metadata": {
      "image/png": {
       "height": 420,
       "width": 420
      }
     },
     "output_type": "display_data"
    }
   ],
   "source": [
    "g2"
   ]
  },
  {
   "cell_type": "code",
   "execution_count": 14,
   "metadata": {},
   "outputs": [
    {
     "data": {
      "text/plain": [
       "\n",
       "  COAD   ESCA   LUSC   PAAD   READ   SKCM   STAD \n",
       " 17703  23290 147136   1208    352  25398  55238 "
      ]
     },
     "metadata": {},
     "output_type": "display_data"
    }
   ],
   "source": [
    "table(result_table$Study)"
   ]
  },
  {
   "cell_type": "code",
   "execution_count": null,
   "metadata": {},
   "outputs": [],
   "source": [
    "result_table %>% filter( RCell == 'GMP') %>% group_by (Study) %>% summarise(meangmp = mean(S1))"
   ]
  },
  {
   "cell_type": "code",
   "execution_count": null,
   "metadata": {},
   "outputs": [],
   "source": [
    "result_table %>% filter( LCell == 'GMP') %>% group_by (Study) %>% summarise(meangmp = mean(S1))"
   ]
  },
  {
   "cell_type": "code",
   "execution_count": null,
   "metadata": {},
   "outputs": [],
   "source": [
    "result_table %>%  group_by( Study ) %>% select(LCell) %>% table() #"
   ]
  },
  {
   "cell_type": "code",
   "execution_count": null,
   "metadata": {},
   "outputs": [],
   "source": [
    "log10(17424)"
   ]
  }
 ],
 "metadata": {
  "kernelspec": {
   "display_name": "R",
   "language": "R",
   "name": "ir"
  },
  "language_info": {
   "codemirror_mode": "r",
   "file_extension": ".r",
   "mimetype": "text/x-r-source",
   "name": "R",
   "pygments_lexer": "r",
   "version": "4.0.2"
  }
 },
 "nbformat": 4,
 "nbformat_minor": 4
}
