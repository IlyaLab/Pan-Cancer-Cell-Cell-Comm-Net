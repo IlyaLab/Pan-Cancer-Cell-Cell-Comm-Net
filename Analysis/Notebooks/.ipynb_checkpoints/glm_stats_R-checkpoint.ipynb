{
 "cells": [
  {
   "cell_type": "code",
   "execution_count": 1,
   "metadata": {
    "scrolled": true
   },
   "outputs": [
    {
     "name": "stderr",
     "output_type": "stream",
     "text": [
      "\n",
      "Attaching package: ‘dplyr’\n",
      "\n",
      "\n",
      "The following objects are masked from ‘package:stats’:\n",
      "\n",
      "    filter, lag\n",
      "\n",
      "\n",
      "The following objects are masked from ‘package:base’:\n",
      "\n",
      "    intersect, setdiff, setequal, union\n",
      "\n",
      "\n",
      "Loading required package: lattice\n",
      "\n",
      "Loading required package: ggplot2\n",
      "\n"
     ]
    }
   ],
   "source": [
    "library(dplyr)\n",
    "library(stringr)\n",
    "library(readr)\n",
    "library(tidyr)\n",
    "library(caret)\n",
    "library(ggplot2)"
   ]
  },
  {
   "cell_type": "code",
   "execution_count": 2,
   "metadata": {},
   "outputs": [
    {
     "name": "stderr",
     "output_type": "stream",
     "text": [
      "Parsed with column specification:\n",
      "cols(\n",
      "  Study = \u001b[31mcol_character()\u001b[39m,\n",
      "  EdgeID = \u001b[32mcol_double()\u001b[39m,\n",
      "  LCell = \u001b[31mcol_character()\u001b[39m,\n",
      "  Ligand = \u001b[31mcol_character()\u001b[39m,\n",
      "  Receptor = \u001b[31mcol_character()\u001b[39m,\n",
      "  RCell = \u001b[31mcol_character()\u001b[39m,\n",
      "  S1 = \u001b[32mcol_double()\u001b[39m,\n",
      "  med_diff = \u001b[32mcol_double()\u001b[39m,\n",
      "  AliquotBarcode = \u001b[31mcol_character()\u001b[39m,\n",
      "  PatientBarcode = \u001b[31mcol_character()\u001b[39m,\n",
      "  EdgeWt = \u001b[32mcol_double()\u001b[39m,\n",
      "  Stage = \u001b[32mcol_double()\u001b[39m,\n",
      "  PFI = \u001b[32mcol_double()\u001b[39m\n",
      ")\n",
      "\n"
     ]
    }
   ],
   "source": [
    "pfidat <- read_csv('../Data/manuscript-studies-pfi-test-DWE-weights.csv.gz')"
   ]
  },
  {
   "cell_type": "code",
   "execution_count": 3,
   "metadata": {},
   "outputs": [
    {
     "data": {
      "text/html": [
       "<table>\n",
       "<caption>A grouped_df: 7 × 2</caption>\n",
       "<thead>\n",
       "\t<tr><th scope=col>Study</th><th scope=col>n</th></tr>\n",
       "\t<tr><th scope=col>&lt;chr&gt;</th><th scope=col>&lt;int&gt;</th></tr>\n",
       "</thead>\n",
       "<tbody>\n",
       "\t<tr><td>COAD</td><td>281</td></tr>\n",
       "\t<tr><td>ESCA</td><td>170</td></tr>\n",
       "\t<tr><td>LUSC</td><td>483</td></tr>\n",
       "\t<tr><td>PAAD</td><td>151</td></tr>\n",
       "\t<tr><td>READ</td><td> 88</td></tr>\n",
       "\t<tr><td>SKCM</td><td>102</td></tr>\n",
       "\t<tr><td>STAD</td><td>389</td></tr>\n",
       "</tbody>\n",
       "</table>\n"
      ],
      "text/latex": [
       "A grouped\\_df: 7 × 2\n",
       "\\begin{tabular}{ll}\n",
       " Study & n\\\\\n",
       " <chr> & <int>\\\\\n",
       "\\hline\n",
       "\t COAD & 281\\\\\n",
       "\t ESCA & 170\\\\\n",
       "\t LUSC & 483\\\\\n",
       "\t PAAD & 151\\\\\n",
       "\t READ &  88\\\\\n",
       "\t SKCM & 102\\\\\n",
       "\t STAD & 389\\\\\n",
       "\\end{tabular}\n"
      ],
      "text/markdown": [
       "\n",
       "A grouped_df: 7 × 2\n",
       "\n",
       "| Study &lt;chr&gt; | n &lt;int&gt; |\n",
       "|---|---|\n",
       "| COAD | 281 |\n",
       "| ESCA | 170 |\n",
       "| LUSC | 483 |\n",
       "| PAAD | 151 |\n",
       "| READ |  88 |\n",
       "| SKCM | 102 |\n",
       "| STAD | 389 |\n",
       "\n"
      ],
      "text/plain": [
       "  Study n  \n",
       "1 COAD  281\n",
       "2 ESCA  170\n",
       "3 LUSC  483\n",
       "4 PAAD  151\n",
       "5 READ   88\n",
       "6 SKCM  102\n",
       "7 STAD  389"
      ]
     },
     "metadata": {},
     "output_type": "display_data"
    }
   ],
   "source": [
    "\n",
    "studies <- pfidat %>% dplyr::select(PatientBarcode, Study) %>% unique() %>% group_by(Study) %>% count()        # now required with changes to dplyr::count()\n",
    "\n",
    "studies  # coad, esca, lusc, paad, read, skcm, stad\n",
    "         # 1     2     3     4     5     6     7\n"
   ]
  },
  {
   "cell_type": "code",
   "execution_count": 4,
   "metadata": {},
   "outputs": [
    {
     "data": {
      "text/html": [
       "<table>\n",
       "<caption>A tibble: 6 × 13</caption>\n",
       "<thead>\n",
       "\t<tr><th scope=col>Study</th><th scope=col>EdgeID</th><th scope=col>LCell</th><th scope=col>Ligand</th><th scope=col>Receptor</th><th scope=col>RCell</th><th scope=col>S1</th><th scope=col>med_diff</th><th scope=col>AliquotBarcode</th><th scope=col>PatientBarcode</th><th scope=col>EdgeWt</th><th scope=col>Stage</th><th scope=col>PFI</th></tr>\n",
       "\t<tr><th scope=col>&lt;chr&gt;</th><th scope=col>&lt;dbl&gt;</th><th scope=col>&lt;chr&gt;</th><th scope=col>&lt;chr&gt;</th><th scope=col>&lt;chr&gt;</th><th scope=col>&lt;chr&gt;</th><th scope=col>&lt;dbl&gt;</th><th scope=col>&lt;dbl&gt;</th><th scope=col>&lt;chr&gt;</th><th scope=col>&lt;chr&gt;</th><th scope=col>&lt;dbl&gt;</th><th scope=col>&lt;dbl&gt;</th><th scope=col>&lt;dbl&gt;</th></tr>\n",
       "</thead>\n",
       "<tbody>\n",
       "\t<tr><td>SKCM</td><td>930270</td><td>Preadipocytes</td><td>SFRP1 </td><td>FZD6  </td><td>Osteoblast </td><td> 0.2743006</td><td> 0.1540085</td><td>TCGA-DA-A960-01A-11R-A37K-07</td><td>TCGA-DA-A960</td><td>0.008969967</td><td>1</td><td>2</td></tr>\n",
       "\t<tr><td>SKCM</td><td>925750</td><td>Preadipocytes</td><td>COL5A3</td><td>SDC3  </td><td>Mast cells </td><td> 0.2949511</td><td> 0.1781628</td><td>TCGA-EB-A4OZ-01A-12R-A266-07</td><td>TCGA-EB-A4OZ</td><td>0.038965212</td><td>2</td><td>2</td></tr>\n",
       "\t<tr><td>SKCM</td><td>925806</td><td>Preadipocytes</td><td>LRPAP1</td><td>SORT1 </td><td>Mast cells </td><td> 0.2733259</td><td> 0.2018222</td><td>TCGA-FR-A3R1-01A-11R-A239-07</td><td>TCGA-FR-A3R1</td><td>0.280340579</td><td>1</td><td>2</td></tr>\n",
       "\t<tr><td>SKCM</td><td>926381</td><td>Preadipocytes</td><td>SEMA5A</td><td>PLXNB3</td><td>Melanocytes</td><td> 0.3791195</td><td> 0.2544220</td><td>TCGA-XV-AAZY-01A-12R-A40A-07</td><td>TCGA-XV-AAZY</td><td>0.632340717</td><td>2</td><td>2</td></tr>\n",
       "\t<tr><td>SKCM</td><td>517677</td><td>Macrophages  </td><td>UBA52 </td><td>NOTCH1</td><td>Osteoblast </td><td>-0.2836101</td><td>-0.1454840</td><td>TCGA-EB-A6R0-01A-12R-A32P-07</td><td>TCGA-EB-A6R0</td><td>0.209877156</td><td>1</td><td>2</td></tr>\n",
       "\t<tr><td>SKCM</td><td>608593</td><td>Melanocytes  </td><td>UBA52 </td><td>NOTCH1</td><td>Osteoblast </td><td>-0.2754347</td><td>-0.2005447</td><td>TCGA-EB-A3XC-01A-11R-A239-07</td><td>TCGA-EB-A3XC</td><td>0.285947478</td><td>1</td><td>1</td></tr>\n",
       "</tbody>\n",
       "</table>\n"
      ],
      "text/latex": [
       "A tibble: 6 × 13\n",
       "\\begin{tabular}{lllllllllllll}\n",
       " Study & EdgeID & LCell & Ligand & Receptor & RCell & S1 & med\\_diff & AliquotBarcode & PatientBarcode & EdgeWt & Stage & PFI\\\\\n",
       " <chr> & <dbl> & <chr> & <chr> & <chr> & <chr> & <dbl> & <dbl> & <chr> & <chr> & <dbl> & <dbl> & <dbl>\\\\\n",
       "\\hline\n",
       "\t SKCM & 930270 & Preadipocytes & SFRP1  & FZD6   & Osteoblast  &  0.2743006 &  0.1540085 & TCGA-DA-A960-01A-11R-A37K-07 & TCGA-DA-A960 & 0.008969967 & 1 & 2\\\\\n",
       "\t SKCM & 925750 & Preadipocytes & COL5A3 & SDC3   & Mast cells  &  0.2949511 &  0.1781628 & TCGA-EB-A4OZ-01A-12R-A266-07 & TCGA-EB-A4OZ & 0.038965212 & 2 & 2\\\\\n",
       "\t SKCM & 925806 & Preadipocytes & LRPAP1 & SORT1  & Mast cells  &  0.2733259 &  0.2018222 & TCGA-FR-A3R1-01A-11R-A239-07 & TCGA-FR-A3R1 & 0.280340579 & 1 & 2\\\\\n",
       "\t SKCM & 926381 & Preadipocytes & SEMA5A & PLXNB3 & Melanocytes &  0.3791195 &  0.2544220 & TCGA-XV-AAZY-01A-12R-A40A-07 & TCGA-XV-AAZY & 0.632340717 & 2 & 2\\\\\n",
       "\t SKCM & 517677 & Macrophages   & UBA52  & NOTCH1 & Osteoblast  & -0.2836101 & -0.1454840 & TCGA-EB-A6R0-01A-12R-A32P-07 & TCGA-EB-A6R0 & 0.209877156 & 1 & 2\\\\\n",
       "\t SKCM & 608593 & Melanocytes   & UBA52  & NOTCH1 & Osteoblast  & -0.2754347 & -0.2005447 & TCGA-EB-A3XC-01A-11R-A239-07 & TCGA-EB-A3XC & 0.285947478 & 1 & 1\\\\\n",
       "\\end{tabular}\n"
      ],
      "text/markdown": [
       "\n",
       "A tibble: 6 × 13\n",
       "\n",
       "| Study &lt;chr&gt; | EdgeID &lt;dbl&gt; | LCell &lt;chr&gt; | Ligand &lt;chr&gt; | Receptor &lt;chr&gt; | RCell &lt;chr&gt; | S1 &lt;dbl&gt; | med_diff &lt;dbl&gt; | AliquotBarcode &lt;chr&gt; | PatientBarcode &lt;chr&gt; | EdgeWt &lt;dbl&gt; | Stage &lt;dbl&gt; | PFI &lt;dbl&gt; |\n",
       "|---|---|---|---|---|---|---|---|---|---|---|---|---|\n",
       "| SKCM | 930270 | Preadipocytes | SFRP1  | FZD6   | Osteoblast  |  0.2743006 |  0.1540085 | TCGA-DA-A960-01A-11R-A37K-07 | TCGA-DA-A960 | 0.008969967 | 1 | 2 |\n",
       "| SKCM | 925750 | Preadipocytes | COL5A3 | SDC3   | Mast cells  |  0.2949511 |  0.1781628 | TCGA-EB-A4OZ-01A-12R-A266-07 | TCGA-EB-A4OZ | 0.038965212 | 2 | 2 |\n",
       "| SKCM | 925806 | Preadipocytes | LRPAP1 | SORT1  | Mast cells  |  0.2733259 |  0.2018222 | TCGA-FR-A3R1-01A-11R-A239-07 | TCGA-FR-A3R1 | 0.280340579 | 1 | 2 |\n",
       "| SKCM | 926381 | Preadipocytes | SEMA5A | PLXNB3 | Melanocytes |  0.3791195 |  0.2544220 | TCGA-XV-AAZY-01A-12R-A40A-07 | TCGA-XV-AAZY | 0.632340717 | 2 | 2 |\n",
       "| SKCM | 517677 | Macrophages   | UBA52  | NOTCH1 | Osteoblast  | -0.2836101 | -0.1454840 | TCGA-EB-A6R0-01A-12R-A32P-07 | TCGA-EB-A6R0 | 0.209877156 | 1 | 2 |\n",
       "| SKCM | 608593 | Melanocytes   | UBA52  | NOTCH1 | Osteoblast  | -0.2754347 | -0.2005447 | TCGA-EB-A3XC-01A-11R-A239-07 | TCGA-EB-A3XC | 0.285947478 | 1 | 1 |\n",
       "\n"
      ],
      "text/plain": [
       "  Study EdgeID LCell         Ligand Receptor RCell       S1         med_diff  \n",
       "1 SKCM  930270 Preadipocytes SFRP1  FZD6     Osteoblast   0.2743006  0.1540085\n",
       "2 SKCM  925750 Preadipocytes COL5A3 SDC3     Mast cells   0.2949511  0.1781628\n",
       "3 SKCM  925806 Preadipocytes LRPAP1 SORT1    Mast cells   0.2733259  0.2018222\n",
       "4 SKCM  926381 Preadipocytes SEMA5A PLXNB3   Melanocytes  0.3791195  0.2544220\n",
       "5 SKCM  517677 Macrophages   UBA52  NOTCH1   Osteoblast  -0.2836101 -0.1454840\n",
       "6 SKCM  608593 Melanocytes   UBA52  NOTCH1   Osteoblast  -0.2754347 -0.2005447\n",
       "  AliquotBarcode               PatientBarcode EdgeWt      Stage PFI\n",
       "1 TCGA-DA-A960-01A-11R-A37K-07 TCGA-DA-A960   0.008969967 1     2  \n",
       "2 TCGA-EB-A4OZ-01A-12R-A266-07 TCGA-EB-A4OZ   0.038965212 2     2  \n",
       "3 TCGA-FR-A3R1-01A-11R-A239-07 TCGA-FR-A3R1   0.280340579 1     2  \n",
       "4 TCGA-XV-AAZY-01A-12R-A40A-07 TCGA-XV-AAZY   0.632340717 2     2  \n",
       "5 TCGA-EB-A6R0-01A-12R-A32P-07 TCGA-EB-A6R0   0.209877156 1     2  \n",
       "6 TCGA-EB-A3XC-01A-11R-A239-07 TCGA-EB-A3XC   0.285947478 1     1  "
      ]
     },
     "metadata": {},
     "output_type": "display_data"
    }
   ],
   "source": [
    "\n",
    "# selecting one tissue type\n",
    "selectedStudy <- studies$Study[6]\n",
    "#\n",
    "dat <- pfidat %>% dplyr::filter(Study == selectedStudy)\n",
    "head(dat)\n"
   ]
  },
  {
   "cell_type": "code",
   "execution_count": 5,
   "metadata": {},
   "outputs": [
    {
     "data": {
      "text/html": [
       "<table>\n",
       "<caption>A grouped_df: 2 × 2</caption>\n",
       "<thead>\n",
       "\t<tr><th scope=col>PFI</th><th scope=col>n</th></tr>\n",
       "\t<tr><th scope=col>&lt;dbl&gt;</th><th scope=col>&lt;int&gt;</th></tr>\n",
       "</thead>\n",
       "<tbody>\n",
       "\t<tr><td>1</td><td>27</td></tr>\n",
       "\t<tr><td>2</td><td>75</td></tr>\n",
       "</tbody>\n",
       "</table>\n"
      ],
      "text/latex": [
       "A grouped\\_df: 2 × 2\n",
       "\\begin{tabular}{ll}\n",
       " PFI & n\\\\\n",
       " <dbl> & <int>\\\\\n",
       "\\hline\n",
       "\t 1 & 27\\\\\n",
       "\t 2 & 75\\\\\n",
       "\\end{tabular}\n"
      ],
      "text/markdown": [
       "\n",
       "A grouped_df: 2 × 2\n",
       "\n",
       "| PFI &lt;dbl&gt; | n &lt;int&gt; |\n",
       "|---|---|\n",
       "| 1 | 27 |\n",
       "| 2 | 75 |\n",
       "\n"
      ],
      "text/plain": [
       "  PFI n \n",
       "1 1   27\n",
       "2 2   75"
      ]
     },
     "metadata": {},
     "output_type": "display_data"
    }
   ],
   "source": [
    "\n",
    "dat %>% dplyr::select(PatientBarcode, PFI) %>% unique() %>% group_by(PFI) %>% count()        # now required with changes to dplyr::count()\n"
   ]
  },
  {
   "cell_type": "code",
   "execution_count": 6,
   "metadata": {},
   "outputs": [
    {
     "data": {
      "text/html": [
       "<style>\n",
       ".list-inline {list-style: none; margin:0; padding: 0}\n",
       ".list-inline>li {display: inline-block}\n",
       ".list-inline>li:not(:last-child)::after {content: \"\\00b7\"; padding: 0 .5ex}\n",
       "</style>\n",
       "<ol class=list-inline><li>102</li><li>250</li></ol>\n"
      ],
      "text/latex": [
       "\\begin{enumerate*}\n",
       "\\item 102\n",
       "\\item 250\n",
       "\\end{enumerate*}\n"
      ],
      "text/markdown": [
       "1. 102\n",
       "2. 250\n",
       "\n",
       "\n"
      ],
      "text/plain": [
       "[1] 102 250"
      ]
     },
     "metadata": {},
     "output_type": "display_data"
    },
    {
     "data": {
      "text/html": [
       "<table>\n",
       "<caption>A tibble: 5 × 5</caption>\n",
       "<thead>\n",
       "\t<tr><th scope=col>PatientBarcode</th><th scope=col>930270</th><th scope=col>925750</th><th scope=col>925806</th><th scope=col>926381</th></tr>\n",
       "\t<tr><th scope=col>&lt;chr&gt;</th><th scope=col>&lt;dbl&gt;</th><th scope=col>&lt;dbl&gt;</th><th scope=col>&lt;dbl&gt;</th><th scope=col>&lt;dbl&gt;</th></tr>\n",
       "</thead>\n",
       "<tbody>\n",
       "\t<tr><td>TCGA-DA-A960</td><td>0.008969967</td><td>0.06633601</td><td>0.22041704</td><td>0.59319921</td></tr>\n",
       "\t<tr><td>TCGA-EB-A4OZ</td><td>0.044414078</td><td>0.03896521</td><td>0.03217417</td><td>0.16444896</td></tr>\n",
       "\t<tr><td>TCGA-FR-A3R1</td><td>0.458791632</td><td>0.13252756</td><td>0.28034058</td><td>0.03409465</td></tr>\n",
       "\t<tr><td>TCGA-XV-AAZY</td><td>0.036759801</td><td>0.08686758</td><td>0.13795425</td><td>0.63234072</td></tr>\n",
       "\t<tr><td>TCGA-EB-A6R0</td><td>0.081663821</td><td>0.11628640</td><td>0.08602340</td><td>0.15022659</td></tr>\n",
       "</tbody>\n",
       "</table>\n"
      ],
      "text/latex": [
       "A tibble: 5 × 5\n",
       "\\begin{tabular}{lllll}\n",
       " PatientBarcode & 930270 & 925750 & 925806 & 926381\\\\\n",
       " <chr> & <dbl> & <dbl> & <dbl> & <dbl>\\\\\n",
       "\\hline\n",
       "\t TCGA-DA-A960 & 0.008969967 & 0.06633601 & 0.22041704 & 0.59319921\\\\\n",
       "\t TCGA-EB-A4OZ & 0.044414078 & 0.03896521 & 0.03217417 & 0.16444896\\\\\n",
       "\t TCGA-FR-A3R1 & 0.458791632 & 0.13252756 & 0.28034058 & 0.03409465\\\\\n",
       "\t TCGA-XV-AAZY & 0.036759801 & 0.08686758 & 0.13795425 & 0.63234072\\\\\n",
       "\t TCGA-EB-A6R0 & 0.081663821 & 0.11628640 & 0.08602340 & 0.15022659\\\\\n",
       "\\end{tabular}\n"
      ],
      "text/markdown": [
       "\n",
       "A tibble: 5 × 5\n",
       "\n",
       "| PatientBarcode &lt;chr&gt; | 930270 &lt;dbl&gt; | 925750 &lt;dbl&gt; | 925806 &lt;dbl&gt; | 926381 &lt;dbl&gt; |\n",
       "|---|---|---|---|---|\n",
       "| TCGA-DA-A960 | 0.008969967 | 0.06633601 | 0.22041704 | 0.59319921 |\n",
       "| TCGA-EB-A4OZ | 0.044414078 | 0.03896521 | 0.03217417 | 0.16444896 |\n",
       "| TCGA-FR-A3R1 | 0.458791632 | 0.13252756 | 0.28034058 | 0.03409465 |\n",
       "| TCGA-XV-AAZY | 0.036759801 | 0.08686758 | 0.13795425 | 0.63234072 |\n",
       "| TCGA-EB-A6R0 | 0.081663821 | 0.11628640 | 0.08602340 | 0.15022659 |\n",
       "\n"
      ],
      "text/plain": [
       "  PatientBarcode 930270      925750     925806     926381    \n",
       "1 TCGA-DA-A960   0.008969967 0.06633601 0.22041704 0.59319921\n",
       "2 TCGA-EB-A4OZ   0.044414078 0.03896521 0.03217417 0.16444896\n",
       "3 TCGA-FR-A3R1   0.458791632 0.13252756 0.28034058 0.03409465\n",
       "4 TCGA-XV-AAZY   0.036759801 0.08686758 0.13795425 0.63234072\n",
       "5 TCGA-EB-A6R0   0.081663821 0.11628640 0.08602340 0.15022659"
      ]
     },
     "metadata": {},
     "output_type": "display_data"
    }
   ],
   "source": [
    "\n",
    "# making a matrix\n",
    "datmat <- pivot_wider(data = dat %>% dplyr::select(PatientBarcode, EdgeID, EdgeWt), names_from = EdgeID, values_from = EdgeWt)\n",
    "dim(datmat)\n",
    "datmat[1:5,1:5]\n"
   ]
  },
  {
   "cell_type": "code",
   "execution_count": 7,
   "metadata": {},
   "outputs": [],
   "source": [
    "\n",
    "# to pull out the phenotype\n",
    "labels <- sapply(datmat$PatientBarcode, function(a) (dat %>% dplyr::filter(PatientBarcode == a) %>% dplyr::select(PFI) %>% pull())[1])\n",
    "# and match the datmat partient barcode order\n",
    "labels <- labels[datmat$PatientBarcode]\n",
    "labels <- sapply(labels, function(a) paste0('pfi_',a))\n",
    "                 "
   ]
  },
  {
   "cell_type": "code",
   "execution_count": 8,
   "metadata": {},
   "outputs": [
    {
     "data": {
      "text/html": [
       "<table>\n",
       "<caption>A data.frame: 6 × 2</caption>\n",
       "<thead>\n",
       "\t<tr><th></th><th scope=col>Pheno</th><th scope=col>Edge1</th></tr>\n",
       "\t<tr><th></th><th scope=col>&lt;fct&gt;</th><th scope=col>&lt;dbl&gt;</th></tr>\n",
       "</thead>\n",
       "<tbody>\n",
       "\t<tr><th scope=row>TCGA-DA-A960</th><td>pfi_2</td><td>0.59319921</td></tr>\n",
       "\t<tr><th scope=row>TCGA-EB-A4OZ</th><td>pfi_2</td><td>0.16444896</td></tr>\n",
       "\t<tr><th scope=row>TCGA-FR-A3R1</th><td>pfi_2</td><td>0.03409465</td></tr>\n",
       "\t<tr><th scope=row>TCGA-XV-AAZY</th><td>pfi_2</td><td>0.63234072</td></tr>\n",
       "\t<tr><th scope=row>TCGA-EB-A6R0</th><td>pfi_2</td><td>0.15022659</td></tr>\n",
       "\t<tr><th scope=row>TCGA-EB-A3XC</th><td>pfi_1</td><td>0.35185688</td></tr>\n",
       "</tbody>\n",
       "</table>\n"
      ],
      "text/latex": [
       "A data.frame: 6 × 2\n",
       "\\begin{tabular}{r|ll}\n",
       "  & Pheno & Edge1\\\\\n",
       "  & <fct> & <dbl>\\\\\n",
       "\\hline\n",
       "\tTCGA-DA-A960 & pfi\\_2 & 0.59319921\\\\\n",
       "\tTCGA-EB-A4OZ & pfi\\_2 & 0.16444896\\\\\n",
       "\tTCGA-FR-A3R1 & pfi\\_2 & 0.03409465\\\\\n",
       "\tTCGA-XV-AAZY & pfi\\_2 & 0.63234072\\\\\n",
       "\tTCGA-EB-A6R0 & pfi\\_2 & 0.15022659\\\\\n",
       "\tTCGA-EB-A3XC & pfi\\_1 & 0.35185688\\\\\n",
       "\\end{tabular}\n"
      ],
      "text/markdown": [
       "\n",
       "A data.frame: 6 × 2\n",
       "\n",
       "| <!--/--> | Pheno &lt;fct&gt; | Edge1 &lt;dbl&gt; |\n",
       "|---|---|---|\n",
       "| TCGA-DA-A960 | pfi_2 | 0.59319921 |\n",
       "| TCGA-EB-A4OZ | pfi_2 | 0.16444896 |\n",
       "| TCGA-FR-A3R1 | pfi_2 | 0.03409465 |\n",
       "| TCGA-XV-AAZY | pfi_2 | 0.63234072 |\n",
       "| TCGA-EB-A6R0 | pfi_2 | 0.15022659 |\n",
       "| TCGA-EB-A3XC | pfi_1 | 0.35185688 |\n",
       "\n"
      ],
      "text/plain": [
       "             Pheno Edge1     \n",
       "TCGA-DA-A960 pfi_2 0.59319921\n",
       "TCGA-EB-A4OZ pfi_2 0.16444896\n",
       "TCGA-FR-A3R1 pfi_2 0.03409465\n",
       "TCGA-XV-AAZY pfi_2 0.63234072\n",
       "TCGA-EB-A6R0 pfi_2 0.15022659\n",
       "TCGA-EB-A3XC pfi_1 0.35185688"
      ]
     },
     "metadata": {},
     "output_type": "display_data"
    },
    {
     "data": {
      "text/html": [
       "&lt;NA&gt;"
      ],
      "text/latex": [
       "<NA>"
      ],
      "text/markdown": [
       "&lt;NA&gt;"
      ],
      "text/plain": [
       "[1] NA"
      ]
     },
     "metadata": {},
     "output_type": "display_data"
    },
    {
     "data": {
      "image/png": "[encoded data removed]",
      "text/plain": [
       "plot without title"
      ]
     },
     "metadata": {
      "image/png": {
       "height": 420,
       "width": 420
      },
      "text/plain": {
       "height": 420,
       "width": 420
      }
     },
     "output_type": "display_data"
    }
   ],
   "source": [
    "\n",
    "plotdat <- data.frame(Pheno=labels, Edge1=as.numeric(datmat[,5] %>% pull()))\n",
    "head(plotdat)\n",
    "qplot(data=plotdat, x=Pheno, y=Edge1, geom='boxplot', fill=as.factor(Pheno))\n",
    "median(as.numeric(plotdat$Edge1[plotdat$Pheno == 1]), na.rm = T)  - median(as.numeric(plotdat$Edge1[plotdat$Pheno == 2]), na.rm = T)\n"
   ]
  },
  {
   "cell_type": "code",
   "execution_count": 9,
   "metadata": {},
   "outputs": [],
   "source": [
    "\n",
    "# data prep #\n",
    "x <- as.data.frame(datmat[,-1])     # \n",
    "x$Phenotype <- labels             # probably don't need this since it goes to factor\n",
    "x <- x[x$Phenotype != 'pfi_NA', ] # remove NAs\n",
    "colnames(x) <- c(sapply(colnames(x)[1:(ncol(x)-1)], function(a) paste0('edge_',a)), 'Phenotype')\n",
    "x$Phenotype <- as.factor(x$Phenotype)\n",
    "x[is.na(x)] <- 0\n",
    "                        "
   ]
  },
  {
   "cell_type": "code",
   "execution_count": 10,
   "metadata": {},
   "outputs": [
    {
     "data": {
      "text/html": [
       "<table>\n",
       "<caption>A data.frame: 5 × 5</caption>\n",
       "<thead>\n",
       "\t<tr><th></th><th scope=col>edge_930270</th><th scope=col>edge_925750</th><th scope=col>edge_925806</th><th scope=col>edge_926381</th><th scope=col>edge_517677</th></tr>\n",
       "\t<tr><th></th><th scope=col>&lt;dbl&gt;</th><th scope=col>&lt;dbl&gt;</th><th scope=col>&lt;dbl&gt;</th><th scope=col>&lt;dbl&gt;</th><th scope=col>&lt;dbl&gt;</th></tr>\n",
       "</thead>\n",
       "<tbody>\n",
       "\t<tr><th scope=row>1</th><td>0.008969967</td><td>0.06633601</td><td>0.22041704</td><td>0.59319921</td><td>0.20020104</td></tr>\n",
       "\t<tr><th scope=row>2</th><td>0.044414078</td><td>0.03896521</td><td>0.03217417</td><td>0.16444896</td><td>0.38781689</td></tr>\n",
       "\t<tr><th scope=row>3</th><td>0.458791632</td><td>0.13252756</td><td>0.28034058</td><td>0.03409465</td><td>0.05511061</td></tr>\n",
       "\t<tr><th scope=row>4</th><td>0.036759801</td><td>0.08686758</td><td>0.13795425</td><td>0.63234072</td><td>0.27500894</td></tr>\n",
       "\t<tr><th scope=row>5</th><td>0.081663821</td><td>0.11628640</td><td>0.08602340</td><td>0.15022659</td><td>0.20987716</td></tr>\n",
       "</tbody>\n",
       "</table>\n"
      ],
      "text/latex": [
       "A data.frame: 5 × 5\n",
       "\\begin{tabular}{r|lllll}\n",
       "  & edge\\_930270 & edge\\_925750 & edge\\_925806 & edge\\_926381 & edge\\_517677\\\\\n",
       "  & <dbl> & <dbl> & <dbl> & <dbl> & <dbl>\\\\\n",
       "\\hline\n",
       "\t1 & 0.008969967 & 0.06633601 & 0.22041704 & 0.59319921 & 0.20020104\\\\\n",
       "\t2 & 0.044414078 & 0.03896521 & 0.03217417 & 0.16444896 & 0.38781689\\\\\n",
       "\t3 & 0.458791632 & 0.13252756 & 0.28034058 & 0.03409465 & 0.05511061\\\\\n",
       "\t4 & 0.036759801 & 0.08686758 & 0.13795425 & 0.63234072 & 0.27500894\\\\\n",
       "\t5 & 0.081663821 & 0.11628640 & 0.08602340 & 0.15022659 & 0.20987716\\\\\n",
       "\\end{tabular}\n"
      ],
      "text/markdown": [
       "\n",
       "A data.frame: 5 × 5\n",
       "\n",
       "| <!--/--> | edge_930270 &lt;dbl&gt; | edge_925750 &lt;dbl&gt; | edge_925806 &lt;dbl&gt; | edge_926381 &lt;dbl&gt; | edge_517677 &lt;dbl&gt; |\n",
       "|---|---|---|---|---|---|\n",
       "| 1 | 0.008969967 | 0.06633601 | 0.22041704 | 0.59319921 | 0.20020104 |\n",
       "| 2 | 0.044414078 | 0.03896521 | 0.03217417 | 0.16444896 | 0.38781689 |\n",
       "| 3 | 0.458791632 | 0.13252756 | 0.28034058 | 0.03409465 | 0.05511061 |\n",
       "| 4 | 0.036759801 | 0.08686758 | 0.13795425 | 0.63234072 | 0.27500894 |\n",
       "| 5 | 0.081663821 | 0.11628640 | 0.08602340 | 0.15022659 | 0.20987716 |\n",
       "\n"
      ],
      "text/plain": [
       "  edge_930270 edge_925750 edge_925806 edge_926381 edge_517677\n",
       "1 0.008969967 0.06633601  0.22041704  0.59319921  0.20020104 \n",
       "2 0.044414078 0.03896521  0.03217417  0.16444896  0.38781689 \n",
       "3 0.458791632 0.13252756  0.28034058  0.03409465  0.05511061 \n",
       "4 0.036759801 0.08686758  0.13795425  0.63234072  0.27500894 \n",
       "5 0.081663821 0.11628640  0.08602340  0.15022659  0.20987716 "
      ]
     },
     "metadata": {},
     "output_type": "display_data"
    },
    {
     "data": {
      "text/html": [
       "<style>\n",
       ".list-inline {list-style: none; margin:0; padding: 0}\n",
       ".list-inline>li {display: inline-block}\n",
       ".list-inline>li:not(:last-child)::after {content: \"\\00b7\"; padding: 0 .5ex}\n",
       "</style>\n",
       "<ol class=list-inline><li>102</li><li>250</li></ol>\n"
      ],
      "text/latex": [
       "\\begin{enumerate*}\n",
       "\\item 102\n",
       "\\item 250\n",
       "\\end{enumerate*}\n"
      ],
      "text/markdown": [
       "1. 102\n",
       "2. 250\n",
       "\n",
       "\n"
      ],
      "text/plain": [
       "[1] 102 250"
      ]
     },
     "metadata": {},
     "output_type": "display_data"
    },
    {
     "data": {
      "text/html": [
       "<table>\n",
       "<caption>A data.frame: 5 × 5</caption>\n",
       "<thead>\n",
       "\t<tr><th></th><th scope=col>edge_672840</th><th scope=col>edge_84115</th><th scope=col>edge_836622</th><th scope=col>edge_840011</th><th scope=col>edge_926348</th></tr>\n",
       "\t<tr><th></th><th scope=col>&lt;dbl&gt;</th><th scope=col>&lt;dbl&gt;</th><th scope=col>&lt;dbl&gt;</th><th scope=col>&lt;dbl&gt;</th><th scope=col>&lt;dbl&gt;</th></tr>\n",
       "</thead>\n",
       "<tbody>\n",
       "\t<tr><th scope=row>1</th><td>0.001176541</td><td>0.2995126</td><td>0.02562615</td><td>0.57205956</td><td>0.02610378</td></tr>\n",
       "\t<tr><th scope=row>2</th><td>0.667293456</td><td>0.3985119</td><td>0.39797780</td><td>0.24740256</td><td>0.36500313</td></tr>\n",
       "\t<tr><th scope=row>3</th><td>0.078085492</td><td>0.1805699</td><td>0.58819625</td><td>0.11748225</td><td>0.14226392</td></tr>\n",
       "\t<tr><th scope=row>4</th><td>0.004455359</td><td>0.6373509</td><td>0.92302421</td><td>0.67563518</td><td>0.56103589</td></tr>\n",
       "\t<tr><th scope=row>5</th><td>0.202230893</td><td>0.2193090</td><td>0.71845927</td><td>0.07216504</td><td>0.19854157</td></tr>\n",
       "</tbody>\n",
       "</table>\n"
      ],
      "text/latex": [
       "A data.frame: 5 × 5\n",
       "\\begin{tabular}{r|lllll}\n",
       "  & edge\\_672840 & edge\\_84115 & edge\\_836622 & edge\\_840011 & edge\\_926348\\\\\n",
       "  & <dbl> & <dbl> & <dbl> & <dbl> & <dbl>\\\\\n",
       "\\hline\n",
       "\t1 & 0.001176541 & 0.2995126 & 0.02562615 & 0.57205956 & 0.02610378\\\\\n",
       "\t2 & 0.667293456 & 0.3985119 & 0.39797780 & 0.24740256 & 0.36500313\\\\\n",
       "\t3 & 0.078085492 & 0.1805699 & 0.58819625 & 0.11748225 & 0.14226392\\\\\n",
       "\t4 & 0.004455359 & 0.6373509 & 0.92302421 & 0.67563518 & 0.56103589\\\\\n",
       "\t5 & 0.202230893 & 0.2193090 & 0.71845927 & 0.07216504 & 0.19854157\\\\\n",
       "\\end{tabular}\n"
      ],
      "text/markdown": [
       "\n",
       "A data.frame: 5 × 5\n",
       "\n",
       "| <!--/--> | edge_672840 &lt;dbl&gt; | edge_84115 &lt;dbl&gt; | edge_836622 &lt;dbl&gt; | edge_840011 &lt;dbl&gt; | edge_926348 &lt;dbl&gt; |\n",
       "|---|---|---|---|---|---|\n",
       "| 1 | 0.001176541 | 0.2995126 | 0.02562615 | 0.57205956 | 0.02610378 |\n",
       "| 2 | 0.667293456 | 0.3985119 | 0.39797780 | 0.24740256 | 0.36500313 |\n",
       "| 3 | 0.078085492 | 0.1805699 | 0.58819625 | 0.11748225 | 0.14226392 |\n",
       "| 4 | 0.004455359 | 0.6373509 | 0.92302421 | 0.67563518 | 0.56103589 |\n",
       "| 5 | 0.202230893 | 0.2193090 | 0.71845927 | 0.07216504 | 0.19854157 |\n",
       "\n"
      ],
      "text/plain": [
       "  edge_672840 edge_84115 edge_836622 edge_840011 edge_926348\n",
       "1 0.001176541 0.2995126  0.02562615  0.57205956  0.02610378 \n",
       "2 0.667293456 0.3985119  0.39797780  0.24740256  0.36500313 \n",
       "3 0.078085492 0.1805699  0.58819625  0.11748225  0.14226392 \n",
       "4 0.004455359 0.6373509  0.92302421  0.67563518  0.56103589 \n",
       "5 0.202230893 0.2193090  0.71845927  0.07216504  0.19854157 "
      ]
     },
     "metadata": {},
     "output_type": "display_data"
    }
   ],
   "source": [
    "x[1:5,1:5]\n",
    "dim(x)\n",
    "x[1:5,134:138]"
   ]
  },
  {
   "cell_type": "code",
   "execution_count": null,
   "metadata": {},
   "outputs": [],
   "source": []
  },
  {
   "cell_type": "code",
   "execution_count": null,
   "metadata": {},
   "outputs": [],
   "source": []
  },
  {
   "cell_type": "code",
   "execution_count": 20,
   "metadata": {},
   "outputs": [
    {
     "data": {
      "text/plain": [
       "Generalized Linear Model \n",
       "\n",
       "102 samples\n",
       " 28 predictor\n",
       "  2 classes: 'pfi_1', 'pfi_2' \n",
       "\n",
       "Pre-processing: centered (28), scaled (28) \n",
       "Resampling: Bootstrapped (25 reps) \n",
       "Summary of sample sizes: 102, 102, 102, 102, 102, 102, ... \n",
       "Resampling results:\n",
       "\n",
       "  Accuracy  Kappa    \n",
       "  0.622798  0.1232733\n"
      ]
     },
     "metadata": {},
     "output_type": "display_data"
    },
    {
     "data": {
      "text/plain": [
       "\n",
       "Call:  NULL\n",
       "\n",
       "Coefficients:\n",
       " (Intercept)  edge_1008243   edge_572401   edge_829509   edge_926242  \n",
       "     2.70318      -2.41880      -1.88699       8.82856      -1.04845  \n",
       "edge_1007705   edge_560324   edge_605189   edge_598572   edge_829539  \n",
       "     0.14670       2.86665      -4.50611      -3.59371      -6.67596  \n",
       " edge_560532   edge_610709  edge_1000977   edge_605893   edge_831194  \n",
       "     1.73403       5.24722      -7.74062       5.16361      -5.98430  \n",
       " edge_829424   edge_831189   edge_960536   edge_605890   edge_605093  \n",
       "     0.78523       8.55402      -1.19763      -8.92193      -3.60378  \n",
       " edge_605568   edge_926380   edge_609981  edge_1001395   edge_920447  \n",
       "    -0.07209      -2.86122       0.59186       2.73984      -0.89260  \n",
       " edge_925732   edge_577116   edge_926225   edge_605132  \n",
       "     3.77074       1.00146      -0.63152       2.79079  \n",
       "\n",
       "Degrees of Freedom: 101 Total (i.e. Null);  73 Residual\n",
       "Null Deviance:\t    117.9 \n",
       "Residual Deviance: 55.7 \tAIC: 113.7"
      ]
     },
     "metadata": {},
     "output_type": "display_data"
    },
    {
     "data": {
      "text/plain": [
       "Confusion Matrix and Statistics\n",
       "\n",
       "          Reference\n",
       "Prediction pfi_1 pfi_2\n",
       "     pfi_1    19     5\n",
       "     pfi_2     8    70\n",
       "                                          \n",
       "               Accuracy : 0.8725          \n",
       "                 95% CI : (0.7919, 0.9304)\n",
       "    No Information Rate : 0.7353          \n",
       "    P-Value [Acc > NIR] : 0.0006173       \n",
       "                                          \n",
       "                  Kappa : 0.6605          \n",
       "                                          \n",
       " Mcnemar's Test P-Value : 0.5790997       \n",
       "                                          \n",
       "            Sensitivity : 0.7037          \n",
       "            Specificity : 0.9333          \n",
       "         Pos Pred Value : 0.7917          \n",
       "         Neg Pred Value : 0.8974          \n",
       "             Prevalence : 0.2647          \n",
       "         Detection Rate : 0.1863          \n",
       "   Detection Prevalence : 0.2353          \n",
       "      Balanced Accuracy : 0.8185          \n",
       "                                          \n",
       "       'Positive' Class : pfi_1           \n",
       "                                          "
      ]
     },
     "metadata": {},
     "output_type": "display_data"
    },
    {
     "data": {
      "text/plain": [
       "glm variable importance\n",
       "\n",
       "  only 20 most important variables shown (out of 28)\n",
       "\n",
       "             Overall\n",
       "edge_572401   100.00\n",
       "edge_829509    98.27\n",
       "edge_926380    84.52\n",
       "edge_598572    82.52\n",
       "edge_605093    77.94\n",
       "edge_1008243   74.50\n",
       "edge_1001395   73.28\n",
       "edge_1000977   72.42\n",
       "edge_925732    69.85\n",
       "edge_610709    58.81\n",
       "edge_960536    54.99\n",
       "edge_605132    48.65\n",
       "edge_560324    43.86\n",
       "edge_926242    42.07\n",
       "edge_829539    41.91\n",
       "edge_577116    38.99\n",
       "edge_605890    31.30\n",
       "edge_920447    31.02\n",
       "edge_605189    30.34\n",
       "edge_831189    25.64"
      ]
     },
     "metadata": {},
     "output_type": "display_data"
    },
    {
     "name": "stdout",
     "output_type": "stream",
     "text": [
      "Phenotype ~ edge_1008243 + edge_572401 + edge_829509 + edge_598572 + \n",
      "    edge_1000977 + edge_605093 + edge_926380 + edge_1001395\n"
     ]
    },
    {
     "data": {
      "text/plain": [
       "\n",
       "Call:\n",
       "glm(formula = f, family = binomial(link = \"logit\"), data = vardat)\n",
       "\n",
       "Deviance Residuals: \n",
       "    Min       1Q   Median       3Q      Max  \n",
       "-2.3940  -0.3697   0.4180   0.6407   1.7573  \n",
       "\n",
       "Coefficients:\n",
       "             Estimate Std. Error z value Pr(>|z|)    \n",
       "(Intercept)    4.0944     0.8903   4.599 4.24e-06 ***\n",
       "edge_1008243  -3.9640     2.0113  -1.971   0.0487 *  \n",
       "edge_572401   -2.0801     1.6809  -1.237   0.2159    \n",
       "edge_829509    4.6522     5.0814   0.916   0.3599    \n",
       "edge_598572   -1.2109     4.3831  -0.276   0.7823    \n",
       "edge_1000977  -6.2514     3.7021  -1.689   0.0913 .  \n",
       "edge_605093   -5.1973     2.2304  -2.330   0.0198 *  \n",
       "edge_926380   -3.1302     1.4439  -2.168   0.0302 *  \n",
       "edge_1001395   4.3520     2.2343   1.948   0.0514 .  \n",
       "---\n",
       "Signif. codes:  0 ‘***’ 0.001 ‘**’ 0.01 ‘*’ 0.05 ‘.’ 0.1 ‘ ’ 1\n",
       "\n",
       "(Dispersion parameter for binomial family taken to be 1)\n",
       "\n",
       "    Null deviance: 117.896  on 101  degrees of freedom\n",
       "Residual deviance:  86.945  on  93  degrees of freedom\n",
       "AIC: 104.95\n",
       "\n",
       "Number of Fisher Scoring iterations: 5\n"
      ]
     },
     "metadata": {},
     "output_type": "display_data"
    }
   ],
   "source": [
    "# using caret with the above model\n",
    "\n",
    "options(warn = -1)\n",
    "\n",
    "varlist <- c()\n",
    "varedges <- colnames(x)[-(ncol(x))]\n",
    "\n",
    "for (vi in varedges) {\n",
    "    f <- formula(x = paste0('Phenotype ~ ', vi))\n",
    "\n",
    "    m1 = glm(data = x, f, family = binomial(link = \"logit\"))\n",
    "\n",
    "    summ1 <- summary(m1)\n",
    "\n",
    "    if (summ1$coefficients[2,4] < 0.01 & summ1$coefficients[1,4] < 0.01 ) {\n",
    "        #print(summ1)\n",
    "        varlist <- c(vi, varlist)\n",
    "    }    \n",
    "}\n",
    "\n",
    "\n",
    "idx <- createDataPartition(x$Phenotype, \n",
    "                           p = .8, \n",
    "                           list = FALSE, \n",
    "                           times = 1)\n",
    "vardat <- x[, c('Phenotype', varlist)]\n",
    "     \n",
    "\n",
    "full_fit <- caret::train(Phenotype ~ ., data=vardat,  # train, \n",
    "                         method=\"glm\", \n",
    "                         family=\"binomial\",  \n",
    "                         preProc=c(\"center\", \"scale\"),\n",
    "                         metric = 'AIC')\n",
    "\n",
    "full_fit\n",
    "\n",
    "full_fit$finalModel\n",
    "\n",
    "\n",
    "pred = predict(full_fit, newdata=vardat)\n",
    "confusionMatrix(data=pred, vardat$Phenotype)\n",
    "\n",
    "full_vars <- varImp(full_fit)\n",
    "\n",
    "full_vars\n",
    "\n",
    "edges <- rownames(full_vars$importance)[full_vars$importance$Overall > 70]\n",
    "f <- formula(paste0('Phenotype ~ ', paste(edges, sep = '+', collapse = '+')))\n",
    "print(f)\n",
    "\n",
    "m1 = glm(data = vardat, formula = f, family = binomial(link = \"logit\")) # full model\n",
    "summary(m1)\n"
   ]
  },
  {
   "cell_type": "code",
   "execution_count": 16,
   "metadata": {},
   "outputs": [
    {
     "name": "stdout",
     "output_type": "stream",
     "text": [
      "Phenotype ~ edge_1007705\n"
     ]
    },
    {
     "data": {
      "text/plain": [
       "\n",
       "Call:\n",
       "glm(formula = f, family = binomial(link = \"logit\"), data = vardat)\n",
       "\n",
       "Deviance Residuals: \n",
       "    Min       1Q   Median       3Q      Max  \n",
       "-1.9573  -0.6423   0.5737   0.6688   2.2596  \n",
       "\n",
       "Coefficients:\n",
       "             Estimate Std. Error z value Pr(>|z|)    \n",
       "(Intercept)     1.765      0.332   5.316 1.06e-07 ***\n",
       "edge_1007705   -8.061      2.366  -3.407 0.000657 ***\n",
       "---\n",
       "Signif. codes:  0 ‘***’ 0.001 ‘**’ 0.01 ‘*’ 0.05 ‘.’ 0.1 ‘ ’ 1\n",
       "\n",
       "(Dispersion parameter for binomial family taken to be 1)\n",
       "\n",
       "    Null deviance: 117.90  on 101  degrees of freedom\n",
       "Residual deviance: 103.36  on 100  degrees of freedom\n",
       "AIC: 107.36\n",
       "\n",
       "Number of Fisher Scoring iterations: 4\n"
      ]
     },
     "metadata": {},
     "output_type": "display_data"
    }
   ],
   "source": [
    "edges <- rownames(full_vars$importance)[full_vars$importance$Overall > 80]\n",
    "f <- formula(paste0('Phenotype ~ ', paste(edges, sep = '+', collapse = '+')))\n",
    "print(f)\n",
    "\n",
    "m1 = glm(data = vardat, formula = f, family = binomial(link = \"logit\")) # full model\n",
    "summary(m1)"
   ]
  },
  {
   "cell_type": "code",
   "execution_count": null,
   "metadata": {},
   "outputs": [],
   "source": []
  },
  {
   "cell_type": "code",
   "execution_count": null,
   "metadata": {},
   "outputs": [],
   "source": []
  },
  {
   "cell_type": "code",
   "execution_count": 13,
   "metadata": {},
   "outputs": [
    {
     "data": {
      "text/plain": [
       "glm variable importance\n",
       "\n",
       "  only 20 most important variables shown (out of 67)\n",
       "\n",
       "             Overall\n",
       "edge_813564   100.00\n",
       "edge_795432    84.24\n",
       "edge_960536    81.29\n",
       "edge_813443    80.01\n",
       "edge_80934     70.54\n",
       "edge_81365     66.93\n",
       "edge_81146     66.35\n",
       "edge_572401    64.77\n",
       "edge_79074     64.15\n",
       "edge_689964    59.53\n",
       "edge_1007705   55.89\n",
       "edge_80790     55.26\n",
       "edge_577116    55.21\n",
       "edge_925732    54.94\n",
       "edge_926225    51.38\n",
       "edge_598323    51.23\n",
       "edge_926380    48.31\n",
       "edge_795359    47.94\n",
       "edge_1032926   47.02\n",
       "edge_77981     46.49"
      ]
     },
     "metadata": {},
     "output_type": "display_data"
    },
    {
     "data": {
      "text/html": [
       "16"
      ],
      "text/latex": [
       "16"
      ],
      "text/markdown": [
       "16"
      ],
      "text/plain": [
       "[1] 16"
      ]
     },
     "metadata": {},
     "output_type": "display_data"
    },
    {
     "ename": "ERROR",
     "evalue": "Error in tbl_vars_dispatch(x): object 'varimpmat' not found\n",
     "output_type": "error",
     "traceback": [
      "Error in tbl_vars_dispatch(x): object 'varimpmat' not found\nTraceback:\n",
      "1. dplyr::inner_join(top_edges, varimpmat)",
      "2. inner_join.tbl_df(top_edges, varimpmat)",
      "3. check_valid_names(tbl_vars(y))",
      "4. tbl_vars(y)",
      "5. new_sel_vars(tbl_vars_dispatch(x), group_vars(x))",
      "6. structure(vars, groups = group_vars, class = c(\"dplyr_sel_vars\", \n .     \"character\"))",
      "7. tbl_vars_dispatch(x)"
     ]
    }
   ],
   "source": [
    "\n",
    "full_vars <- varImp(full_fit)\n",
    "edges <- as.numeric( str_replace_all(rownames(full_vars$importance)[full_vars$importance$Overall > 50], 'edge_', '') )\n",
    "full_vars\n",
    "length(edges)\n",
    "\n",
    "top_edges <- dat %>% dplyr::filter(EdgeID %in% edges) %>% \n",
    "  dplyr::select(Study, EdgeID, LCell, Ligand, Receptor, RCell, S1, med_diff) %>% \n",
    "  dplyr::group_by(Study, EdgeID, LCell, Ligand, Receptor, RCell) %>% \n",
    "  dplyr::summarize(S1avg = mean(S1), med_diff_avg=mean(med_diff)) \n",
    "  \n",
    "top_edges <- dplyr::inner_join(top_edges, varimpmat) \n",
    "colnames(top_edges)[9] <- 'imp'\n",
    "top_edges %>% dplyr::arrange(desc(imp))\n"
   ]
  },
  {
   "cell_type": "code",
   "execution_count": null,
   "metadata": {},
   "outputs": [],
   "source": []
  },
  {
   "cell_type": "code",
   "execution_count": null,
   "metadata": {},
   "outputs": [],
   "source": []
  },
  {
   "cell_type": "code",
   "execution_count": 14,
   "metadata": {},
   "outputs": [
    {
     "name": "stderr",
     "output_type": "stream",
     "text": [
      "\n",
      "Attaching package: ‘MASS’\n",
      "\n",
      "\n",
      "The following object is masked from ‘package:dplyr’:\n",
      "\n",
      "    select\n",
      "\n",
      "\n"
     ]
    },
    {
     "data": {
      "text/plain": [
       "\n",
       "Call:\n",
       "glm(formula = Phenotype ~ edge_1008243 + edge_572401 + edge_829509 + \n",
       "    edge_560324 + edge_598572 + edge_1000977 + edge_605893 + \n",
       "    edge_960536 + edge_605890 + edge_81365 + edge_80934 + edge_69638 + \n",
       "    edge_731021 + edge_77981 + edge_79074 + edge_605093 + edge_689964 + \n",
       "    edge_813443 + edge_81146 + edge_81355 + edge_843228 + edge_795316 + \n",
       "    edge_69504 + edge_926380, family = binomial(link = \"logit\"), \n",
       "    data = vardat)\n",
       "\n",
       "Deviance Residuals: \n",
       "       Min          1Q      Median          3Q         Max  \n",
       "-1.057e-04  -2.100e-08   2.100e-08   2.100e-08   1.189e-04  \n",
       "\n",
       "Coefficients:\n",
       "              Estimate Std. Error z value Pr(>|z|)\n",
       "(Intercept)      900.3   214849.3   0.004    0.997\n",
       "edge_1008243    -936.6   364015.2  -0.003    0.998\n",
       "edge_572401    -1323.7   208479.8  -0.006    0.995\n",
       "edge_829509     2655.4   553829.9   0.005    0.996\n",
       "edge_560324     2595.0   713201.1   0.004    0.997\n",
       "edge_598572    -2357.4   356323.9  -0.007    0.995\n",
       "edge_1000977   -1458.4   827209.3  -0.002    0.999\n",
       "edge_605893     3260.9   796373.2   0.004    0.997\n",
       "edge_960536    -1802.8   437305.2  -0.004    0.997\n",
       "edge_605890    -2625.2   716003.1  -0.004    0.997\n",
       "edge_81365    -19722.8  2900108.5  -0.007    0.995\n",
       "edge_80934      7471.2  1166549.2   0.006    0.995\n",
       "edge_69638     10510.9  1552133.8   0.007    0.995\n",
       "edge_731021     1427.8   219539.9   0.007    0.995\n",
       "edge_77981      6328.9  1031938.2   0.006    0.995\n",
       "edge_79074     -6512.7  1045498.4  -0.006    0.995\n",
       "edge_605093     -457.6    69194.7  -0.007    0.995\n",
       "edge_689964     3954.3   893724.3   0.004    0.996\n",
       "edge_813443     6519.0  1841020.4   0.004    0.997\n",
       "edge_81146     17695.7  2752916.8   0.006    0.995\n",
       "edge_81355     -4277.6  1093756.9  -0.004    0.997\n",
       "edge_843228    -1240.7   354944.4  -0.003    0.997\n",
       "edge_795316    -9162.6  1266719.2  -0.007    0.994\n",
       "edge_69504    -13965.7  2082230.0  -0.007    0.995\n",
       "edge_926380    -1855.0   307257.0  -0.006    0.995\n",
       "\n",
       "(Dispersion parameter for binomial family taken to be 1)\n",
       "\n",
       "    Null deviance: 1.1790e+02  on 101  degrees of freedom\n",
       "Residual deviance: 1.2303e-07  on  77  degrees of freedom\n",
       "AIC: 50\n",
       "\n",
       "Number of Fisher Scoring iterations: 25\n"
      ]
     },
     "metadata": {},
     "output_type": "display_data"
    },
    {
     "data": {
      "text/plain": [
       "       \n",
       "        FALSE TRUE\n",
       "  pfi_1    27    0\n",
       "  pfi_2     0   75"
      ]
     },
     "metadata": {},
     "output_type": "display_data"
    }
   ],
   "source": [
    "# step model #\n",
    "# inital step\n",
    "library(MASS)\n",
    "\n",
    "varlist <- c()\n",
    "varedges <- colnames(x)[-(ncol(x))]\n",
    "\n",
    "for (vi in varedges) {\n",
    "    f <- formula(x = paste0('Phenotype ~ ', vi))\n",
    "\n",
    "    m1 = glm(data = x, f, family = binomial(link = \"logit\"))\n",
    "\n",
    "    summ1 <- summary(m1)\n",
    "\n",
    "    if (summ1$coefficients[2,4] < 0.01) {\n",
    "        varlist <- c(vi, varlist)\n",
    "    }    \n",
    "}\n",
    "\n",
    "\n",
    "idx <- createDataPartition(x$Phenotype, \n",
    "                           p = .8, \n",
    "                           list = FALSE, \n",
    "                           times = 1)\n",
    "\n",
    "train <- x[idx,c('Phenotype', varlist)]\n",
    "test <- x[-idx,c('Phenotype', varlist)]\n",
    "vardat <- x[, c('Phenotype', varlist)]\n",
    "     \n",
    "options(warn = -1)\n",
    "m1 = glm(data = vardat, Phenotype ~ ., \n",
    "         family = binomial(link = \"logit\")) # full model\n",
    "\n",
    "stepModel <- stepAIC(m1, direction = 'both', trace = F)\n",
    "summary(stepModel)\n",
    "\n",
    "pred <- predict(stepModel, vardat)\n",
    "table(vardat$Phenotype, pred > 0.5)"
   ]
  }
 ],
 "metadata": {
  "kernelspec": {
   "display_name": "R",
   "language": "R",
   "name": "ir"
  },
  "language_info": {
   "codemirror_mode": "r",
   "file_extension": ".r",
   "mimetype": "text/x-r-source",
   "name": "R",
   "pygments_lexer": "r",
   "version": "3.6.3"
  }
 },
 "nbformat": 4,
 "nbformat_minor": 4
}
